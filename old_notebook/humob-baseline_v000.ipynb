{
 "cells": [
  {
   "cell_type": "markdown",
   "metadata": {},
   "source": [
    "## cityB validation"
   ]
  },
  {
   "cell_type": "markdown",
   "metadata": {},
   "source": [
    "### 設定"
   ]
  },
  {
   "cell_type": "code",
   "execution_count": null,
   "metadata": {
    "vscode": {
     "languageId": "plaintext"
    }
   },
   "outputs": [],
   "source": [
    "import pandas as pd\n",
    "import numpy as np\n",
    "import geobleu"
   ]
  },
  {
   "cell_type": "markdown",
   "metadata": {},
   "source": [
    "### 定数定義"
   ]
  },
  {
   "cell_type": "code",
   "execution_count": null,
   "metadata": {
    "vscode": {
     "languageId": "plaintext"
    }
   },
   "outputs": [],
   "source": [
    "# 7:00～20:00を日中と定義\n",
    "MORNING_T = 14 # AM7時\n",
    "NIGHT_T = 40 # PM8時\n",
    "\n",
    "# 曜日の数（不変）\n",
    "DOW_COUNT = 7"
   ]
  },
  {
   "cell_type": "code",
   "execution_count": null,
   "metadata": {
    "vscode": {
     "languageId": "plaintext"
    }
   },
   "outputs": [],
   "source": [
    "INPUT_PATH = \"../../01_public/humob-challenge-2024/input/cityB_challengedata.csv.gz\""
   ]
  },
  {
   "cell_type": "markdown",
   "metadata": {},
   "source": [
    "### データ読み込み・分割"
   ]
  },
  {
   "cell_type": "code",
   "execution_count": null,
   "metadata": {
    "vscode": {
     "languageId": "plaintext"
    }
   },
   "outputs": [],
   "source": [
    "df_city_b = pd.read_csv(INPUT_PATH)\n",
    "df_city_b.head(3)"
   ]
  },
  {
   "cell_type": "code",
   "execution_count": null,
   "metadata": {
    "vscode": {
     "languageId": "plaintext"
    }
   },
   "outputs": [],
   "source": [
    "df_city_b[\"dow\"] = df_city_b[\"d\"] % DOW_COUNT\n",
    "df_city_b[\"t_label\"] = (\n",
    "    df_city_b[\"t\"]\n",
    "    .apply(lambda x: \"daytime\" if MORNING_T <= x < NIGHT_T else \"nighttime\")  \n",
    ")\n",
    "df_city_b.head(3)"
   ]
  },
  {
   "cell_type": "code",
   "execution_count": null,
   "metadata": {
    "vscode": {
     "languageId": "plaintext"
    }
   },
   "outputs": [],
   "source": [
    "# uidが20000~21999のデータを検証に利用\n",
    "df_city_b_valid = (\n",
    "    df_city_b\n",
    "    .loc[df_city_b[\"uid\"].between(20000, 21999)]\n",
    ")\n",
    "df_city_b_valid.head(3)"
   ]
  },
  {
   "cell_type": "code",
   "execution_count": null,
   "metadata": {
    "vscode": {
     "languageId": "plaintext"
    }
   },
   "outputs": [],
   "source": [
    "# dが60前後でデータを分割\n",
    "df_city_b_train = (\n",
    "    df_city_b_valid\n",
    "    .loc[df_city_b_valid[\"d\"] < 60]\n",
    ")\n",
    "\n",
    "df_city_b_answer = (\n",
    "    df_city_b_valid\n",
    "    .loc[df_city_b_valid[\"d\"] >= 60]\n",
    ")"
   ]
  },
  {
   "cell_type": "markdown",
   "metadata": {},
   "source": [
    "### 欠損値補完テーブル作成"
   ]
  },
  {
   "cell_type": "code",
   "execution_count": null,
   "metadata": {
    "vscode": {
     "languageId": "plaintext"
    }
   },
   "outputs": [],
   "source": [
    "# uid×dow×t毎に最頻値を算出\n",
    "df_dow_t_mode = (\n",
    "    df_city_b_train\n",
    "    .groupby([\"uid\", \"dow\", \"t\"])\n",
    "    [[\"x\", \"y\"]]\n",
    "    .agg(\n",
    "        lambda x: x.mode().iloc[0]\n",
    "    )\n",
    "    .reset_index()\n",
    "\n",
    "    .rename(\n",
    "        columns={\"x\": \"dow_t_x\", \"y\": \"dow_t_y\"}\n",
    "    )\n",
    ")\n",
    "df_dow_t_mode.head(3)"
   ]
  },
  {
   "cell_type": "code",
   "execution_count": null,
   "metadata": {
    "vscode": {
     "languageId": "plaintext"
    }
   },
   "outputs": [],
   "source": [
    "# uid×t毎に最頻値を算出\n",
    "df_t_mode = (\n",
    "    df_city_b_train\n",
    "    .groupby([\"uid\", \"t\"])\n",
    "    [[\"x\", \"y\"]]\n",
    "    .agg(\n",
    "        lambda x: x.mode().iloc[0]\n",
    "    )\n",
    "\n",
    "    .reset_index()\n",
    "\n",
    "    .rename(\n",
    "        columns={\"x\": \"t_x\", \"y\": \"t_y\"}\n",
    "    )\n",
    ")\n",
    "df_t_mode.head(3)"
   ]
  },
  {
   "cell_type": "code",
   "execution_count": null,
   "metadata": {
    "vscode": {
     "languageId": "plaintext"
    }
   },
   "outputs": [],
   "source": [
    "# uid×dow×t_label毎に最頻値を算出\n",
    "df_dow_t_label_mode = (\n",
    "    df_city_b_train\n",
    "    .groupby([\"uid\", \"dow\", \"t_label\"])\n",
    "    [[\"x\", \"y\"]]\n",
    "    .agg(\n",
    "        lambda x: x.mode().iloc[0]\n",
    "    )\n",
    "    .reset_index()\n",
    "\n",
    "    .rename(\n",
    "        columns={\"x\": \"dow_t_label_x\", \"y\": \"dow_t_label_y\"}\n",
    "    )\n",
    ")\n",
    "df_dow_t_label_mode.head(3)"
   ]
  },
  {
   "cell_type": "code",
   "execution_count": null,
   "metadata": {
    "vscode": {
     "languageId": "plaintext"
    }
   },
   "outputs": [],
   "source": [
    "# uid×t_label毎に最頻値を算出\n",
    "df_t_label_mode = (\n",
    "    df_city_b_train\n",
    "    .groupby([\"uid\", \"t_label\"])\n",
    "    [[\"x\", \"y\"]]\n",
    "    .agg(\n",
    "        lambda x: x.mode().iloc[0]\n",
    "    )\n",
    "\n",
    "    .reset_index()\n",
    "\n",
    "    .rename(\n",
    "        columns={\"x\": \"t_label_x\", \"y\": \"t_label_y\"}\n",
    "    )\n",
    ")\n",
    "df_t_label_mode.head(3)"
   ]
  },
  {
   "cell_type": "code",
   "execution_count": null,
   "metadata": {
    "vscode": {
     "languageId": "plaintext"
    }
   },
   "outputs": [],
   "source": [
    "# uid毎に最頻値を算出\n",
    "df_uid_mode = (\n",
    "    df_city_b_train\n",
    "    .groupby([\"uid\"])\n",
    "    [[\"x\", \"y\"]]\n",
    "    .agg(\n",
    "        lambda x: x.mode().iloc[0]\n",
    "    )\n",
    "\n",
    "    .reset_index()\n",
    "\n",
    "    .rename(\n",
    "        columns={\"x\": \"uid_x\", \"y\": \"uid_y\"}\n",
    "    )\n",
    ")\n",
    "df_uid_mode.head(3)"
   ]
  },
  {
   "cell_type": "markdown",
   "metadata": {},
   "source": [
    "### 予測"
   ]
  },
  {
   "cell_type": "code",
   "execution_count": null,
   "metadata": {
    "vscode": {
     "languageId": "plaintext"
    }
   },
   "outputs": [],
   "source": [
    "# 欠損値補完テーブルを結合\n",
    "df_city_b_pred = (\n",
    "    df_city_b_answer\n",
    "\n",
    "    .merge(df_dow_t_mode, on=[\"uid\", \"dow\", \"t\"], how=\"left\")\n",
    "    .merge(df_t_mode, on=[\"uid\", \"t\"], how=\"left\")\n",
    "    .merge(df_dow_t_label_mode, on=[\"uid\", \"dow\", \"t_label\"], how=\"left\")\n",
    "    .merge(df_t_label_mode, on=[\"uid\", \"t_label\"], how=\"left\")\n",
    "    .merge(df_uid_mode, on=[\"uid\"], how=\"left\")\n",
    ")"
   ]
  },
  {
   "cell_type": "code",
   "execution_count": null,
   "metadata": {
    "vscode": {
     "languageId": "plaintext"
    }
   },
   "outputs": [],
   "source": [
    "# 優先順位をつけて最終的な予測値を算出\n",
    "df_city_b_pred[\"pred_x\"] = (\n",
    "    df_city_b_pred[\"dow_t_x\"]\n",
    "    .fillna(df_city_b_pred[\"t_x\"])\n",
    "    .fillna(df_city_b_pred[\"dow_t_label_x\"])\n",
    "    .fillna(df_city_b_pred[\"t_label_x\"])\n",
    "    .fillna(df_city_b_pred[\"uid_x\"])\n",
    ")\n",
    "\n",
    "df_city_b_pred[\"pred_y\"] = (\n",
    "    df_city_b_pred[\"dow_t_y\"]\n",
    "    .fillna(df_city_b_pred[\"t_y\"])\n",
    "    .fillna(df_city_b_pred[\"dow_t_label_y\"])\n",
    "    .fillna(df_city_b_pred[\"t_label_y\"])\n",
    "    .fillna(df_city_b_pred[\"uid_y\"])\n",
    ")"
   ]
  },
  {
   "cell_type": "code",
   "execution_count": null,
   "metadata": {
    "vscode": {
     "languageId": "plaintext"
    }
   },
   "outputs": [],
   "source": [
    "# 最終的なdf\n",
    "df_city_b_pred[[\"uid\", \"d\", \"t\", \"x\", \"y\", \"pred_x\", \"pred_y\"]]"
   ]
  },
  {
   "cell_type": "markdown",
   "metadata": {},
   "source": [
    "### 精度検証"
   ]
  },
  {
   "cell_type": "code",
   "execution_count": null,
   "metadata": {
    "vscode": {
     "languageId": "plaintext"
    }
   },
   "outputs": [],
   "source": [
    "list_geobleu_val = []\n",
    "list_dtw_val = []\n",
    "\n",
    "for i in range(20000, 22000):\n",
    "    \n",
    "    # 該当uidのデータを抽出\n",
    "    df = (\n",
    "        df_city_b_pred\n",
    "        .loc[df_city_b_pred[\"uid\"] == i]\n",
    "    )\n",
    "\n",
    "    # 予測値のリスト\n",
    "    df_pred = df[[\"d\", \"t\", \"pred_x\", \"pred_y\"]]\n",
    "    list_pred = [tuple(row) for row in df_pred.to_records(index=False)]\n",
    "\n",
    "    # 正解値のリスト\n",
    "    df_answer = df[[\"d\", \"t\", \"x\", \"y\"]]\n",
    "    list_answer = [tuple(row) for row in df_answer.to_records(index=False)]\n",
    "\n",
    "    # スコア算出\n",
    "    geobleu_val = geobleu.calc_geobleu(list_pred, list_answer, processes=3)\n",
    "    list_geobleu_val.append(geobleu_val)\n",
    "    \n",
    "    dtw_val = geobleu.calc_dtw(list_pred, list_answer, processes=3)\n",
    "    list_dtw_val.append(dtw_val)\n"
   ]
  },
  {
   "cell_type": "code",
   "execution_count": null,
   "metadata": {
    "vscode": {
     "languageId": "plaintext"
    }
   },
   "outputs": [],
   "source": [
    "print(f\"geobleu:{np.mean(list_geobleu_val)}\")\n",
    "print(f\"dtw:{np.mean(list_dtw_val)}\")"
   ]
  }
 ],
 "metadata": {
  "language_info": {
   "name": "python"
  }
 },
 "nbformat": 4,
 "nbformat_minor": 2
}
