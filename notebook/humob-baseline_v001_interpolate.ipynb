{
 "cells": [
  {
   "cell_type": "markdown",
   "id": "a5cdb8fd",
   "metadata": {
    "papermill": {
     "duration": 0.013077,
     "end_time": "2024-09-08T23:18:16.884090",
     "exception": false,
     "start_time": "2024-09-08T23:18:16.871013",
     "status": "completed"
    },
    "tags": []
   },
   "source": [
    "## cityB validation"
   ]
  },
  {
   "cell_type": "markdown",
   "id": "987579ec",
   "metadata": {
    "papermill": {
     "duration": 0.012138,
     "end_time": "2024-09-08T23:18:16.909045",
     "exception": false,
     "start_time": "2024-09-08T23:18:16.896907",
     "status": "completed"
    },
    "tags": []
   },
   "source": [
    "### 設定"
   ]
  },
  {
   "cell_type": "code",
   "execution_count": 1,
   "id": "a87e77b1",
   "metadata": {
    "execution": {
     "iopub.execute_input": "2024-09-08T23:18:16.935844Z",
     "iopub.status.busy": "2024-09-08T23:18:16.935382Z",
     "iopub.status.idle": "2024-09-08T23:18:38.890473Z",
     "shell.execute_reply": "2024-09-08T23:18:38.888967Z"
    },
    "papermill": {
     "duration": 21.971946,
     "end_time": "2024-09-08T23:18:38.893406",
     "exception": false,
     "start_time": "2024-09-08T23:18:16.921460",
     "status": "completed"
    },
    "tags": []
   },
   "outputs": [
    {
     "name": "stdout",
     "output_type": "stream",
     "text": [
      "Cloning into 'geobleu'...\r\n",
      "remote: Enumerating objects: 156, done.\u001b[K\r\n",
      "remote: Counting objects: 100% (156/156), done.\u001b[K\r\n",
      "remote: Compressing objects: 100% (107/107), done.\u001b[K\r\n",
      "remote: Total 156 (delta 75), reused 126 (delta 46), pack-reused 0 (from 0)\u001b[K\r\n",
      "Receiving objects: 100% (156/156), 26.72 KiB | 5.34 MiB/s, done.\r\n",
      "Resolving deltas: 100% (75/75), done.\r\n",
      "Processing ./geobleu\r\n",
      "  Preparing metadata (setup.py) ... \u001b[?25ldone\r\n",
      "\u001b[?25hRequirement already satisfied: numpy in /opt/conda/lib/python3.10/site-packages (from geobleu==0.3) (1.26.4)\r\n",
      "Requirement already satisfied: scipy in /opt/conda/lib/python3.10/site-packages (from geobleu==0.3) (1.14.0)\r\n",
      "Building wheels for collected packages: geobleu\r\n",
      "  Building wheel for geobleu (setup.py) ... \u001b[?25l-\b \bdone\r\n",
      "\u001b[?25h  Created wheel for geobleu: filename=geobleu-0.3-py3-none-any.whl size=5037 sha256=07f9a8a2639ae3d362902a2b61783338abf8b22d063a5e4e7cb0ad4d4c4d5615\r\n",
      "  Stored in directory: /tmp/pip-ephem-wheel-cache-htpkcmov/wheels/ed/5d/64/4ba68bf198dc931381fb27d7eec45b1a2de54ca3eec437763a\r\n",
      "Successfully built geobleu\r\n",
      "Installing collected packages: geobleu\r\n",
      "Successfully installed geobleu-0.3\r\n"
     ]
    }
   ],
   "source": [
    "# BLEUのインストール\n",
    "!git clone https://github.com/yahoojapan/geobleu.git\n",
    "!pip install /kaggle/working/geobleu/"
   ]
  },
  {
   "cell_type": "code",
   "execution_count": 2,
   "id": "6d6bc9ba",
   "metadata": {
    "execution": {
     "iopub.execute_input": "2024-09-08T23:18:38.924493Z",
     "iopub.status.busy": "2024-09-08T23:18:38.923972Z",
     "iopub.status.idle": "2024-09-08T23:18:40.652668Z",
     "shell.execute_reply": "2024-09-08T23:18:40.651253Z"
    },
    "papermill": {
     "duration": 1.747304,
     "end_time": "2024-09-08T23:18:40.655574",
     "exception": false,
     "start_time": "2024-09-08T23:18:38.908270",
     "status": "completed"
    },
    "tags": []
   },
   "outputs": [],
   "source": [
    "import pandas as pd\n",
    "import numpy as np\n",
    "import geobleu"
   ]
  },
  {
   "cell_type": "markdown",
   "id": "975488d6",
   "metadata": {
    "papermill": {
     "duration": 0.013519,
     "end_time": "2024-09-08T23:18:40.683006",
     "exception": false,
     "start_time": "2024-09-08T23:18:40.669487",
     "status": "completed"
    },
    "tags": []
   },
   "source": [
    "### 定数定義"
   ]
  },
  {
   "cell_type": "code",
   "execution_count": 3,
   "id": "25e0bc26",
   "metadata": {
    "execution": {
     "iopub.execute_input": "2024-09-08T23:18:40.713761Z",
     "iopub.status.busy": "2024-09-08T23:18:40.713084Z",
     "iopub.status.idle": "2024-09-08T23:18:40.719165Z",
     "shell.execute_reply": "2024-09-08T23:18:40.717992Z"
    },
    "papermill": {
     "duration": 0.024588,
     "end_time": "2024-09-08T23:18:40.721942",
     "exception": false,
     "start_time": "2024-09-08T23:18:40.697354",
     "status": "completed"
    },
    "tags": [],
    "vscode": {
     "languageId": "plaintext"
    }
   },
   "outputs": [],
   "source": [
    "# 7:00～20:00を日中と定義\n",
    "MORNING_T = 14 # AM7時\n",
    "NIGHT_T = 40 # PM8時\n",
    "\n",
    "# 曜日の数（不変）\n",
    "DOW_COUNT = 7\n",
    "\n",
    "# 欠損補完用　連続する欠損時間\n",
    "INTEROILATE_N = 10"
   ]
  },
  {
   "cell_type": "code",
   "execution_count": 4,
   "id": "ea8c381d",
   "metadata": {
    "execution": {
     "iopub.execute_input": "2024-09-08T23:18:40.753150Z",
     "iopub.status.busy": "2024-09-08T23:18:40.752026Z",
     "iopub.status.idle": "2024-09-08T23:18:40.757430Z",
     "shell.execute_reply": "2024-09-08T23:18:40.756434Z"
    },
    "papermill": {
     "duration": 0.023834,
     "end_time": "2024-09-08T23:18:40.759768",
     "exception": false,
     "start_time": "2024-09-08T23:18:40.735934",
     "status": "completed"
    },
    "tags": [],
    "vscode": {
     "languageId": "plaintext"
    }
   },
   "outputs": [],
   "source": [
    "# INPUT_PATH = \"../../01_public/humob-challenge-2024/input/cityB_challengedata.csv.gz\"\n",
    "INPUT_PATH = \"/kaggle/input/humob2024/cityB_challengedata.csv/hiroshima_challengedata.csv\""
   ]
  },
  {
   "cell_type": "markdown",
   "id": "65c0a55b",
   "metadata": {
    "papermill": {
     "duration": 0.013391,
     "end_time": "2024-09-08T23:18:40.786739",
     "exception": false,
     "start_time": "2024-09-08T23:18:40.773348",
     "status": "completed"
    },
    "tags": []
   },
   "source": [
    "### データ読み込み・分割"
   ]
  },
  {
   "cell_type": "code",
   "execution_count": 5,
   "id": "0e72c91d",
   "metadata": {
    "execution": {
     "iopub.execute_input": "2024-09-08T23:18:40.816062Z",
     "iopub.status.busy": "2024-09-08T23:18:40.815594Z",
     "iopub.status.idle": "2024-09-08T23:18:58.218620Z",
     "shell.execute_reply": "2024-09-08T23:18:58.217308Z"
    },
    "papermill": {
     "duration": 17.421038,
     "end_time": "2024-09-08T23:18:58.221514",
     "exception": false,
     "start_time": "2024-09-08T23:18:40.800476",
     "status": "completed"
    },
    "tags": [],
    "vscode": {
     "languageId": "plaintext"
    }
   },
   "outputs": [
    {
     "data": {
      "text/html": [
       "<div>\n",
       "<style scoped>\n",
       "    .dataframe tbody tr th:only-of-type {\n",
       "        vertical-align: middle;\n",
       "    }\n",
       "\n",
       "    .dataframe tbody tr th {\n",
       "        vertical-align: top;\n",
       "    }\n",
       "\n",
       "    .dataframe thead th {\n",
       "        text-align: right;\n",
       "    }\n",
       "</style>\n",
       "<table border=\"1\" class=\"dataframe\">\n",
       "  <thead>\n",
       "    <tr style=\"text-align: right;\">\n",
       "      <th></th>\n",
       "      <th>uid</th>\n",
       "      <th>d</th>\n",
       "      <th>t</th>\n",
       "      <th>x</th>\n",
       "      <th>y</th>\n",
       "    </tr>\n",
       "  </thead>\n",
       "  <tbody>\n",
       "    <tr>\n",
       "      <th>0</th>\n",
       "      <td>0</td>\n",
       "      <td>0</td>\n",
       "      <td>20</td>\n",
       "      <td>80</td>\n",
       "      <td>99</td>\n",
       "    </tr>\n",
       "    <tr>\n",
       "      <th>1</th>\n",
       "      <td>0</td>\n",
       "      <td>0</td>\n",
       "      <td>21</td>\n",
       "      <td>81</td>\n",
       "      <td>97</td>\n",
       "    </tr>\n",
       "    <tr>\n",
       "      <th>2</th>\n",
       "      <td>0</td>\n",
       "      <td>0</td>\n",
       "      <td>25</td>\n",
       "      <td>83</td>\n",
       "      <td>102</td>\n",
       "    </tr>\n",
       "  </tbody>\n",
       "</table>\n",
       "</div>"
      ],
      "text/plain": [
       "   uid  d   t   x    y\n",
       "0    0  0  20  80   99\n",
       "1    0  0  21  81   97\n",
       "2    0  0  25  83  102"
      ]
     },
     "execution_count": 5,
     "metadata": {},
     "output_type": "execute_result"
    }
   ],
   "source": [
    "df_city_b = pd.read_csv(INPUT_PATH)\n",
    "df_city_b.head(3)"
   ]
  },
  {
   "cell_type": "code",
   "execution_count": 6,
   "id": "5d8e4300",
   "metadata": {
    "execution": {
     "iopub.execute_input": "2024-09-08T23:18:58.253277Z",
     "iopub.status.busy": "2024-09-08T23:18:58.251724Z",
     "iopub.status.idle": "2024-09-08T23:18:58.257684Z",
     "shell.execute_reply": "2024-09-08T23:18:58.256421Z"
    },
    "papermill": {
     "duration": 0.024885,
     "end_time": "2024-09-08T23:18:58.260671",
     "exception": false,
     "start_time": "2024-09-08T23:18:58.235786",
     "status": "completed"
    },
    "tags": [],
    "vscode": {
     "languageId": "plaintext"
    }
   },
   "outputs": [],
   "source": [
    "# df_city_b[\"dow\"] = df_city_b[\"d\"] % DOW_COUNT\n",
    "# df_city_b[\"t_label\"] = (\n",
    "#     df_city_b[\"t\"]\n",
    "#     .apply(lambda x: \"daytime\" if MORNING_T <= x < NIGHT_T else \"nighttime\")  \n",
    "# )\n",
    "# df_city_b.head(3)"
   ]
  },
  {
   "cell_type": "code",
   "execution_count": 7,
   "id": "662bf683",
   "metadata": {
    "execution": {
     "iopub.execute_input": "2024-09-08T23:18:58.293765Z",
     "iopub.status.busy": "2024-09-08T23:18:58.293267Z",
     "iopub.status.idle": "2024-09-08T23:18:58.447968Z",
     "shell.execute_reply": "2024-09-08T23:18:58.446643Z"
    },
    "papermill": {
     "duration": 0.175318,
     "end_time": "2024-09-08T23:18:58.450840",
     "exception": false,
     "start_time": "2024-09-08T23:18:58.275522",
     "status": "completed"
    },
    "tags": [],
    "vscode": {
     "languageId": "plaintext"
    }
   },
   "outputs": [
    {
     "data": {
      "text/html": [
       "<div>\n",
       "<style scoped>\n",
       "    .dataframe tbody tr th:only-of-type {\n",
       "        vertical-align: middle;\n",
       "    }\n",
       "\n",
       "    .dataframe tbody tr th {\n",
       "        vertical-align: top;\n",
       "    }\n",
       "\n",
       "    .dataframe thead th {\n",
       "        text-align: right;\n",
       "    }\n",
       "</style>\n",
       "<table border=\"1\" class=\"dataframe\">\n",
       "  <thead>\n",
       "    <tr style=\"text-align: right;\">\n",
       "      <th></th>\n",
       "      <th>uid</th>\n",
       "      <th>d</th>\n",
       "      <th>t</th>\n",
       "      <th>x</th>\n",
       "      <th>y</th>\n",
       "    </tr>\n",
       "  </thead>\n",
       "  <tbody>\n",
       "    <tr>\n",
       "      <th>20253615</th>\n",
       "      <td>20000</td>\n",
       "      <td>0</td>\n",
       "      <td>0</td>\n",
       "      <td>79</td>\n",
       "      <td>89</td>\n",
       "    </tr>\n",
       "    <tr>\n",
       "      <th>20253616</th>\n",
       "      <td>20000</td>\n",
       "      <td>0</td>\n",
       "      <td>2</td>\n",
       "      <td>79</td>\n",
       "      <td>89</td>\n",
       "    </tr>\n",
       "    <tr>\n",
       "      <th>20253617</th>\n",
       "      <td>20000</td>\n",
       "      <td>0</td>\n",
       "      <td>5</td>\n",
       "      <td>79</td>\n",
       "      <td>89</td>\n",
       "    </tr>\n",
       "  </tbody>\n",
       "</table>\n",
       "</div>"
      ],
      "text/plain": [
       "            uid  d  t   x   y\n",
       "20253615  20000  0  0  79  89\n",
       "20253616  20000  0  2  79  89\n",
       "20253617  20000  0  5  79  89"
      ]
     },
     "execution_count": 7,
     "metadata": {},
     "output_type": "execute_result"
    }
   ],
   "source": [
    "# uidが20000~21999のデータを検証に利用\n",
    "df_city_b_valid = (\n",
    "    df_city_b\n",
    "    .loc[df_city_b[\"uid\"].between(20000, 21999)]\n",
    "#     .loc[df_city_b[\"uid\"].between(20000, 20010)]\n",
    "\n",
    ")\n",
    "df_city_b_valid.head(3)"
   ]
  },
  {
   "cell_type": "code",
   "execution_count": 8,
   "id": "82d27caa",
   "metadata": {
    "execution": {
     "iopub.execute_input": "2024-09-08T23:18:58.481816Z",
     "iopub.status.busy": "2024-09-08T23:18:58.480915Z",
     "iopub.status.idle": "2024-09-08T23:18:58.545119Z",
     "shell.execute_reply": "2024-09-08T23:18:58.543911Z"
    },
    "papermill": {
     "duration": 0.083195,
     "end_time": "2024-09-08T23:18:58.548279",
     "exception": false,
     "start_time": "2024-09-08T23:18:58.465084",
     "status": "completed"
    },
    "tags": [],
    "vscode": {
     "languageId": "plaintext"
    }
   },
   "outputs": [],
   "source": [
    "# dが60前後でデータを分割\n",
    "df_city_b_train = (\n",
    "    df_city_b_valid\n",
    "    .loc[df_city_b_valid[\"d\"] < 60]\n",
    ")\n",
    "\n",
    "df_city_b_answer = (\n",
    "    df_city_b_valid\n",
    "    .loc[df_city_b_valid[\"d\"] >= 60]\n",
    ")"
   ]
  },
  {
   "cell_type": "markdown",
   "id": "9fe83dc0",
   "metadata": {
    "papermill": {
     "duration": 0.013926,
     "end_time": "2024-09-08T23:18:58.576440",
     "exception": false,
     "start_time": "2024-09-08T23:18:58.562514",
     "status": "completed"
    },
    "tags": []
   },
   "source": [
    "### trainの欠損値を線形補完"
   ]
  },
  {
   "cell_type": "code",
   "execution_count": 9,
   "id": "7431c580",
   "metadata": {
    "execution": {
     "iopub.execute_input": "2024-09-08T23:18:58.606753Z",
     "iopub.status.busy": "2024-09-08T23:18:58.606282Z",
     "iopub.status.idle": "2024-09-08T23:18:58.617075Z",
     "shell.execute_reply": "2024-09-08T23:18:58.615981Z"
    },
    "papermill": {
     "duration": 0.029322,
     "end_time": "2024-09-08T23:18:58.619868",
     "exception": false,
     "start_time": "2024-09-08T23:18:58.590546",
     "status": "completed"
    },
    "tags": []
   },
   "outputs": [],
   "source": [
    "def get_full_df(df, d_range, t_range):\n",
    "    \"\"\"\n",
    "    input: uid, d, t, x, yのdf\n",
    "    output: 全uidでd×tを揃えたdfを作成。x, yが欠損値の場合はnull。\n",
    "    \"\"\"\n",
    "    # 全てのd, tの範囲のデータフレームを作成\n",
    "    full_range_d = pd.DataFrame({'d': range(0, d_range)})\n",
    "    full_range_t = pd.DataFrame({'t': range(0, t_range)})\n",
    "\n",
    "    # uidのユニークな値を取得し、クロス結合を行う\n",
    "    full_range_uid = pd.DataFrame({'uid': df['uid'].unique()})\n",
    "\n",
    "    # クロス結合を行う（全てのuid, d, tの組み合わせ）\n",
    "    full_range = (full_range_uid.assign(key=1)\n",
    "                  .merge(full_range_d.assign(key=1), on='key')\n",
    "                  .merge(full_range_t.assign(key=1), on='key')\n",
    "                  .drop('key', axis=1)\n",
    "                 )\n",
    "\n",
    "    # x, yの値を付与し、欠損値はnullとする\n",
    "    df_train_full = (full_range\n",
    "                     .merge(df, on=['uid', 'd', 't'], how='left')\n",
    "                     .sort_values(by=['uid', 'd', 't'])\n",
    "                    )\n",
    "\n",
    "    return df_train_full"
   ]
  },
  {
   "cell_type": "code",
   "execution_count": 10,
   "id": "f17b8337",
   "metadata": {
    "execution": {
     "iopub.execute_input": "2024-09-08T23:18:58.650518Z",
     "iopub.status.busy": "2024-09-08T23:18:58.650038Z",
     "iopub.status.idle": "2024-09-08T23:18:58.668240Z",
     "shell.execute_reply": "2024-09-08T23:18:58.666747Z"
    },
    "papermill": {
     "duration": 0.036996,
     "end_time": "2024-09-08T23:18:58.671021",
     "exception": false,
     "start_time": "2024-09-08T23:18:58.634025",
     "status": "completed"
    },
    "tags": []
   },
   "outputs": [],
   "source": [
    "def interpolate_missing_values(df):\n",
    "    \"\"\"\n",
    "    input: uid, d, t, x, yのdf、uidにつきd×tは60×48、x, y欠損値はnull\n",
    "    output: 3時間未満の連続するx, y欠損を直近の前後のx, y値を用いて線形補完したdf\n",
    "    \"\"\"\n",
    "    df_fill = df.fillna(-1).copy()  # 欠損値を一時的に -1 に変換\n",
    "    skip_list = []\n",
    "    interpolate_num = 0\n",
    "    \n",
    "    for i in range(len(df_fill)):\n",
    "#     for i in range(20):\n",
    "        prev_valid = None\n",
    "        next_valid = None\n",
    "        time_diff = None\n",
    "        \n",
    "        # skip_listのインデックスは飛ばす\n",
    "        if i in skip_list:\n",
    "            continue\n",
    "        \n",
    "        # x, yが欠損の場合\n",
    "        if df_fill.loc[i, \"x\"] == -1 and df_fill.loc[i, \"y\"] == -1:\n",
    "            # 前の有効なデータを探す\n",
    "            if prev_valid is None and i != 0:\n",
    "                if df_fill.loc[i - 1, \"x\"] != -1:\n",
    "                    prev_valid = df_fill.loc[i - 1]  # 前のデータが有効な場合\n",
    "            \n",
    "            # 次の有効なデータを探す\n",
    "            if next_valid is None:\n",
    "                for j in range(i + 1, len(df)):\n",
    "                    if df_fill.loc[j, \"x\"] != -1 and df_fill.loc[j, \"y\"] != -1:\n",
    "                        next_valid = df_fill.loc[j]\n",
    "                        break\n",
    "\n",
    "            # 前後の有効データが見つかった場合\n",
    "            if prev_valid is not None and next_valid is not None:\n",
    "#                 print(i, prev_valid, next_valid)\n",
    "                time_diff = int(next_valid[\"t\"] - prev_valid[\"t\"])\n",
    "                \n",
    "                # 3時間未満の欠損なら線形補完\n",
    "                if (time_diff != 0) and (time_diff < N*2):\n",
    "                    x_diff = next_valid[\"x\"] - prev_valid[\"x\"]\n",
    "                    y_diff = next_valid[\"y\"] - prev_valid[\"y\"]\n",
    "                    \n",
    "                    for j in range(i, i + time_diff -1):\n",
    "                        time_from_prev = df.loc[j, \"t\"] - prev_valid[\"t\"]\n",
    "                        # 欠損値を線形補完\n",
    "                        df_fill.loc[j, \"x\"] = prev_valid[\"x\"] + (x_diff / time_diff) * time_from_prev\n",
    "                        df_fill.loc[j, \"y\"] = prev_valid[\"y\"] + (y_diff / time_diff) * time_from_prev\n",
    "                    \n",
    "                    # 補完済みのインデックスをリストに追加\n",
    "                    skip_list = [j for j in range(i, i + time_diff - 1)]\n",
    "                    interpolate_num += len(skip_list)\n",
    "#                     print(skip_list)\n",
    "#                     print(df_fill.iloc[i-1:i+time_diff+3,:])\n",
    "                    \n",
    "#                 else:\n",
    "#                     print(f\"Skipping interpolation for index {i}.\")\n",
    "    print(f\"補完数：{interpolate_num}\")\n",
    "    # 欠損値が補完されたdfを返す\n",
    "    df_fill = df_fill[df_fill[\"x\"]!=-1]\n",
    "    df_fill[\"x\"] =df_fill[\"x\"].astype(int)\n",
    "    df_fill[\"y\"] =df_fill[\"y\"].astype(int)\n",
    "\n",
    "    \n",
    "    return df_fill"
   ]
  },
  {
   "cell_type": "code",
   "execution_count": 11,
   "id": "448862eb",
   "metadata": {
    "execution": {
     "iopub.execute_input": "2024-09-08T23:18:58.703617Z",
     "iopub.status.busy": "2024-09-08T23:18:58.702012Z",
     "iopub.status.idle": "2024-09-08T23:19:00.871132Z",
     "shell.execute_reply": "2024-09-08T23:19:00.869820Z"
    },
    "papermill": {
     "duration": 2.188365,
     "end_time": "2024-09-08T23:19:00.874127",
     "exception": false,
     "start_time": "2024-09-08T23:18:58.685762",
     "status": "completed"
    },
    "tags": []
   },
   "outputs": [
    {
     "data": {
      "text/html": [
       "<div>\n",
       "<style scoped>\n",
       "    .dataframe tbody tr th:only-of-type {\n",
       "        vertical-align: middle;\n",
       "    }\n",
       "\n",
       "    .dataframe tbody tr th {\n",
       "        vertical-align: top;\n",
       "    }\n",
       "\n",
       "    .dataframe thead th {\n",
       "        text-align: right;\n",
       "    }\n",
       "</style>\n",
       "<table border=\"1\" class=\"dataframe\">\n",
       "  <thead>\n",
       "    <tr style=\"text-align: right;\">\n",
       "      <th></th>\n",
       "      <th>uid</th>\n",
       "      <th>d</th>\n",
       "      <th>t</th>\n",
       "      <th>x</th>\n",
       "      <th>y</th>\n",
       "    </tr>\n",
       "  </thead>\n",
       "  <tbody>\n",
       "    <tr>\n",
       "      <th>0</th>\n",
       "      <td>20000</td>\n",
       "      <td>0</td>\n",
       "      <td>0</td>\n",
       "      <td>79.0</td>\n",
       "      <td>89.0</td>\n",
       "    </tr>\n",
       "    <tr>\n",
       "      <th>1</th>\n",
       "      <td>20000</td>\n",
       "      <td>0</td>\n",
       "      <td>1</td>\n",
       "      <td>NaN</td>\n",
       "      <td>NaN</td>\n",
       "    </tr>\n",
       "    <tr>\n",
       "      <th>2</th>\n",
       "      <td>20000</td>\n",
       "      <td>0</td>\n",
       "      <td>2</td>\n",
       "      <td>79.0</td>\n",
       "      <td>89.0</td>\n",
       "    </tr>\n",
       "    <tr>\n",
       "      <th>3</th>\n",
       "      <td>20000</td>\n",
       "      <td>0</td>\n",
       "      <td>3</td>\n",
       "      <td>NaN</td>\n",
       "      <td>NaN</td>\n",
       "    </tr>\n",
       "    <tr>\n",
       "      <th>4</th>\n",
       "      <td>20000</td>\n",
       "      <td>0</td>\n",
       "      <td>4</td>\n",
       "      <td>NaN</td>\n",
       "      <td>NaN</td>\n",
       "    </tr>\n",
       "    <tr>\n",
       "      <th>...</th>\n",
       "      <td>...</td>\n",
       "      <td>...</td>\n",
       "      <td>...</td>\n",
       "      <td>...</td>\n",
       "      <td>...</td>\n",
       "    </tr>\n",
       "    <tr>\n",
       "      <th>5759995</th>\n",
       "      <td>21999</td>\n",
       "      <td>59</td>\n",
       "      <td>43</td>\n",
       "      <td>NaN</td>\n",
       "      <td>NaN</td>\n",
       "    </tr>\n",
       "    <tr>\n",
       "      <th>5759996</th>\n",
       "      <td>21999</td>\n",
       "      <td>59</td>\n",
       "      <td>44</td>\n",
       "      <td>NaN</td>\n",
       "      <td>NaN</td>\n",
       "    </tr>\n",
       "    <tr>\n",
       "      <th>5759997</th>\n",
       "      <td>21999</td>\n",
       "      <td>59</td>\n",
       "      <td>45</td>\n",
       "      <td>NaN</td>\n",
       "      <td>NaN</td>\n",
       "    </tr>\n",
       "    <tr>\n",
       "      <th>5759998</th>\n",
       "      <td>21999</td>\n",
       "      <td>59</td>\n",
       "      <td>46</td>\n",
       "      <td>NaN</td>\n",
       "      <td>NaN</td>\n",
       "    </tr>\n",
       "    <tr>\n",
       "      <th>5759999</th>\n",
       "      <td>21999</td>\n",
       "      <td>59</td>\n",
       "      <td>47</td>\n",
       "      <td>NaN</td>\n",
       "      <td>NaN</td>\n",
       "    </tr>\n",
       "  </tbody>\n",
       "</table>\n",
       "<p>5760000 rows × 5 columns</p>\n",
       "</div>"
      ],
      "text/plain": [
       "           uid   d   t     x     y\n",
       "0        20000   0   0  79.0  89.0\n",
       "1        20000   0   1   NaN   NaN\n",
       "2        20000   0   2  79.0  89.0\n",
       "3        20000   0   3   NaN   NaN\n",
       "4        20000   0   4   NaN   NaN\n",
       "...        ...  ..  ..   ...   ...\n",
       "5759995  21999  59  43   NaN   NaN\n",
       "5759996  21999  59  44   NaN   NaN\n",
       "5759997  21999  59  45   NaN   NaN\n",
       "5759998  21999  59  46   NaN   NaN\n",
       "5759999  21999  59  47   NaN   NaN\n",
       "\n",
       "[5760000 rows x 5 columns]"
      ]
     },
     "execution_count": 11,
     "metadata": {},
     "output_type": "execute_result"
    }
   ],
   "source": [
    "df_city_b_train_full = get_full_df(df_city_b_train, d_range=60, t_range=48)\n",
    "df_city_b_train_full"
   ]
  },
  {
   "cell_type": "code",
   "execution_count": 12,
   "id": "a5fc2cd3",
   "metadata": {
    "execution": {
     "iopub.execute_input": "2024-09-08T23:19:00.905375Z",
     "iopub.status.busy": "2024-09-08T23:19:00.904852Z",
     "iopub.status.idle": "2024-09-09T00:15:16.670420Z",
     "shell.execute_reply": "2024-09-09T00:15:16.668974Z"
    },
    "papermill": {
     "duration": 3375.800578,
     "end_time": "2024-09-09T00:15:16.689257",
     "exception": false,
     "start_time": "2024-09-08T23:19:00.888679",
     "status": "completed"
    },
    "tags": []
   },
   "outputs": [
    {
     "name": "stdout",
     "output_type": "stream",
     "text": [
      "補完数：1269880\n"
     ]
    }
   ],
   "source": [
    "df_city_b_train_ip = interpolate_missing_values(df_city_b_train_full)"
   ]
  },
  {
   "cell_type": "code",
   "execution_count": 13,
   "id": "7d380ffe",
   "metadata": {
    "execution": {
     "iopub.execute_input": "2024-09-09T00:15:16.720987Z",
     "iopub.status.busy": "2024-09-09T00:15:16.720493Z",
     "iopub.status.idle": "2024-09-09T00:15:16.728830Z",
     "shell.execute_reply": "2024-09-09T00:15:16.727626Z"
    },
    "papermill": {
     "duration": 0.027587,
     "end_time": "2024-09-09T00:15:16.731560",
     "exception": false,
     "start_time": "2024-09-09T00:15:16.703973",
     "status": "completed"
    },
    "tags": []
   },
   "outputs": [
    {
     "data": {
      "text/plain": [
       "5760000"
      ]
     },
     "execution_count": 13,
     "metadata": {},
     "output_type": "execute_result"
    }
   ],
   "source": [
    "len(df_city_b_train_full)"
   ]
  },
  {
   "cell_type": "code",
   "execution_count": 14,
   "id": "24217be1",
   "metadata": {
    "execution": {
     "iopub.execute_input": "2024-09-09T00:15:16.767329Z",
     "iopub.status.busy": "2024-09-09T00:15:16.766224Z",
     "iopub.status.idle": "2024-09-09T00:15:18.007917Z",
     "shell.execute_reply": "2024-09-09T00:15:18.006616Z"
    },
    "papermill": {
     "duration": 1.263328,
     "end_time": "2024-09-09T00:15:18.010825",
     "exception": false,
     "start_time": "2024-09-09T00:15:16.747497",
     "status": "completed"
    },
    "tags": []
   },
   "outputs": [
    {
     "name": "stderr",
     "output_type": "stream",
     "text": [
      "/tmp/ipykernel_17/3218818155.py:2: SettingWithCopyWarning: \n",
      "A value is trying to be set on a copy of a slice from a DataFrame.\n",
      "Try using .loc[row_indexer,col_indexer] = value instead\n",
      "\n",
      "See the caveats in the documentation: https://pandas.pydata.org/pandas-docs/stable/user_guide/indexing.html#returning-a-view-versus-a-copy\n",
      "  df[\"dow\"] = df[\"d\"] % DOW_COUNT\n",
      "/tmp/ipykernel_17/3218818155.py:3: SettingWithCopyWarning: \n",
      "A value is trying to be set on a copy of a slice from a DataFrame.\n",
      "Try using .loc[row_indexer,col_indexer] = value instead\n",
      "\n",
      "See the caveats in the documentation: https://pandas.pydata.org/pandas-docs/stable/user_guide/indexing.html#returning-a-view-versus-a-copy\n",
      "  df[\"t_label\"] = (\n"
     ]
    }
   ],
   "source": [
    "def add_day_night_time(df):\n",
    "    df[\"dow\"] = df[\"d\"] % DOW_COUNT\n",
    "    df[\"t_label\"] = (\n",
    "        df[\"t\"]\n",
    "        .apply(lambda x: \"daytime\" if MORNING_T <= x < NIGHT_T else \"nighttime\")  \n",
    "    )\n",
    "    return df\n",
    "df_city_b_answer = add_day_night_time(df_city_b_answer)\n",
    "df_city_b_train_ip = add_day_night_time(df_city_b_train_ip)"
   ]
  },
  {
   "cell_type": "code",
   "execution_count": 15,
   "id": "b12fa0b3",
   "metadata": {
    "execution": {
     "iopub.execute_input": "2024-09-09T00:15:18.043119Z",
     "iopub.status.busy": "2024-09-09T00:15:18.042056Z",
     "iopub.status.idle": "2024-09-09T00:15:18.056713Z",
     "shell.execute_reply": "2024-09-09T00:15:18.055587Z"
    },
    "papermill": {
     "duration": 0.03381,
     "end_time": "2024-09-09T00:15:18.059438",
     "exception": false,
     "start_time": "2024-09-09T00:15:18.025628",
     "status": "completed"
    },
    "tags": []
   },
   "outputs": [
    {
     "data": {
      "text/plain": [
       "(     uid  d  t     x     y\n",
       " 0  20000  0  0  79.0  89.0\n",
       " 1  20000  0  1   NaN   NaN\n",
       " 2  20000  0  2  79.0  89.0\n",
       " 3  20000  0  3   NaN   NaN\n",
       " 4  20000  0  4   NaN   NaN\n",
       " 5  20000  0  5  79.0  89.0\n",
       " 6  20000  0  6   NaN   NaN\n",
       " 7  20000  0  7   NaN   NaN\n",
       " 8  20000  0  8   NaN   NaN\n",
       " 9  20000  0  9   NaN   NaN,\n",
       "      uid  d  t   x   y  dow    t_label\n",
       " 0  20000  0  0  79  89    0  nighttime\n",
       " 1  20000  0  1  79  89    0  nighttime\n",
       " 2  20000  0  2  79  89    0  nighttime\n",
       " 3  20000  0  3  79  89    0  nighttime\n",
       " 4  20000  0  4  79  89    0  nighttime\n",
       " 5  20000  0  5  79  89    0  nighttime\n",
       " 6  20000  0  6  79  89    0  nighttime\n",
       " 7  20000  0  7  79  89    0  nighttime\n",
       " 8  20000  0  8  79  89    0  nighttime\n",
       " 9  20000  0  9  79  89    0  nighttime)"
      ]
     },
     "execution_count": 15,
     "metadata": {},
     "output_type": "execute_result"
    }
   ],
   "source": [
    "df_city_b_train_full.head(10),df_city_b_train_ip.head(10)"
   ]
  },
  {
   "cell_type": "code",
   "execution_count": 16,
   "id": "c89b6856",
   "metadata": {
    "execution": {
     "iopub.execute_input": "2024-09-09T00:15:18.092616Z",
     "iopub.status.busy": "2024-09-09T00:15:18.091182Z",
     "iopub.status.idle": "2024-09-09T00:15:18.105431Z",
     "shell.execute_reply": "2024-09-09T00:15:18.104173Z"
    },
    "papermill": {
     "duration": 0.033435,
     "end_time": "2024-09-09T00:15:18.107909",
     "exception": false,
     "start_time": "2024-09-09T00:15:18.074474",
     "status": "completed"
    },
    "tags": []
   },
   "outputs": [
    {
     "data": {
      "text/html": [
       "<div>\n",
       "<style scoped>\n",
       "    .dataframe tbody tr th:only-of-type {\n",
       "        vertical-align: middle;\n",
       "    }\n",
       "\n",
       "    .dataframe tbody tr th {\n",
       "        vertical-align: top;\n",
       "    }\n",
       "\n",
       "    .dataframe thead th {\n",
       "        text-align: right;\n",
       "    }\n",
       "</style>\n",
       "<table border=\"1\" class=\"dataframe\">\n",
       "  <thead>\n",
       "    <tr style=\"text-align: right;\">\n",
       "      <th></th>\n",
       "      <th>uid</th>\n",
       "      <th>d</th>\n",
       "      <th>t</th>\n",
       "      <th>x</th>\n",
       "      <th>y</th>\n",
       "      <th>dow</th>\n",
       "      <th>t_label</th>\n",
       "    </tr>\n",
       "  </thead>\n",
       "  <tbody>\n",
       "    <tr>\n",
       "      <th>0</th>\n",
       "      <td>20000</td>\n",
       "      <td>0</td>\n",
       "      <td>0</td>\n",
       "      <td>79</td>\n",
       "      <td>89</td>\n",
       "      <td>0</td>\n",
       "      <td>nighttime</td>\n",
       "    </tr>\n",
       "    <tr>\n",
       "      <th>1</th>\n",
       "      <td>20000</td>\n",
       "      <td>0</td>\n",
       "      <td>1</td>\n",
       "      <td>79</td>\n",
       "      <td>89</td>\n",
       "      <td>0</td>\n",
       "      <td>nighttime</td>\n",
       "    </tr>\n",
       "    <tr>\n",
       "      <th>2</th>\n",
       "      <td>20000</td>\n",
       "      <td>0</td>\n",
       "      <td>2</td>\n",
       "      <td>79</td>\n",
       "      <td>89</td>\n",
       "      <td>0</td>\n",
       "      <td>nighttime</td>\n",
       "    </tr>\n",
       "    <tr>\n",
       "      <th>3</th>\n",
       "      <td>20000</td>\n",
       "      <td>0</td>\n",
       "      <td>3</td>\n",
       "      <td>79</td>\n",
       "      <td>89</td>\n",
       "      <td>0</td>\n",
       "      <td>nighttime</td>\n",
       "    </tr>\n",
       "    <tr>\n",
       "      <th>4</th>\n",
       "      <td>20000</td>\n",
       "      <td>0</td>\n",
       "      <td>4</td>\n",
       "      <td>79</td>\n",
       "      <td>89</td>\n",
       "      <td>0</td>\n",
       "      <td>nighttime</td>\n",
       "    </tr>\n",
       "  </tbody>\n",
       "</table>\n",
       "</div>"
      ],
      "text/plain": [
       "     uid  d  t   x   y  dow    t_label\n",
       "0  20000  0  0  79  89    0  nighttime\n",
       "1  20000  0  1  79  89    0  nighttime\n",
       "2  20000  0  2  79  89    0  nighttime\n",
       "3  20000  0  3  79  89    0  nighttime\n",
       "4  20000  0  4  79  89    0  nighttime"
      ]
     },
     "execution_count": 16,
     "metadata": {},
     "output_type": "execute_result"
    }
   ],
   "source": [
    "df_city_b_train_ip.head()"
   ]
  },
  {
   "cell_type": "code",
   "execution_count": 17,
   "id": "93d280c0",
   "metadata": {
    "execution": {
     "iopub.execute_input": "2024-09-09T00:15:18.142397Z",
     "iopub.status.busy": "2024-09-09T00:15:18.141104Z",
     "iopub.status.idle": "2024-09-09T00:15:18.155209Z",
     "shell.execute_reply": "2024-09-09T00:15:18.154036Z"
    },
    "papermill": {
     "duration": 0.034047,
     "end_time": "2024-09-09T00:15:18.157824",
     "exception": false,
     "start_time": "2024-09-09T00:15:18.123777",
     "status": "completed"
    },
    "tags": []
   },
   "outputs": [
    {
     "data": {
      "text/html": [
       "<div>\n",
       "<style scoped>\n",
       "    .dataframe tbody tr th:only-of-type {\n",
       "        vertical-align: middle;\n",
       "    }\n",
       "\n",
       "    .dataframe tbody tr th {\n",
       "        vertical-align: top;\n",
       "    }\n",
       "\n",
       "    .dataframe thead th {\n",
       "        text-align: right;\n",
       "    }\n",
       "</style>\n",
       "<table border=\"1\" class=\"dataframe\">\n",
       "  <thead>\n",
       "    <tr style=\"text-align: right;\">\n",
       "      <th></th>\n",
       "      <th>uid</th>\n",
       "      <th>d</th>\n",
       "      <th>t</th>\n",
       "      <th>x</th>\n",
       "      <th>y</th>\n",
       "      <th>dow</th>\n",
       "      <th>t_label</th>\n",
       "    </tr>\n",
       "  </thead>\n",
       "  <tbody>\n",
       "    <tr>\n",
       "      <th>20254678</th>\n",
       "      <td>20000</td>\n",
       "      <td>60</td>\n",
       "      <td>11</td>\n",
       "      <td>79</td>\n",
       "      <td>89</td>\n",
       "      <td>4</td>\n",
       "      <td>nighttime</td>\n",
       "    </tr>\n",
       "    <tr>\n",
       "      <th>20254679</th>\n",
       "      <td>20000</td>\n",
       "      <td>60</td>\n",
       "      <td>15</td>\n",
       "      <td>79</td>\n",
       "      <td>89</td>\n",
       "      <td>4</td>\n",
       "      <td>daytime</td>\n",
       "    </tr>\n",
       "    <tr>\n",
       "      <th>20254680</th>\n",
       "      <td>20000</td>\n",
       "      <td>60</td>\n",
       "      <td>19</td>\n",
       "      <td>79</td>\n",
       "      <td>89</td>\n",
       "      <td>4</td>\n",
       "      <td>daytime</td>\n",
       "    </tr>\n",
       "    <tr>\n",
       "      <th>20254681</th>\n",
       "      <td>20000</td>\n",
       "      <td>60</td>\n",
       "      <td>20</td>\n",
       "      <td>79</td>\n",
       "      <td>89</td>\n",
       "      <td>4</td>\n",
       "      <td>daytime</td>\n",
       "    </tr>\n",
       "    <tr>\n",
       "      <th>20254682</th>\n",
       "      <td>20000</td>\n",
       "      <td>60</td>\n",
       "      <td>21</td>\n",
       "      <td>79</td>\n",
       "      <td>89</td>\n",
       "      <td>4</td>\n",
       "      <td>daytime</td>\n",
       "    </tr>\n",
       "  </tbody>\n",
       "</table>\n",
       "</div>"
      ],
      "text/plain": [
       "            uid   d   t   x   y  dow    t_label\n",
       "20254678  20000  60  11  79  89    4  nighttime\n",
       "20254679  20000  60  15  79  89    4    daytime\n",
       "20254680  20000  60  19  79  89    4    daytime\n",
       "20254681  20000  60  20  79  89    4    daytime\n",
       "20254682  20000  60  21  79  89    4    daytime"
      ]
     },
     "execution_count": 17,
     "metadata": {},
     "output_type": "execute_result"
    }
   ],
   "source": [
    "df_city_b_answer.head()"
   ]
  },
  {
   "cell_type": "code",
   "execution_count": 18,
   "id": "fd3a1713",
   "metadata": {
    "execution": {
     "iopub.execute_input": "2024-09-09T00:15:18.192467Z",
     "iopub.status.busy": "2024-09-09T00:15:18.191698Z",
     "iopub.status.idle": "2024-09-09T00:15:18.199791Z",
     "shell.execute_reply": "2024-09-09T00:15:18.198560Z"
    },
    "papermill": {
     "duration": 0.029021,
     "end_time": "2024-09-09T00:15:18.202516",
     "exception": false,
     "start_time": "2024-09-09T00:15:18.173495",
     "status": "completed"
    },
    "tags": []
   },
   "outputs": [],
   "source": [
    "df_city_b_train =df_city_b_train_ip"
   ]
  },
  {
   "cell_type": "markdown",
   "id": "be788f42",
   "metadata": {
    "papermill": {
     "duration": 0.015257,
     "end_time": "2024-09-09T00:15:18.233914",
     "exception": false,
     "start_time": "2024-09-09T00:15:18.218657",
     "status": "completed"
    },
    "tags": []
   },
   "source": [
    "### 欠損値補完テーブル作成"
   ]
  },
  {
   "cell_type": "code",
   "execution_count": 19,
   "id": "2a9df16c",
   "metadata": {
    "execution": {
     "iopub.execute_input": "2024-09-09T00:15:18.267438Z",
     "iopub.status.busy": "2024-09-09T00:15:18.266956Z",
     "iopub.status.idle": "2024-09-09T00:18:06.263003Z",
     "shell.execute_reply": "2024-09-09T00:18:06.261478Z"
    },
    "papermill": {
     "duration": 168.033936,
     "end_time": "2024-09-09T00:18:06.283554",
     "exception": false,
     "start_time": "2024-09-09T00:15:18.249618",
     "status": "completed"
    },
    "tags": [],
    "vscode": {
     "languageId": "plaintext"
    }
   },
   "outputs": [
    {
     "data": {
      "text/html": [
       "<div>\n",
       "<style scoped>\n",
       "    .dataframe tbody tr th:only-of-type {\n",
       "        vertical-align: middle;\n",
       "    }\n",
       "\n",
       "    .dataframe tbody tr th {\n",
       "        vertical-align: top;\n",
       "    }\n",
       "\n",
       "    .dataframe thead th {\n",
       "        text-align: right;\n",
       "    }\n",
       "</style>\n",
       "<table border=\"1\" class=\"dataframe\">\n",
       "  <thead>\n",
       "    <tr style=\"text-align: right;\">\n",
       "      <th></th>\n",
       "      <th>uid</th>\n",
       "      <th>dow</th>\n",
       "      <th>t</th>\n",
       "      <th>dow_t_x</th>\n",
       "      <th>dow_t_y</th>\n",
       "    </tr>\n",
       "  </thead>\n",
       "  <tbody>\n",
       "    <tr>\n",
       "      <th>0</th>\n",
       "      <td>20000</td>\n",
       "      <td>0</td>\n",
       "      <td>0</td>\n",
       "      <td>79</td>\n",
       "      <td>88</td>\n",
       "    </tr>\n",
       "    <tr>\n",
       "      <th>1</th>\n",
       "      <td>20000</td>\n",
       "      <td>0</td>\n",
       "      <td>1</td>\n",
       "      <td>79</td>\n",
       "      <td>89</td>\n",
       "    </tr>\n",
       "    <tr>\n",
       "      <th>2</th>\n",
       "      <td>20000</td>\n",
       "      <td>0</td>\n",
       "      <td>2</td>\n",
       "      <td>79</td>\n",
       "      <td>89</td>\n",
       "    </tr>\n",
       "  </tbody>\n",
       "</table>\n",
       "</div>"
      ],
      "text/plain": [
       "     uid  dow  t  dow_t_x  dow_t_y\n",
       "0  20000    0  0       79       88\n",
       "1  20000    0  1       79       89\n",
       "2  20000    0  2       79       89"
      ]
     },
     "execution_count": 19,
     "metadata": {},
     "output_type": "execute_result"
    }
   ],
   "source": [
    "# uid×dow×t毎に最頻値を算出\n",
    "df_dow_t_mode = (\n",
    "    df_city_b_train\n",
    "    .groupby([\"uid\", \"dow\", \"t\"])\n",
    "    [[\"x\", \"y\"]]\n",
    "    .agg(\n",
    "        lambda x: x.mode().iloc[0]\n",
    "    )\n",
    "    .reset_index()\n",
    "\n",
    "    .rename(\n",
    "        columns={\"x\": \"dow_t_x\", \"y\": \"dow_t_y\"}\n",
    "    )\n",
    ")\n",
    "df_dow_t_mode.head(3)"
   ]
  },
  {
   "cell_type": "code",
   "execution_count": 20,
   "id": "32fda0e8",
   "metadata": {
    "execution": {
     "iopub.execute_input": "2024-09-09T00:18:06.321617Z",
     "iopub.status.busy": "2024-09-09T00:18:06.321020Z",
     "iopub.status.idle": "2024-09-09T00:18:34.796863Z",
     "shell.execute_reply": "2024-09-09T00:18:34.795660Z"
    },
    "papermill": {
     "duration": 28.500161,
     "end_time": "2024-09-09T00:18:34.799493",
     "exception": false,
     "start_time": "2024-09-09T00:18:06.299332",
     "status": "completed"
    },
    "tags": [],
    "vscode": {
     "languageId": "plaintext"
    }
   },
   "outputs": [
    {
     "data": {
      "text/html": [
       "<div>\n",
       "<style scoped>\n",
       "    .dataframe tbody tr th:only-of-type {\n",
       "        vertical-align: middle;\n",
       "    }\n",
       "\n",
       "    .dataframe tbody tr th {\n",
       "        vertical-align: top;\n",
       "    }\n",
       "\n",
       "    .dataframe thead th {\n",
       "        text-align: right;\n",
       "    }\n",
       "</style>\n",
       "<table border=\"1\" class=\"dataframe\">\n",
       "  <thead>\n",
       "    <tr style=\"text-align: right;\">\n",
       "      <th></th>\n",
       "      <th>uid</th>\n",
       "      <th>t</th>\n",
       "      <th>t_x</th>\n",
       "      <th>t_y</th>\n",
       "    </tr>\n",
       "  </thead>\n",
       "  <tbody>\n",
       "    <tr>\n",
       "      <th>0</th>\n",
       "      <td>20000</td>\n",
       "      <td>0</td>\n",
       "      <td>79</td>\n",
       "      <td>89</td>\n",
       "    </tr>\n",
       "    <tr>\n",
       "      <th>1</th>\n",
       "      <td>20000</td>\n",
       "      <td>1</td>\n",
       "      <td>79</td>\n",
       "      <td>89</td>\n",
       "    </tr>\n",
       "    <tr>\n",
       "      <th>2</th>\n",
       "      <td>20000</td>\n",
       "      <td>2</td>\n",
       "      <td>79</td>\n",
       "      <td>89</td>\n",
       "    </tr>\n",
       "  </tbody>\n",
       "</table>\n",
       "</div>"
      ],
      "text/plain": [
       "     uid  t  t_x  t_y\n",
       "0  20000  0   79   89\n",
       "1  20000  1   79   89\n",
       "2  20000  2   79   89"
      ]
     },
     "execution_count": 20,
     "metadata": {},
     "output_type": "execute_result"
    }
   ],
   "source": [
    "# uid×t毎に最頻値を算出\n",
    "df_t_mode = (\n",
    "    df_city_b_train\n",
    "    .groupby([\"uid\", \"t\"])\n",
    "    [[\"x\", \"y\"]]\n",
    "    .agg(\n",
    "        lambda x: x.mode().iloc[0]\n",
    "    )\n",
    "\n",
    "    .reset_index()\n",
    "\n",
    "    .rename(\n",
    "        columns={\"x\": \"t_x\", \"y\": \"t_y\"}\n",
    "    )\n",
    ")\n",
    "df_t_mode.head(3)"
   ]
  },
  {
   "cell_type": "code",
   "execution_count": 21,
   "id": "52961fc4",
   "metadata": {
    "execution": {
     "iopub.execute_input": "2024-09-09T00:18:34.833396Z",
     "iopub.status.busy": "2024-09-09T00:18:34.832925Z",
     "iopub.status.idle": "2024-09-09T00:18:43.943491Z",
     "shell.execute_reply": "2024-09-09T00:18:43.942341Z"
    },
    "papermill": {
     "duration": 9.130369,
     "end_time": "2024-09-09T00:18:43.945965",
     "exception": false,
     "start_time": "2024-09-09T00:18:34.815596",
     "status": "completed"
    },
    "tags": [],
    "vscode": {
     "languageId": "plaintext"
    }
   },
   "outputs": [
    {
     "data": {
      "text/html": [
       "<div>\n",
       "<style scoped>\n",
       "    .dataframe tbody tr th:only-of-type {\n",
       "        vertical-align: middle;\n",
       "    }\n",
       "\n",
       "    .dataframe tbody tr th {\n",
       "        vertical-align: top;\n",
       "    }\n",
       "\n",
       "    .dataframe thead th {\n",
       "        text-align: right;\n",
       "    }\n",
       "</style>\n",
       "<table border=\"1\" class=\"dataframe\">\n",
       "  <thead>\n",
       "    <tr style=\"text-align: right;\">\n",
       "      <th></th>\n",
       "      <th>uid</th>\n",
       "      <th>dow</th>\n",
       "      <th>t_label</th>\n",
       "      <th>dow_t_label_x</th>\n",
       "      <th>dow_t_label_y</th>\n",
       "    </tr>\n",
       "  </thead>\n",
       "  <tbody>\n",
       "    <tr>\n",
       "      <th>0</th>\n",
       "      <td>20000</td>\n",
       "      <td>0</td>\n",
       "      <td>daytime</td>\n",
       "      <td>79</td>\n",
       "      <td>89</td>\n",
       "    </tr>\n",
       "    <tr>\n",
       "      <th>1</th>\n",
       "      <td>20000</td>\n",
       "      <td>0</td>\n",
       "      <td>nighttime</td>\n",
       "      <td>79</td>\n",
       "      <td>89</td>\n",
       "    </tr>\n",
       "    <tr>\n",
       "      <th>2</th>\n",
       "      <td>20000</td>\n",
       "      <td>1</td>\n",
       "      <td>daytime</td>\n",
       "      <td>79</td>\n",
       "      <td>89</td>\n",
       "    </tr>\n",
       "  </tbody>\n",
       "</table>\n",
       "</div>"
      ],
      "text/plain": [
       "     uid  dow    t_label  dow_t_label_x  dow_t_label_y\n",
       "0  20000    0    daytime             79             89\n",
       "1  20000    0  nighttime             79             89\n",
       "2  20000    1    daytime             79             89"
      ]
     },
     "execution_count": 21,
     "metadata": {},
     "output_type": "execute_result"
    }
   ],
   "source": [
    "# uid×dow×t_label毎に最頻値を算出\n",
    "df_dow_t_label_mode = (\n",
    "    df_city_b_train\n",
    "    .groupby([\"uid\", \"dow\", \"t_label\"])\n",
    "    [[\"x\", \"y\"]]\n",
    "    .agg(\n",
    "        lambda x: x.mode().iloc[0]\n",
    "    )\n",
    "    .reset_index()\n",
    "\n",
    "    .rename(\n",
    "        columns={\"x\": \"dow_t_label_x\", \"y\": \"dow_t_label_y\"}\n",
    "    )\n",
    ")\n",
    "df_dow_t_label_mode.head(3)"
   ]
  },
  {
   "cell_type": "code",
   "execution_count": 22,
   "id": "ab67fe89",
   "metadata": {
    "execution": {
     "iopub.execute_input": "2024-09-09T00:18:43.980546Z",
     "iopub.status.busy": "2024-09-09T00:18:43.980081Z",
     "iopub.status.idle": "2024-09-09T00:18:45.781374Z",
     "shell.execute_reply": "2024-09-09T00:18:45.780244Z"
    },
    "papermill": {
     "duration": 1.821515,
     "end_time": "2024-09-09T00:18:45.783999",
     "exception": false,
     "start_time": "2024-09-09T00:18:43.962484",
     "status": "completed"
    },
    "tags": [],
    "vscode": {
     "languageId": "plaintext"
    }
   },
   "outputs": [
    {
     "data": {
      "text/html": [
       "<div>\n",
       "<style scoped>\n",
       "    .dataframe tbody tr th:only-of-type {\n",
       "        vertical-align: middle;\n",
       "    }\n",
       "\n",
       "    .dataframe tbody tr th {\n",
       "        vertical-align: top;\n",
       "    }\n",
       "\n",
       "    .dataframe thead th {\n",
       "        text-align: right;\n",
       "    }\n",
       "</style>\n",
       "<table border=\"1\" class=\"dataframe\">\n",
       "  <thead>\n",
       "    <tr style=\"text-align: right;\">\n",
       "      <th></th>\n",
       "      <th>uid</th>\n",
       "      <th>t_label</th>\n",
       "      <th>t_label_x</th>\n",
       "      <th>t_label_y</th>\n",
       "    </tr>\n",
       "  </thead>\n",
       "  <tbody>\n",
       "    <tr>\n",
       "      <th>0</th>\n",
       "      <td>20000</td>\n",
       "      <td>daytime</td>\n",
       "      <td>79</td>\n",
       "      <td>89</td>\n",
       "    </tr>\n",
       "    <tr>\n",
       "      <th>1</th>\n",
       "      <td>20000</td>\n",
       "      <td>nighttime</td>\n",
       "      <td>79</td>\n",
       "      <td>89</td>\n",
       "    </tr>\n",
       "    <tr>\n",
       "      <th>2</th>\n",
       "      <td>20001</td>\n",
       "      <td>daytime</td>\n",
       "      <td>78</td>\n",
       "      <td>99</td>\n",
       "    </tr>\n",
       "  </tbody>\n",
       "</table>\n",
       "</div>"
      ],
      "text/plain": [
       "     uid    t_label  t_label_x  t_label_y\n",
       "0  20000    daytime         79         89\n",
       "1  20000  nighttime         79         89\n",
       "2  20001    daytime         78         99"
      ]
     },
     "execution_count": 22,
     "metadata": {},
     "output_type": "execute_result"
    }
   ],
   "source": [
    "# uid×t_label毎に最頻値を算出\n",
    "df_t_label_mode = (\n",
    "    df_city_b_train\n",
    "    .groupby([\"uid\", \"t_label\"])\n",
    "    [[\"x\", \"y\"]]\n",
    "    .agg(\n",
    "        lambda x: x.mode().iloc[0]\n",
    "    )\n",
    "\n",
    "    .reset_index()\n",
    "\n",
    "    .rename(\n",
    "        columns={\"x\": \"t_label_x\", \"y\": \"t_label_y\"}\n",
    "    )\n",
    ")\n",
    "df_t_label_mode.head(3)"
   ]
  },
  {
   "cell_type": "code",
   "execution_count": 23,
   "id": "18fb5cf5",
   "metadata": {
    "execution": {
     "iopub.execute_input": "2024-09-09T00:18:45.819818Z",
     "iopub.status.busy": "2024-09-09T00:18:45.819371Z",
     "iopub.status.idle": "2024-09-09T00:18:46.642610Z",
     "shell.execute_reply": "2024-09-09T00:18:46.641402Z"
    },
    "papermill": {
     "duration": 0.843943,
     "end_time": "2024-09-09T00:18:46.645095",
     "exception": false,
     "start_time": "2024-09-09T00:18:45.801152",
     "status": "completed"
    },
    "tags": [],
    "vscode": {
     "languageId": "plaintext"
    }
   },
   "outputs": [
    {
     "data": {
      "text/html": [
       "<div>\n",
       "<style scoped>\n",
       "    .dataframe tbody tr th:only-of-type {\n",
       "        vertical-align: middle;\n",
       "    }\n",
       "\n",
       "    .dataframe tbody tr th {\n",
       "        vertical-align: top;\n",
       "    }\n",
       "\n",
       "    .dataframe thead th {\n",
       "        text-align: right;\n",
       "    }\n",
       "</style>\n",
       "<table border=\"1\" class=\"dataframe\">\n",
       "  <thead>\n",
       "    <tr style=\"text-align: right;\">\n",
       "      <th></th>\n",
       "      <th>uid</th>\n",
       "      <th>uid_x</th>\n",
       "      <th>uid_y</th>\n",
       "    </tr>\n",
       "  </thead>\n",
       "  <tbody>\n",
       "    <tr>\n",
       "      <th>0</th>\n",
       "      <td>20000</td>\n",
       "      <td>79</td>\n",
       "      <td>89</td>\n",
       "    </tr>\n",
       "    <tr>\n",
       "      <th>1</th>\n",
       "      <td>20001</td>\n",
       "      <td>78</td>\n",
       "      <td>99</td>\n",
       "    </tr>\n",
       "    <tr>\n",
       "      <th>2</th>\n",
       "      <td>20002</td>\n",
       "      <td>80</td>\n",
       "      <td>100</td>\n",
       "    </tr>\n",
       "  </tbody>\n",
       "</table>\n",
       "</div>"
      ],
      "text/plain": [
       "     uid  uid_x  uid_y\n",
       "0  20000     79     89\n",
       "1  20001     78     99\n",
       "2  20002     80    100"
      ]
     },
     "execution_count": 23,
     "metadata": {},
     "output_type": "execute_result"
    }
   ],
   "source": [
    "# uid毎に最頻値を算出\n",
    "df_uid_mode = (\n",
    "    df_city_b_train\n",
    "    .groupby([\"uid\"])\n",
    "    [[\"x\", \"y\"]]\n",
    "    .agg(\n",
    "        lambda x: x.mode().iloc[0]\n",
    "    )\n",
    "\n",
    "    .reset_index()\n",
    "\n",
    "    .rename(\n",
    "        columns={\"x\": \"uid_x\", \"y\": \"uid_y\"}\n",
    "    )\n",
    ")\n",
    "df_uid_mode.head(3)"
   ]
  },
  {
   "cell_type": "markdown",
   "id": "5f7d2420",
   "metadata": {
    "papermill": {
     "duration": 0.016475,
     "end_time": "2024-09-09T00:18:46.678367",
     "exception": false,
     "start_time": "2024-09-09T00:18:46.661892",
     "status": "completed"
    },
    "tags": []
   },
   "source": [
    "### 予測"
   ]
  },
  {
   "cell_type": "code",
   "execution_count": 24,
   "id": "96eefa27",
   "metadata": {
    "execution": {
     "iopub.execute_input": "2024-09-09T00:18:46.713977Z",
     "iopub.status.busy": "2024-09-09T00:18:46.713530Z",
     "iopub.status.idle": "2024-09-09T00:18:47.159118Z",
     "shell.execute_reply": "2024-09-09T00:18:47.157755Z"
    },
    "papermill": {
     "duration": 0.467071,
     "end_time": "2024-09-09T00:18:47.162046",
     "exception": false,
     "start_time": "2024-09-09T00:18:46.694975",
     "status": "completed"
    },
    "tags": [],
    "vscode": {
     "languageId": "plaintext"
    }
   },
   "outputs": [],
   "source": [
    "# 欠損値補完テーブルを結合\n",
    "df_city_b_pred = (\n",
    "    df_city_b_answer\n",
    "\n",
    "    .merge(df_dow_t_mode, on=[\"uid\", \"dow\", \"t\"], how=\"left\")\n",
    "    .merge(df_t_mode, on=[\"uid\", \"t\"], how=\"left\")\n",
    "    .merge(df_dow_t_label_mode, on=[\"uid\", \"dow\", \"t_label\"], how=\"left\")\n",
    "    .merge(df_t_label_mode, on=[\"uid\", \"t_label\"], how=\"left\")\n",
    "    .merge(df_uid_mode, on=[\"uid\"], how=\"left\")\n",
    ")"
   ]
  },
  {
   "cell_type": "code",
   "execution_count": 25,
   "id": "79687e15",
   "metadata": {
    "execution": {
     "iopub.execute_input": "2024-09-09T00:18:47.199041Z",
     "iopub.status.busy": "2024-09-09T00:18:47.198605Z",
     "iopub.status.idle": "2024-09-09T00:18:47.227842Z",
     "shell.execute_reply": "2024-09-09T00:18:47.226682Z"
    },
    "papermill": {
     "duration": 0.050725,
     "end_time": "2024-09-09T00:18:47.230466",
     "exception": false,
     "start_time": "2024-09-09T00:18:47.179741",
     "status": "completed"
    },
    "tags": [],
    "vscode": {
     "languageId": "plaintext"
    }
   },
   "outputs": [],
   "source": [
    "# 優先順位をつけて最終的な予測値を算出\n",
    "df_city_b_pred[\"pred_x\"] = (\n",
    "    df_city_b_pred[\"dow_t_x\"]\n",
    "    .fillna(df_city_b_pred[\"t_x\"])\n",
    "    .fillna(df_city_b_pred[\"dow_t_label_x\"])\n",
    "    .fillna(df_city_b_pred[\"t_label_x\"])\n",
    "    .fillna(df_city_b_pred[\"uid_x\"])\n",
    ")\n",
    "\n",
    "df_city_b_pred[\"pred_y\"] = (\n",
    "    df_city_b_pred[\"dow_t_y\"]\n",
    "    .fillna(df_city_b_pred[\"t_y\"])\n",
    "    .fillna(df_city_b_pred[\"dow_t_label_y\"])\n",
    "    .fillna(df_city_b_pred[\"t_label_y\"])\n",
    "    .fillna(df_city_b_pred[\"uid_y\"])\n",
    ")"
   ]
  },
  {
   "cell_type": "code",
   "execution_count": 26,
   "id": "7a1169cf",
   "metadata": {
    "execution": {
     "iopub.execute_input": "2024-09-09T00:18:47.266368Z",
     "iopub.status.busy": "2024-09-09T00:18:47.265858Z",
     "iopub.status.idle": "2024-09-09T00:18:47.289004Z",
     "shell.execute_reply": "2024-09-09T00:18:47.287949Z"
    },
    "papermill": {
     "duration": 0.044176,
     "end_time": "2024-09-09T00:18:47.291848",
     "exception": false,
     "start_time": "2024-09-09T00:18:47.247672",
     "status": "completed"
    },
    "tags": [],
    "vscode": {
     "languageId": "plaintext"
    }
   },
   "outputs": [
    {
     "data": {
      "text/html": [
       "<div>\n",
       "<style scoped>\n",
       "    .dataframe tbody tr th:only-of-type {\n",
       "        vertical-align: middle;\n",
       "    }\n",
       "\n",
       "    .dataframe tbody tr th {\n",
       "        vertical-align: top;\n",
       "    }\n",
       "\n",
       "    .dataframe thead th {\n",
       "        text-align: right;\n",
       "    }\n",
       "</style>\n",
       "<table border=\"1\" class=\"dataframe\">\n",
       "  <thead>\n",
       "    <tr style=\"text-align: right;\">\n",
       "      <th></th>\n",
       "      <th>uid</th>\n",
       "      <th>d</th>\n",
       "      <th>t</th>\n",
       "      <th>x</th>\n",
       "      <th>y</th>\n",
       "      <th>pred_x</th>\n",
       "      <th>pred_y</th>\n",
       "    </tr>\n",
       "  </thead>\n",
       "  <tbody>\n",
       "    <tr>\n",
       "      <th>0</th>\n",
       "      <td>20000</td>\n",
       "      <td>60</td>\n",
       "      <td>11</td>\n",
       "      <td>79</td>\n",
       "      <td>89</td>\n",
       "      <td>79.0</td>\n",
       "      <td>89.0</td>\n",
       "    </tr>\n",
       "    <tr>\n",
       "      <th>1</th>\n",
       "      <td>20000</td>\n",
       "      <td>60</td>\n",
       "      <td>15</td>\n",
       "      <td>79</td>\n",
       "      <td>89</td>\n",
       "      <td>79.0</td>\n",
       "      <td>89.0</td>\n",
       "    </tr>\n",
       "    <tr>\n",
       "      <th>2</th>\n",
       "      <td>20000</td>\n",
       "      <td>60</td>\n",
       "      <td>19</td>\n",
       "      <td>79</td>\n",
       "      <td>89</td>\n",
       "      <td>80.0</td>\n",
       "      <td>88.0</td>\n",
       "    </tr>\n",
       "    <tr>\n",
       "      <th>3</th>\n",
       "      <td>20000</td>\n",
       "      <td>60</td>\n",
       "      <td>20</td>\n",
       "      <td>79</td>\n",
       "      <td>89</td>\n",
       "      <td>79.0</td>\n",
       "      <td>88.0</td>\n",
       "    </tr>\n",
       "    <tr>\n",
       "      <th>4</th>\n",
       "      <td>20000</td>\n",
       "      <td>60</td>\n",
       "      <td>21</td>\n",
       "      <td>79</td>\n",
       "      <td>89</td>\n",
       "      <td>79.0</td>\n",
       "      <td>89.0</td>\n",
       "    </tr>\n",
       "    <tr>\n",
       "      <th>...</th>\n",
       "      <td>...</td>\n",
       "      <td>...</td>\n",
       "      <td>...</td>\n",
       "      <td>...</td>\n",
       "      <td>...</td>\n",
       "      <td>...</td>\n",
       "      <td>...</td>\n",
       "    </tr>\n",
       "    <tr>\n",
       "      <th>342560</th>\n",
       "      <td>21999</td>\n",
       "      <td>74</td>\n",
       "      <td>27</td>\n",
       "      <td>80</td>\n",
       "      <td>143</td>\n",
       "      <td>80.0</td>\n",
       "      <td>143.0</td>\n",
       "    </tr>\n",
       "    <tr>\n",
       "      <th>342561</th>\n",
       "      <td>21999</td>\n",
       "      <td>74</td>\n",
       "      <td>28</td>\n",
       "      <td>80</td>\n",
       "      <td>143</td>\n",
       "      <td>80.0</td>\n",
       "      <td>143.0</td>\n",
       "    </tr>\n",
       "    <tr>\n",
       "      <th>342562</th>\n",
       "      <td>21999</td>\n",
       "      <td>74</td>\n",
       "      <td>36</td>\n",
       "      <td>80</td>\n",
       "      <td>143</td>\n",
       "      <td>80.0</td>\n",
       "      <td>143.0</td>\n",
       "    </tr>\n",
       "    <tr>\n",
       "      <th>342563</th>\n",
       "      <td>21999</td>\n",
       "      <td>74</td>\n",
       "      <td>37</td>\n",
       "      <td>81</td>\n",
       "      <td>144</td>\n",
       "      <td>80.0</td>\n",
       "      <td>143.0</td>\n",
       "    </tr>\n",
       "    <tr>\n",
       "      <th>342564</th>\n",
       "      <td>21999</td>\n",
       "      <td>74</td>\n",
       "      <td>46</td>\n",
       "      <td>83</td>\n",
       "      <td>144</td>\n",
       "      <td>85.0</td>\n",
       "      <td>144.0</td>\n",
       "    </tr>\n",
       "  </tbody>\n",
       "</table>\n",
       "<p>342565 rows × 7 columns</p>\n",
       "</div>"
      ],
      "text/plain": [
       "          uid   d   t   x    y  pred_x  pred_y\n",
       "0       20000  60  11  79   89    79.0    89.0\n",
       "1       20000  60  15  79   89    79.0    89.0\n",
       "2       20000  60  19  79   89    80.0    88.0\n",
       "3       20000  60  20  79   89    79.0    88.0\n",
       "4       20000  60  21  79   89    79.0    89.0\n",
       "...       ...  ..  ..  ..  ...     ...     ...\n",
       "342560  21999  74  27  80  143    80.0   143.0\n",
       "342561  21999  74  28  80  143    80.0   143.0\n",
       "342562  21999  74  36  80  143    80.0   143.0\n",
       "342563  21999  74  37  81  144    80.0   143.0\n",
       "342564  21999  74  46  83  144    85.0   144.0\n",
       "\n",
       "[342565 rows x 7 columns]"
      ]
     },
     "execution_count": 26,
     "metadata": {},
     "output_type": "execute_result"
    }
   ],
   "source": [
    "# 最終的なdf\n",
    "df_city_b_pred[[\"uid\", \"d\", \"t\", \"x\", \"y\", \"pred_x\", \"pred_y\"]]"
   ]
  },
  {
   "cell_type": "markdown",
   "id": "5c4a36f7",
   "metadata": {
    "papermill": {
     "duration": 0.016875,
     "end_time": "2024-09-09T00:18:47.326704",
     "exception": false,
     "start_time": "2024-09-09T00:18:47.309829",
     "status": "completed"
    },
    "tags": []
   },
   "source": [
    "### 精度検証"
   ]
  },
  {
   "cell_type": "code",
   "execution_count": 27,
   "id": "b304453d",
   "metadata": {
    "execution": {
     "iopub.execute_input": "2024-09-09T00:18:47.364172Z",
     "iopub.status.busy": "2024-09-09T00:18:47.363670Z",
     "iopub.status.idle": "2024-09-09T00:26:53.670969Z",
     "shell.execute_reply": "2024-09-09T00:26:53.669325Z"
    },
    "papermill": {
     "duration": 486.330069,
     "end_time": "2024-09-09T00:26:53.674165",
     "exception": false,
     "start_time": "2024-09-09T00:18:47.344096",
     "status": "completed"
    },
    "tags": [],
    "vscode": {
     "languageId": "plaintext"
    }
   },
   "outputs": [],
   "source": [
    "list_geobleu_val = []\n",
    "list_dtw_val = []\n",
    "\n",
    "for i in range(20000, 22000):\n",
    "# for i in range(20000, 20010):\n",
    "    \n",
    "    \n",
    "    # 該当uidのデータを抽出\n",
    "    df = (\n",
    "        df_city_b_pred\n",
    "        .loc[df_city_b_pred[\"uid\"] == i]\n",
    "    )\n",
    "\n",
    "    # 予測値のリスト\n",
    "    df_pred = df[[\"d\", \"t\", \"pred_x\", \"pred_y\"]]\n",
    "    list_pred = [tuple(row) for row in df_pred.to_records(index=False)]\n",
    "\n",
    "    # 正解値のリスト\n",
    "    df_answer = df[[\"d\", \"t\", \"x\", \"y\"]]\n",
    "    list_answer = [tuple(row) for row in df_answer.to_records(index=False)]\n",
    "\n",
    "    # スコア算出\n",
    "    geobleu_val = geobleu.calc_geobleu(list_pred, list_answer, processes=3)\n",
    "    list_geobleu_val.append(geobleu_val)\n",
    "    \n",
    "    dtw_val = geobleu.calc_dtw(list_pred, list_answer, processes=3)\n",
    "    list_dtw_val.append(dtw_val)\n"
   ]
  },
  {
   "cell_type": "code",
   "execution_count": 28,
   "id": "c4c13a8a",
   "metadata": {
    "execution": {
     "iopub.execute_input": "2024-09-09T00:26:53.711407Z",
     "iopub.status.busy": "2024-09-09T00:26:53.710799Z",
     "iopub.status.idle": "2024-09-09T00:26:53.718420Z",
     "shell.execute_reply": "2024-09-09T00:26:53.717267Z"
    },
    "papermill": {
     "duration": 0.02928,
     "end_time": "2024-09-09T00:26:53.721027",
     "exception": false,
     "start_time": "2024-09-09T00:26:53.691747",
     "status": "completed"
    },
    "tags": [],
    "vscode": {
     "languageId": "plaintext"
    }
   },
   "outputs": [
    {
     "name": "stdout",
     "output_type": "stream",
     "text": [
      "geobleu:0.2654042410092569\n",
      "dtw:39.03152235582942\n"
     ]
    }
   ],
   "source": [
    "print(f\"geobleu:{np.mean(list_geobleu_val)}\")\n",
    "print(f\"dtw:{np.mean(list_dtw_val)}\")"
   ]
  },
  {
   "cell_type": "code",
   "execution_count": null,
   "id": "1d1710cb",
   "metadata": {
    "papermill": {
     "duration": 0.017007,
     "end_time": "2024-09-09T00:26:53.755583",
     "exception": false,
     "start_time": "2024-09-09T00:26:53.738576",
     "status": "completed"
    },
    "tags": []
   },
   "outputs": [],
   "source": []
  },
  {
   "cell_type": "code",
   "execution_count": null,
   "id": "5b75b941",
   "metadata": {
    "papermill": {
     "duration": 0.017408,
     "end_time": "2024-09-09T00:26:53.790177",
     "exception": false,
     "start_time": "2024-09-09T00:26:53.772769",
     "status": "completed"
    },
    "tags": []
   },
   "outputs": [],
   "source": []
  }
 ],
 "metadata": {
  "kaggle": {
   "accelerator": "none",
   "dataSources": [
    {
     "datasetId": 5618308,
     "sourceId": 9292243,
     "sourceType": "datasetVersion"
    }
   ],
   "dockerImageVersionId": 30761,
   "isGpuEnabled": false,
   "isInternetEnabled": true,
   "language": "python",
   "sourceType": "notebook"
  },
  "kernelspec": {
   "display_name": "Python 3",
   "language": "python",
   "name": "python3"
  },
  "language_info": {
   "codemirror_mode": {
    "name": "ipython",
    "version": 3
   },
   "file_extension": ".py",
   "mimetype": "text/x-python",
   "name": "python",
   "nbconvert_exporter": "python",
   "pygments_lexer": "ipython3",
   "version": "3.8.8"
  },
  "papermill": {
   "default_parameters": {},
   "duration": 4120.763799,
   "end_time": "2024-09-09T00:26:54.531163",
   "environment_variables": {},
   "exception": null,
   "input_path": "__notebook__.ipynb",
   "output_path": "__notebook__.ipynb",
   "parameters": {},
   "start_time": "2024-09-08T23:18:13.767364",
   "version": "2.6.0"
  },
  "toc": {
   "base_numbering": 1,
   "nav_menu": {},
   "number_sections": true,
   "sideBar": true,
   "skip_h1_title": false,
   "title_cell": "Table of Contents",
   "title_sidebar": "Contents",
   "toc_cell": false,
   "toc_position": {},
   "toc_section_display": true,
   "toc_window_display": false
  }
 },
 "nbformat": 4,
 "nbformat_minor": 5
}
