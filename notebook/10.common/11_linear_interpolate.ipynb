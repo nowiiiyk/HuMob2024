{
 "cells": [
  {
   "cell_type": "markdown",
   "id": "72798a24-d475-4604-a47b-2b269404eb36",
   "metadata": {},
   "source": [
    "## 線形補完"
   ]
  },
  {
   "cell_type": "markdown",
   "id": "4a8e682a-6879-40fa-a788-26c8c7681cce",
   "metadata": {},
   "source": [
    "### 設定"
   ]
  },
  {
   "cell_type": "code",
   "execution_count": null,
   "id": "96c30835-8e51-49e1-8997-a7514d47bb8d",
   "metadata": {},
   "outputs": [],
   "source": [
    "import pandas as pd\n",
    "\n",
    "from IPython.display import clear_output"
   ]
  },
  {
   "cell_type": "markdown",
   "id": "904ca560-d5fd-46b3-8629-ca4d6508d1a4",
   "metadata": {},
   "source": [
    "### 定数定義"
   ]
  },
  {
   "cell_type": "code",
   "execution_count": null,
   "id": "4f388660-b68d-49f1-a152-11e72b257fe4",
   "metadata": {},
   "outputs": [],
   "source": [
    "INPUT_PATH = \"../../data/cityB_challengedata.csv.gz\"\n",
    "OUTPUT_PATH = \"../../data/cityB_challengedata_interpolated.csv\"\n",
    "\n",
    "# 教師データの区間数\n",
    "D_TRAIN_RANGE = 60\n",
    "\n",
    "# 1日を30分ごとの時間帯に分割したときの区間数\n",
    "T_RANGE = 48\n",
    "\n",
    "# 補完対象とする欠損ブロックの最大長(ex.N=8ならば8時間連続して欠損した場合に線形補完)\n",
    "INTERPOLATE_N = 8"
   ]
  },
  {
   "cell_type": "markdown",
   "id": "3a3ff3b6-b95c-424f-9313-c3ce36638433",
   "metadata": {},
   "source": [
    "### データ読み込み・分割"
   ]
  },
  {
   "cell_type": "code",
   "execution_count": null,
   "id": "477e1e9a-eab7-4196-b404-e837aac65ba5",
   "metadata": {
    "scrolled": true
   },
   "outputs": [],
   "source": [
    "df = pd.read_csv(INPUT_PATH)\n",
    "df"
   ]
  },
  {
   "cell_type": "code",
   "execution_count": null,
   "id": "5096087d-9118-4af8-ad8b-276ffeafca90",
   "metadata": {},
   "outputs": [],
   "source": [
    "df_train = (\n",
    "    df\n",
    "    .loc[df[\"d\"] < D_TRAIN_RANGE]\n",
    ")\n",
    "df_train"
   ]
  },
  {
   "cell_type": "code",
   "execution_count": null,
   "id": "c7f6541e-fcf5-4088-b4a5-8926c9a61b2a",
   "metadata": {},
   "outputs": [],
   "source": [
    "df_pred = (\n",
    "    df\n",
    "    .loc[df[\"d\"] >= D_TRAIN_RANGE]\n",
    ")\n",
    "df_pred"
   ]
  },
  {
   "cell_type": "markdown",
   "id": "18d837f7-7424-4454-8912-ef4112354be1",
   "metadata": {},
   "source": [
    "### 本処理"
   ]
  },
  {
   "cell_type": "code",
   "execution_count": null,
   "id": "ec1491e4-c85d-4594-9d3a-2822e41f3ada",
   "metadata": {},
   "outputs": [],
   "source": [
    "class LinearInterpolater:\n",
    "    \"\"\"線形補完を行うためのメソッドを集約したクラス\"\"\"\n",
    "\n",
    "    def __init__(self):\n",
    "        pass\n",
    "\n",
    "    def linear_interpolate(self, df_train, interpolate_n=8, d_range=60, t_range=48):\n",
    "        \"\"\"教師データについて、欠損しているレコードを線形補完\"\"\"\n",
    "\n",
    "        # 教師データについて、欠損しているレコードをNullで復元\n",
    "        df_train_full = self._get_full_df(df_train, d_range, t_range)\n",
    "\n",
    "        # ユーザごとに日付・時刻順にソートし、各レコードに0から始まる連番を付与（日付を跨いでも加算され続けるt）\n",
    "        df_train_full_st = self._add_sequential_time(df_train_full)\n",
    "\n",
    "        # 線形補完\n",
    "        df_train_fill = self._lerp_df(df_train_full_st, interpolate_n)\n",
    "\n",
    "        return df_train_fill\n",
    "        \n",
    "    def _get_full_df(self, df_train, d_range, t_range):\n",
    "        \"\"\"教師データについて、欠損しているレコードを(x, y) = (-1, -1)で復元\"\"\"\n",
    "\n",
    "        # ユニークなuid, d, tをそれぞれdfとして作成\n",
    "        df_uid = pd.DataFrame({\"uid\": df_train[\"uid\"].unique()})\n",
    "        df_d = pd.DataFrame({\"d\": range(0, d_range)})\n",
    "        df_t = pd.DataFrame({\"t\": range(0, t_range)})\n",
    "\n",
    "        # ①：作成したdfをクロス結合し、全てのuid, d, tの組み合わせを保持するdfを作成\n",
    "        # ②：教師データに存在するレコードは(x, y)を該当する値で、欠損しているレコードは(x, y) = (-1, -1)で復元\n",
    "        df_train_full = (\n",
    "            # ①\n",
    "            df_uid.assign(key=1)\n",
    "            .merge(df_d.assign(key=1), on='key')\n",
    "            .merge(df_t.assign(key=1), on='key')\n",
    "            .drop('key', axis=1)\n",
    "\n",
    "            # ②\n",
    "            .merge(df_train, on=['uid', 'd', 't'], how='left')\n",
    "            .fillna(-1).copy()\n",
    "            .sort_values(by=['uid', 'd', 't'])\n",
    "        )\n",
    "\n",
    "        return df_train_full\n",
    "\n",
    "    def _add_sequential_time(self, df_train_full):\n",
    "        \"\"\"ユーザごとに日付・時刻順にソートし、各レコードに0から始まる連番を付与\"\"\"\n",
    "            \n",
    "        df_with_seq_t = df_train_full.sort_values([\"uid\", \"d\", \"t\"]).copy()\n",
    "        df_with_seq_t[\"sequential_t\"] = (\n",
    "            df_with_seq_t\n",
    "            .groupby(\"uid\")\n",
    "            .cumcount()\n",
    "        )\n",
    "\n",
    "        return df_with_seq_t\n",
    "\n",
    "    def _lerp_df(self, df_train_full_st, interpolate_n):\n",
    "        \"\"\"ユーザごとに欠損レコードに対して線形補完を行い、補完後のデータを縦結合\"\"\"\n",
    "\n",
    "        # ユーザごとに線形補完したデータを格納するリスト\n",
    "        df_filled_list = []\n",
    "\n",
    "        # 全てのユーザをループ\n",
    "        for uid, df_user in df_train_full_st.groupby(\"uid\"):\n",
    "            clear_output(True)\n",
    "            print(f\"処理中のuid:{uid}\")\n",
    "            df_user = df_user.sort_values(\"sequential_t\").copy().reset_index(drop=True)\n",
    "    \n",
    "            df_user_filled = self._fill_missing_for_user(df_user, interpolate_n)\n",
    "            df_filled_list.append(df_user_filled)\n",
    "    \n",
    "        df_train_fill = (\n",
    "            pd.concat(df_filled_list)\n",
    "            .sort_values([\"uid\", \"sequential_t\"])\n",
    "            .reset_index(drop=True)\n",
    "            .drop(columns=[\"sequential_t\"])\n",
    "        )\n",
    "        return df_train_fill\n",
    "\n",
    "    def _fill_missing_for_user(self, df_user, interpolate_n):\n",
    "        \"\"\"ユーザーの時系列データに対して、欠損レコードを線形補完\"\"\"\n",
    "\n",
    "        # 全てのレコードをループ\n",
    "        for i in range(len(df_user)):\n",
    "\n",
    "            # 該当レコードが欠損している場合\n",
    "            if df_user.iloc[i][\"x\"] == -1:\n",
    "\n",
    "                # 線形補完に用いるレコードを抽出\n",
    "                prev_valid, next_valid = self._find_surrounding_valid_points(df_user, i)\n",
    "\n",
    "                # 線形補完に用いるレコードとして、有効なデータが抽出できた場合\n",
    "                if prev_valid is not None and next_valid is not None:\n",
    "\n",
    "                    # レコード間の時間の差を算出、基準値以内であれば線形補完を実施\n",
    "                    time_diff = int(next_valid[\"sequential_t\"] - prev_valid[\"sequential_t\"])\n",
    "                    if time_diff < interpolate_n * 2:\n",
    "                        self._apply_linear_interpolation(df_user, prev_valid, next_valid, i, time_diff)\n",
    "\n",
    "        # 線形補完後も欠損しているレコードを除外\n",
    "        df_user_fill = df_user[df_user[\"x\"] != -1].copy()\n",
    "        df_user_fill[\"x\"] = df_user_fill[\"x\"].astype(int)\n",
    "        df_user_fill[\"y\"] = df_user_fill[\"y\"].astype(int)\n",
    "        \n",
    "        return df_user_fill\n",
    "\n",
    "    def _find_surrounding_valid_points(self, df_user, i):\n",
    "        \"\"\"指定インデックスの前後に存在する線形補完に有効なレコードを探索\"\"\"\n",
    "        prev_valid = None\n",
    "        next_valid = None\n",
    "    \n",
    "        if (i != 0) and (df_user.iloc[i - 1][\"x\"] != -1):\n",
    "            prev_valid = df_user.iloc[i - 1]\n",
    "    \n",
    "        for j in range(i + 1, len(df_user)):\n",
    "            if df_user.iloc[j][\"x\"] != -1:\n",
    "                next_valid = df_user.iloc[j]\n",
    "                break\n",
    "    \n",
    "        return prev_valid, next_valid\n",
    "\n",
    "    def _apply_linear_interpolation(self, df_user, prev_valid, next_valid, start_idx, time_diff):\n",
    "        \"\"\"欠損ブロックに対して、前後の有効データを用いて線形補完\"\"\"\n",
    "        x_diff = next_valid[\"x\"] - prev_valid[\"x\"]\n",
    "        y_diff = next_valid[\"y\"] - prev_valid[\"y\"]\n",
    "    \n",
    "        for j in range(start_idx, start_idx + time_diff - 1):\n",
    "            if df_user.iloc[j][\"x\"] == -1:\n",
    "                time_from_prev = df_user.iloc[j][\"sequential_t\"] - prev_valid[\"sequential_t\"]\n",
    "                df_user.iat[j, df_user.columns.get_loc(\"x\")] = prev_valid[\"x\"] + (x_diff / time_diff) * time_from_prev\n",
    "                df_user.iat[j, df_user.columns.get_loc(\"y\")] = prev_valid[\"y\"] + (y_diff / time_diff) * time_from_prev\n",
    "\n",
    "        return 0"
   ]
  },
  {
   "cell_type": "code",
   "execution_count": null,
   "id": "a017d555-2c10-4c2c-85bb-3147560c1d6e",
   "metadata": {},
   "outputs": [],
   "source": [
    "li = LinearInterpolater()"
   ]
  },
  {
   "cell_type": "code",
   "execution_count": null,
   "id": "1961eea3-c585-4041-a94d-f8ee1f504455",
   "metadata": {},
   "outputs": [],
   "source": [
    "df_train_full = li.linear_interpolate(df_train, interpolate_n=INTERPOLATE_N, d_range=D_TRAIN_RANGE, t_range=T_RANGE)"
   ]
  },
  {
   "cell_type": "markdown",
   "id": "1af7aa1d-199a-48d0-bee7-bcc7ff28e1a6",
   "metadata": {},
   "source": [
    "### 線形補完された教師データと、予測データをconcatして出力"
   ]
  },
  {
   "cell_type": "code",
   "execution_count": null,
   "id": "a2f2c397-0418-49be-9417-aad54efc2e97",
   "metadata": {},
   "outputs": [],
   "source": [
    "df_full = pd.concat([df_train_full, df_pred], axis=0,  ignore_index=True)"
   ]
  },
  {
   "cell_type": "code",
   "execution_count": null,
   "id": "ad6daf50-5730-46aa-8042-90cde697d88f",
   "metadata": {},
   "outputs": [],
   "source": [
    "df_full.to_csv(OUTPUT_PATH, index=False)"
   ]
  }
 ],
 "metadata": {
  "kernelspec": {
   "display_name": "Python 3 (ipykernel)",
   "language": "python",
   "name": "python3"
  },
  "language_info": {
   "codemirror_mode": {
    "name": "ipython",
    "version": 3
   },
   "file_extension": ".py",
   "mimetype": "text/x-python",
   "name": "python",
   "nbconvert_exporter": "python",
   "pygments_lexer": "ipython3",
   "version": "3.12.4"
  }
 },
 "nbformat": 4,
 "nbformat_minor": 5
}
