{
 "cells": [
  {
   "cell_type": "markdown",
   "id": "a5cdb8fd",
   "metadata": {
    "papermill": {
     "duration": 0.013077,
     "end_time": "2024-09-08T23:18:16.884090",
     "exception": false,
     "start_time": "2024-09-08T23:18:16.871013",
     "status": "completed"
    },
    "tags": []
   },
   "source": [
    "# cityD SVR\n",
    "ver10:シンプルSVRを作成した。\n",
    "ver20:ここで、越智さんがしてた学習データの欠損埋めを行ってからSVRを適用してみる。  \n",
    "ver30:クラスタリングのタイプ別をいれてみる\n",
    "ver40:移動系の特徴量もいれてみる"
   ]
  },
  {
   "cell_type": "markdown",
   "id": "987579ec",
   "metadata": {
    "papermill": {
     "duration": 0.012138,
     "end_time": "2024-09-08T23:18:16.909045",
     "exception": false,
     "start_time": "2024-09-08T23:18:16.896907",
     "status": "completed"
    },
    "tags": []
   },
   "source": [
    "#### 設定"
   ]
  },
  {
   "cell_type": "code",
   "execution_count": 1,
   "id": "a87e77b1",
   "metadata": {
    "execution": {
     "iopub.execute_input": "2024-09-08T23:18:16.935844Z",
     "iopub.status.busy": "2024-09-08T23:18:16.935382Z",
     "iopub.status.idle": "2024-09-08T23:18:38.890473Z",
     "shell.execute_reply": "2024-09-08T23:18:38.888967Z"
    },
    "papermill": {
     "duration": 21.971946,
     "end_time": "2024-09-08T23:18:38.893406",
     "exception": false,
     "start_time": "2024-09-08T23:18:16.921460",
     "status": "completed"
    },
    "tags": []
   },
   "outputs": [
    {
     "name": "stdout",
     "output_type": "stream",
     "text": [
      "Cloning into 'geobleu'...\n",
      "remote: Enumerating objects: 156, done.\u001b[K\n",
      "remote: Counting objects: 100% (156/156), done.\u001b[K\n",
      "remote: Compressing objects: 100% (107/107), done.\u001b[K\n",
      "remote: Total 156 (delta 75), reused 126 (delta 46), pack-reused 0 (from 0)\u001b[K\n",
      "Receiving objects: 100% (156/156), 26.72 KiB | 2.97 MiB/s, done.\n",
      "Resolving deltas: 100% (75/75), done.\n",
      "Processing ./geobleu\n",
      "  Preparing metadata (setup.py) ... \u001b[?25ldone\n",
      "\u001b[?25hRequirement already satisfied: numpy in /opt/conda/lib/python3.10/site-packages (from geobleu==0.3) (1.26.4)\n",
      "Requirement already satisfied: scipy in /opt/conda/lib/python3.10/site-packages (from geobleu==0.3) (1.11.4)\n",
      "Building wheels for collected packages: geobleu\n",
      "  Building wheel for geobleu (setup.py) ... \u001b[?25ldone\n",
      "\u001b[?25h  Created wheel for geobleu: filename=geobleu-0.3-py3-none-any.whl size=5037 sha256=502045ce0b874827faca891864f153383596ea2c9dac55a01117ad8fad5e0676\n",
      "  Stored in directory: /tmp/pip-ephem-wheel-cache-_x7y37m0/wheels/90/15/a1/d49421f5100216d00a75ab920989107243909c099af9364987\n",
      "Successfully built geobleu\n",
      "Installing collected packages: geobleu\n",
      "  Attempting uninstall: geobleu\n",
      "    Found existing installation: geobleu 0.3\n",
      "    Uninstalling geobleu-0.3:\n",
      "      Successfully uninstalled geobleu-0.3\n",
      "Successfully installed geobleu-0.3\n"
     ]
    }
   ],
   "source": [
    "# BLEUのインストール\n",
    "!git clone https://github.com/yahoojapan/geobleu.git\n",
    "!pip install geobleu/"
   ]
  },
  {
   "cell_type": "code",
   "execution_count": 2,
   "id": "6d6bc9ba",
   "metadata": {
    "execution": {
     "iopub.execute_input": "2024-09-08T23:18:38.924493Z",
     "iopub.status.busy": "2024-09-08T23:18:38.923972Z",
     "iopub.status.idle": "2024-09-08T23:18:40.652668Z",
     "shell.execute_reply": "2024-09-08T23:18:40.651253Z"
    },
    "papermill": {
     "duration": 1.747304,
     "end_time": "2024-09-08T23:18:40.655574",
     "exception": false,
     "start_time": "2024-09-08T23:18:38.908270",
     "status": "completed"
    },
    "tags": []
   },
   "outputs": [],
   "source": [
    "import pandas as pd\n",
    "import numpy as np\n",
    "import geobleu\n",
    "from sklearn.preprocessing import StandardScaler\n",
    "from sklearn.svm import SVR\n",
    "from sklearn.metrics import mean_squared_error\n",
    "from tqdm import tqdm\n",
    "import matplotlib.pyplot as plt\n",
    "from mpl_toolkits.mplot3d import Axes3D\n",
    "from sklearn.cluster import KMeans\n",
    "from sklearn.metrics import silhouette_score"
   ]
  },
  {
   "cell_type": "code",
   "execution_count": 7,
   "id": "ea8c381d",
   "metadata": {
    "execution": {
     "iopub.execute_input": "2024-09-08T23:18:40.753150Z",
     "iopub.status.busy": "2024-09-08T23:18:40.752026Z",
     "iopub.status.idle": "2024-09-08T23:18:40.757430Z",
     "shell.execute_reply": "2024-09-08T23:18:40.756434Z"
    },
    "papermill": {
     "duration": 0.023834,
     "end_time": "2024-09-08T23:18:40.759768",
     "exception": false,
     "start_time": "2024-09-08T23:18:40.735934",
     "status": "completed"
    },
    "tags": []
   },
   "outputs": [],
   "source": [
    "INPUT_PATH = \"../../../s3storage/01_public/humob-challenge-2024/input/cityD_challengedata.csv.gz\"\n",
    "# INPUT_PATH = \"/kaggle/input/humob2024/cityB_challengedata.csv/hiroshima_challengedata.csv\""
   ]
  },
  {
   "cell_type": "markdown",
   "id": "65c0a55b",
   "metadata": {
    "papermill": {
     "duration": 0.013391,
     "end_time": "2024-09-08T23:18:40.786739",
     "exception": false,
     "start_time": "2024-09-08T23:18:40.773348",
     "status": "completed"
    },
    "tags": []
   },
   "source": [
    "#### データ読み込み"
   ]
  },
  {
   "cell_type": "code",
   "execution_count": 8,
   "id": "0e72c91d",
   "metadata": {
    "execution": {
     "iopub.execute_input": "2024-09-08T23:18:40.816062Z",
     "iopub.status.busy": "2024-09-08T23:18:40.815594Z",
     "iopub.status.idle": "2024-09-08T23:18:58.218620Z",
     "shell.execute_reply": "2024-09-08T23:18:58.217308Z"
    },
    "papermill": {
     "duration": 17.421038,
     "end_time": "2024-09-08T23:18:58.221514",
     "exception": false,
     "start_time": "2024-09-08T23:18:40.800476",
     "status": "completed"
    },
    "tags": []
   },
   "outputs": [
    {
     "data": {
      "text/html": [
       "<div>\n",
       "<style scoped>\n",
       "    .dataframe tbody tr th:only-of-type {\n",
       "        vertical-align: middle;\n",
       "    }\n",
       "\n",
       "    .dataframe tbody tr th {\n",
       "        vertical-align: top;\n",
       "    }\n",
       "\n",
       "    .dataframe thead th {\n",
       "        text-align: right;\n",
       "    }\n",
       "</style>\n",
       "<table border=\"1\" class=\"dataframe\">\n",
       "  <thead>\n",
       "    <tr style=\"text-align: right;\">\n",
       "      <th></th>\n",
       "      <th>uid</th>\n",
       "      <th>d</th>\n",
       "      <th>t</th>\n",
       "      <th>x</th>\n",
       "      <th>y</th>\n",
       "    </tr>\n",
       "  </thead>\n",
       "  <tbody>\n",
       "    <tr>\n",
       "      <th>0</th>\n",
       "      <td>0</td>\n",
       "      <td>0</td>\n",
       "      <td>13</td>\n",
       "      <td>133</td>\n",
       "      <td>103</td>\n",
       "    </tr>\n",
       "    <tr>\n",
       "      <th>1</th>\n",
       "      <td>0</td>\n",
       "      <td>0</td>\n",
       "      <td>14</td>\n",
       "      <td>143</td>\n",
       "      <td>98</td>\n",
       "    </tr>\n",
       "    <tr>\n",
       "      <th>2</th>\n",
       "      <td>0</td>\n",
       "      <td>0</td>\n",
       "      <td>16</td>\n",
       "      <td>162</td>\n",
       "      <td>99</td>\n",
       "    </tr>\n",
       "    <tr>\n",
       "      <th>3</th>\n",
       "      <td>0</td>\n",
       "      <td>0</td>\n",
       "      <td>17</td>\n",
       "      <td>149</td>\n",
       "      <td>97</td>\n",
       "    </tr>\n",
       "    <tr>\n",
       "      <th>4</th>\n",
       "      <td>0</td>\n",
       "      <td>0</td>\n",
       "      <td>18</td>\n",
       "      <td>144</td>\n",
       "      <td>98</td>\n",
       "    </tr>\n",
       "  </tbody>\n",
       "</table>\n",
       "</div>"
      ],
      "text/plain": [
       "   uid  d   t    x    y\n",
       "0    0  0  13  133  103\n",
       "1    0  0  14  143   98\n",
       "2    0  0  16  162   99\n",
       "3    0  0  17  149   97\n",
       "4    0  0  18  144   98"
      ]
     },
     "execution_count": 8,
     "metadata": {},
     "output_type": "execute_result"
    }
   ],
   "source": [
    "df_city_b = pd.read_csv(INPUT_PATH)\n",
    "df_city_b.head()"
   ]
  },
  {
   "cell_type": "markdown",
   "id": "82841a05",
   "metadata": {},
   "source": [
    "#### ユーザーを絞り込み、d=60前後で訓練データと正解データに分割"
   ]
  },
  {
   "cell_type": "code",
   "execution_count": 9,
   "id": "05338e97",
   "metadata": {},
   "outputs": [
    {
     "data": {
      "text/html": [
       "<div>\n",
       "<style scoped>\n",
       "    .dataframe tbody tr th:only-of-type {\n",
       "        vertical-align: middle;\n",
       "    }\n",
       "\n",
       "    .dataframe tbody tr th {\n",
       "        vertical-align: top;\n",
       "    }\n",
       "\n",
       "    .dataframe thead th {\n",
       "        text-align: right;\n",
       "    }\n",
       "</style>\n",
       "<table border=\"1\" class=\"dataframe\">\n",
       "  <thead>\n",
       "    <tr style=\"text-align: right;\">\n",
       "      <th></th>\n",
       "      <th>uid</th>\n",
       "      <th>d</th>\n",
       "      <th>t</th>\n",
       "      <th>x</th>\n",
       "      <th>y</th>\n",
       "    </tr>\n",
       "  </thead>\n",
       "  <tbody>\n",
       "    <tr>\n",
       "      <th>4352478</th>\n",
       "      <td>3000</td>\n",
       "      <td>7</td>\n",
       "      <td>25</td>\n",
       "      <td>192</td>\n",
       "      <td>24</td>\n",
       "    </tr>\n",
       "    <tr>\n",
       "      <th>4352479</th>\n",
       "      <td>3000</td>\n",
       "      <td>7</td>\n",
       "      <td>41</td>\n",
       "      <td>193</td>\n",
       "      <td>23</td>\n",
       "    </tr>\n",
       "    <tr>\n",
       "      <th>4352480</th>\n",
       "      <td>3000</td>\n",
       "      <td>7</td>\n",
       "      <td>42</td>\n",
       "      <td>192</td>\n",
       "      <td>24</td>\n",
       "    </tr>\n",
       "  </tbody>\n",
       "</table>\n",
       "</div>"
      ],
      "text/plain": [
       "          uid  d   t    x   y\n",
       "4352478  3000  7  25  192  24\n",
       "4352479  3000  7  41  193  23\n",
       "4352480  3000  7  42  192  24"
      ]
     },
     "execution_count": 9,
     "metadata": {},
     "output_type": "execute_result"
    }
   ],
   "source": [
    "# uidが20000~21999のデータを検証に利用\n",
    "df_city_b_valid = (\n",
    "    df_city_b\n",
    "    .loc[df_city_b[\"uid\"].between(3000, 6000)]\n",
    "    # .loc[df_city_b[\"uid\"].between(20000, 20100)]\n",
    "\n",
    ")\n",
    "df_city_b_valid.head(3)"
   ]
  },
  {
   "cell_type": "code",
   "execution_count": 11,
   "id": "d8beb20d",
   "metadata": {},
   "outputs": [],
   "source": [
    "# dが60前後でデータを分割\n",
    "df_city_b_train = (\n",
    "    df_city_b_valid\n",
    "    .loc[df_city_b_valid[\"d\"] < 60]\n",
    ")\n",
    "\n",
    "df_city_b_answer = (\n",
    "    df_city_b_valid\n",
    "    .loc[df_city_b_valid[\"d\"] >= 60]\n",
    ")"
   ]
  },
  {
   "cell_type": "code",
   "execution_count": 13,
   "id": "4b72d02a",
   "metadata": {},
   "outputs": [],
   "source": [
    "def get_full_df(df, d_range, t_range):\n",
    "    \"\"\"\n",
    "    input: uid, d, t, x, yのdf\n",
    "    output: 全uidでd×tを揃えたdfを作成。x, yが欠損値の場合はnull。\n",
    "    \"\"\"\n",
    "    # 全てのd, tの範囲のデータフレームを作成\n",
    "    full_range_d = pd.DataFrame({'d': range(0, d_range)})\n",
    "    full_range_t = pd.DataFrame({'t': range(0, t_range)})\n",
    "\n",
    "    # uidのユニークな値を取得し、クロス結合を行う\n",
    "    full_range_uid = pd.DataFrame({'uid': df['uid'].unique()})\n",
    "\n",
    "    # クロス結合を行う（全てのuid, d, tの組み合わせ）\n",
    "    full_range = (full_range_uid.assign(key=1)\n",
    "                  .merge(full_range_d.assign(key=1), on='key')\n",
    "                  .merge(full_range_t.assign(key=1), on='key')\n",
    "                  .drop('key', axis=1)\n",
    "                 )\n",
    "\n",
    "    # x, yの値を付与し、欠損値はnullとする\n",
    "    df_train_full = (full_range\n",
    "                     .merge(df, on=['uid', 'd', 't'], how='left')\n",
    "                     .sort_values(by=['uid', 'd', 't'])\n",
    "                    )\n",
    "\n",
    "    return df_train_full"
   ]
  },
  {
   "cell_type": "code",
   "execution_count": 14,
   "id": "415e1172",
   "metadata": {},
   "outputs": [],
   "source": [
    "def interpolate_missing_values(df,N):\n",
    "    \"\"\"\n",
    "    input: uid, d, t, x, yのdf、uidにつきd×tは60×48、x, y欠損値はnull\n",
    "    output: 3時間未満の連続するx, y欠損を直近の前後のx, y値を用いて線形補完したdf\n",
    "    \"\"\"\n",
    "    df_fill = df.fillna(-1).copy()  # 欠損値を一時的に -1 に変換\n",
    "    skip_list = []\n",
    "    interpolate_num = 0\n",
    "    \n",
    "    for i in range(len(df_fill)):\n",
    "#     for i in range(20):\n",
    "        prev_valid = None\n",
    "        next_valid = None\n",
    "        time_diff = None\n",
    "        \n",
    "        # skip_listのインデックスは飛ばす\n",
    "        if i in skip_list:\n",
    "            continue\n",
    "        \n",
    "        # x, yが欠損の場合\n",
    "        if df_fill.loc[i, \"x\"] == -1 and df_fill.loc[i, \"y\"] == -1:\n",
    "            # 前の有効なデータを探す\n",
    "            if prev_valid is None and i != 0:\n",
    "                if df_fill.loc[i - 1, \"x\"] != -1:\n",
    "                    prev_valid = df_fill.loc[i - 1]  # 前のデータが有効な場合\n",
    "            \n",
    "            # 次の有効なデータを探す\n",
    "            if next_valid is None:\n",
    "                for j in range(i + 1, len(df)):\n",
    "                    if df_fill.loc[j, \"x\"] != -1 and df_fill.loc[j, \"y\"] != -1:\n",
    "                        next_valid = df_fill.loc[j]\n",
    "                        break\n",
    "\n",
    "            # 前後の有効データが見つかった場合\n",
    "            if prev_valid is not None and next_valid is not None:\n",
    "#                 print(i, prev_valid, next_valid)\n",
    "                time_diff = int(next_valid[\"t\"] - prev_valid[\"t\"])\n",
    "                \n",
    "                # 3時間未満の欠損なら線形補完\n",
    "                if (time_diff != 0) and (time_diff < N*2):\n",
    "                    x_diff = next_valid[\"x\"] - prev_valid[\"x\"]\n",
    "                    y_diff = next_valid[\"y\"] - prev_valid[\"y\"]\n",
    "                    \n",
    "                    for j in range(i, i + time_diff -1):\n",
    "                        time_from_prev = df.loc[j, \"t\"] - prev_valid[\"t\"]\n",
    "                        # 欠損値を線形補完\n",
    "                        df_fill.loc[j, \"x\"] = prev_valid[\"x\"] + (x_diff / time_diff) * time_from_prev\n",
    "                        df_fill.loc[j, \"y\"] = prev_valid[\"y\"] + (y_diff / time_diff) * time_from_prev\n",
    "                    \n",
    "                    # 補完済みのインデックスをリストに追加\n",
    "                    skip_list = [j for j in range(i, i + time_diff - 1)]\n",
    "                    interpolate_num += len(skip_list)\n",
    "#                     print(skip_list)\n",
    "#                     print(df_fill.iloc[i-1:i+time_diff+3,:])\n",
    "                    \n",
    "#                 else:\n",
    "#                     print(f\"Skipping interpolation for index {i}.\")\n",
    "    print(f\"補完数：{interpolate_num}\")\n",
    "    # 欠損値が補完されたdfを返す\n",
    "    df_fill = df_fill[df_fill[\"x\"]!=-1]\n",
    "    df_fill[\"x\"] =df_fill[\"x\"].astype(int)\n",
    "    df_fill[\"y\"] =df_fill[\"y\"].astype(int)\n",
    "\n",
    "    \n",
    "    return df_fill"
   ]
  },
  {
   "cell_type": "code",
   "execution_count": 15,
   "id": "8732cac8",
   "metadata": {},
   "outputs": [
    {
     "data": {
      "text/html": [
       "<div>\n",
       "<style scoped>\n",
       "    .dataframe tbody tr th:only-of-type {\n",
       "        vertical-align: middle;\n",
       "    }\n",
       "\n",
       "    .dataframe tbody tr th {\n",
       "        vertical-align: top;\n",
       "    }\n",
       "\n",
       "    .dataframe thead th {\n",
       "        text-align: right;\n",
       "    }\n",
       "</style>\n",
       "<table border=\"1\" class=\"dataframe\">\n",
       "  <thead>\n",
       "    <tr style=\"text-align: right;\">\n",
       "      <th></th>\n",
       "      <th>uid</th>\n",
       "      <th>d</th>\n",
       "      <th>t</th>\n",
       "      <th>x</th>\n",
       "      <th>y</th>\n",
       "    </tr>\n",
       "  </thead>\n",
       "  <tbody>\n",
       "    <tr>\n",
       "      <th>0</th>\n",
       "      <td>3000</td>\n",
       "      <td>0</td>\n",
       "      <td>0</td>\n",
       "      <td>NaN</td>\n",
       "      <td>NaN</td>\n",
       "    </tr>\n",
       "    <tr>\n",
       "      <th>1</th>\n",
       "      <td>3000</td>\n",
       "      <td>0</td>\n",
       "      <td>1</td>\n",
       "      <td>NaN</td>\n",
       "      <td>NaN</td>\n",
       "    </tr>\n",
       "    <tr>\n",
       "      <th>2</th>\n",
       "      <td>3000</td>\n",
       "      <td>0</td>\n",
       "      <td>2</td>\n",
       "      <td>NaN</td>\n",
       "      <td>NaN</td>\n",
       "    </tr>\n",
       "    <tr>\n",
       "      <th>3</th>\n",
       "      <td>3000</td>\n",
       "      <td>0</td>\n",
       "      <td>3</td>\n",
       "      <td>NaN</td>\n",
       "      <td>NaN</td>\n",
       "    </tr>\n",
       "    <tr>\n",
       "      <th>4</th>\n",
       "      <td>3000</td>\n",
       "      <td>0</td>\n",
       "      <td>4</td>\n",
       "      <td>NaN</td>\n",
       "      <td>NaN</td>\n",
       "    </tr>\n",
       "    <tr>\n",
       "      <th>...</th>\n",
       "      <td>...</td>\n",
       "      <td>...</td>\n",
       "      <td>...</td>\n",
       "      <td>...</td>\n",
       "      <td>...</td>\n",
       "    </tr>\n",
       "    <tr>\n",
       "      <th>8639995</th>\n",
       "      <td>5999</td>\n",
       "      <td>59</td>\n",
       "      <td>43</td>\n",
       "      <td>91.0</td>\n",
       "      <td>118.0</td>\n",
       "    </tr>\n",
       "    <tr>\n",
       "      <th>8639996</th>\n",
       "      <td>5999</td>\n",
       "      <td>59</td>\n",
       "      <td>44</td>\n",
       "      <td>92.0</td>\n",
       "      <td>118.0</td>\n",
       "    </tr>\n",
       "    <tr>\n",
       "      <th>8639997</th>\n",
       "      <td>5999</td>\n",
       "      <td>59</td>\n",
       "      <td>45</td>\n",
       "      <td>91.0</td>\n",
       "      <td>118.0</td>\n",
       "    </tr>\n",
       "    <tr>\n",
       "      <th>8639998</th>\n",
       "      <td>5999</td>\n",
       "      <td>59</td>\n",
       "      <td>46</td>\n",
       "      <td>91.0</td>\n",
       "      <td>118.0</td>\n",
       "    </tr>\n",
       "    <tr>\n",
       "      <th>8639999</th>\n",
       "      <td>5999</td>\n",
       "      <td>59</td>\n",
       "      <td>47</td>\n",
       "      <td>92.0</td>\n",
       "      <td>118.0</td>\n",
       "    </tr>\n",
       "  </tbody>\n",
       "</table>\n",
       "<p>8640000 rows × 5 columns</p>\n",
       "</div>"
      ],
      "text/plain": [
       "          uid   d   t     x      y\n",
       "0        3000   0   0   NaN    NaN\n",
       "1        3000   0   1   NaN    NaN\n",
       "2        3000   0   2   NaN    NaN\n",
       "3        3000   0   3   NaN    NaN\n",
       "4        3000   0   4   NaN    NaN\n",
       "...       ...  ..  ..   ...    ...\n",
       "8639995  5999  59  43  91.0  118.0\n",
       "8639996  5999  59  44  92.0  118.0\n",
       "8639997  5999  59  45  91.0  118.0\n",
       "8639998  5999  59  46  91.0  118.0\n",
       "8639999  5999  59  47  92.0  118.0\n",
       "\n",
       "[8640000 rows x 5 columns]"
      ]
     },
     "execution_count": 15,
     "metadata": {},
     "output_type": "execute_result"
    }
   ],
   "source": [
    "## あとで学習データの補完もしてみる\n",
    "df_city_b_train_full = get_full_df(df_city_b_train, d_range=60, t_range=48)\n",
    "df_city_b_train_full"
   ]
  },
  {
   "cell_type": "code",
   "execution_count": 16,
   "id": "67610bd8",
   "metadata": {},
   "outputs": [
    {
     "name": "stdout",
     "output_type": "stream",
     "text": [
      "補完数：1833216\n"
     ]
    }
   ],
   "source": [
    "INTEROILATE_N = 8\n",
    "df_city_b_train_ip = interpolate_missing_values(df_city_b_train_full,INTEROILATE_N)"
   ]
  },
  {
   "cell_type": "code",
   "execution_count": 17,
   "id": "bf60e41e",
   "metadata": {},
   "outputs": [],
   "source": [
    "df_city_b_train_ip_bk = df_city_b_train_ip"
   ]
  },
  {
   "cell_type": "code",
   "execution_count": 18,
   "id": "5f203e93",
   "metadata": {},
   "outputs": [
    {
     "data": {
      "text/plain": [
       "5074140"
      ]
     },
     "execution_count": 18,
     "metadata": {},
     "output_type": "execute_result"
    }
   ],
   "source": [
    "len(df_city_b_train_ip)"
   ]
  },
  {
   "cell_type": "markdown",
   "id": "8a3cca6a",
   "metadata": {},
   "source": [
    "### 特徴量の作成"
   ]
  },
  {
   "cell_type": "code",
   "execution_count": 19,
   "id": "9885f795",
   "metadata": {},
   "outputs": [],
   "source": [
    "def attach_feature_data_and_time(df):\n",
    "    df[\"date_ant_time_alpha_d\"] = np.sin(2 * np.pi/7 * df[\"d\"])\n",
    "    df[\"date_ant_time_beta_d\"] = np.cos(2 * np.pi/7 * df[\"d\"])\n",
    "    df[\"date_ant_time_alpha_t\"] = np.sin(2 * np.pi/24 * df[\"t\"])\n",
    "    df[\"date_ant_time_beta_t\"] = np.cos(2 * np.pi/24 * df[\"t\"])\n",
    "    return df"
   ]
  },
  {
   "cell_type": "code",
   "execution_count": 20,
   "id": "6dcdb829",
   "metadata": {},
   "outputs": [],
   "source": [
    "def attach_feature_activity_time(df):\n",
    "    # act の定義: 18 ≤ t < 23 または 33 ≤ t < 38\n",
    "    df['act'] = np.where(((df['t'] >= 18) & (df['t'] < 23)) | ((df['t'] >= 33) & (df['t'] < 38)), 1, 0)\n",
    "\n",
    "    # high_act の定義: 23 ≤ t < 33\n",
    "    df['high_act'] = np.where((df['t'] >= 23) & (df['t'] < 33), 1, 0)\n",
    "\n",
    "    # rest の定義: 13 ≤ t < 18 または 38 ≤ t < 44\n",
    "    df['rest'] = np.where(((df['t'] >= 13) & (df['t'] < 18)) | ((df['t'] >= 38) & (df['t'] < 44)), 1, 0)\n",
    "\n",
    "    # deep_rest の定義: 0 ≤ t < 13 または 44 ≤ t < 48\n",
    "    df['deep_rest'] = np.where(((df['t'] >= 0) & (df['t'] < 13)) | ((df['t'] >= 44) & (df['t'] < 48)), 1, 0)\n",
    "\n",
    "    return df"
   ]
  },
  {
   "cell_type": "code",
   "execution_count": 21,
   "id": "6d439644",
   "metadata": {},
   "outputs": [],
   "source": [
    "def attach_feature_day_of_week(df):\n",
    "    # d = 0が2020/1/5に対応\n",
    "    df[\"date\"]  = pd.to_datetime(\"2020-01-05\") + pd.to_timedelta(df[\"d\"],unit=\"D\")\n",
    "    \n",
    "    # 曜日 0:Mon,... 5:Sat,6:Sun\n",
    "    df[\"dow\"] = df[\"date\"].dt.weekday\n",
    "    \n",
    "    return df.drop(columns = [\"date\"])"
   ]
  },
  {
   "cell_type": "code",
   "execution_count": 22,
   "id": "871168db",
   "metadata": {},
   "outputs": [],
   "source": [
    "def attach_feature_weekday_holiday(df):\n",
    "    df['weekdays'] = df['dow'].apply(lambda x: 0 if x in [5, 6] else 1)\n",
    "\n",
    "    return df"
   ]
  },
  {
   "cell_type": "code",
   "execution_count": 23,
   "id": "d1a82c9b",
   "metadata": {},
   "outputs": [],
   "source": [
    "def attach_feature_am_pm(df):\n",
    "    # AM フラグを設定: 0 ≤ t < 25 は 1、それ以外は 0\n",
    "    df['AM'] = np.where((df['t'] >= 0) & (df['t'] < 25), 1, 0)\n",
    "    \n",
    "    # # PM フラグを設定: AM が 0 の場合は PM は 1、AM が 1 の場合は PM は 0\n",
    "    # df['PM'] = np.where(df['AM'] == 1, 0, 1)\n",
    "    return df"
   ]
  },
  {
   "cell_type": "code",
   "execution_count": 24,
   "id": "eeba2a29",
   "metadata": {},
   "outputs": [],
   "source": [
    "# ユークリッド距離を計算する関数\n",
    "def calc_euclidean_distance(row1, row2):\n",
    "    return np.sqrt((row1['x'] - row2['x'])**2 + (row1['y'] - row2['y'])**2)\n",
    "\n",
    "# 移動角度を計算する関数\n",
    "def calc_angle(row1, row2):\n",
    "    delta_x = row2['x'] - row1['x']\n",
    "    delta_y = row2['y'] - row1['y']\n",
    "    angle = np.arctan2(delta_y, delta_x)\n",
    "    return np.degrees(angle) % 360\n",
    "\n",
    "# 各特徴量ごとに移動系の特徴量を計算して付与する関数\n",
    "def attach_movement_features_by_columns(df, group_columns):\n",
    "    for col in group_columns:\n",
    "        print(f\"Processing for {col}...\")  # 処理の進捗を表示\n",
    "        \n",
    "        result_list = []\n",
    "\n",
    "        # 各特徴量でグループ化して処理を実行（進捗をtqdmで表示）\n",
    "        for values, group in tqdm(df.groupby(['uid', col]), desc=f\"Processing {col}\"):\n",
    "            group = group.sort_values(by=['d', 't'])  # 時間ベースでソート\n",
    "\n",
    "            euclidean_distances = []\n",
    "            angles = []\n",
    "\n",
    "            # 移動距離と角度を計算\n",
    "            for i in range(1, len(group)):\n",
    "                dist_euc = calc_euclidean_distance(group.iloc[i-1], group.iloc[i])\n",
    "                angle = calc_angle(group.iloc[i-1], group.iloc[i])\n",
    "                euclidean_distances.append(dist_euc)\n",
    "                angles.append(angle)\n",
    "\n",
    "            move_count = len(euclidean_distances)\n",
    "\n",
    "            # 移動距離の平均、標準偏差、移動角度の平均を計算\n",
    "            if move_count > 0:\n",
    "                avg_euclidean_distance = np.mean(euclidean_distances)\n",
    "                std_euclidean_distance = np.std(euclidean_distances)\n",
    "                avg_angle = np.mean(angles)\n",
    "            else:\n",
    "                avg_euclidean_distance = 0\n",
    "                std_euclidean_distance = 0\n",
    "                avg_angle = 0\n",
    "\n",
    "            # グループ化された値ごとの結果を保存\n",
    "            result_dict = {\n",
    "                'uid': values[0],\n",
    "                col: values[1],\n",
    "                f'move_count_{col}': move_count,\n",
    "                f'avg_euclidean_distance_{col}': avg_euclidean_distance,\n",
    "                f'std_euclidean_distance_{col}': std_euclidean_distance,\n",
    "                f'avg_angle_{col}': avg_angle\n",
    "            }\n",
    "            result_list.append(result_dict)\n",
    "\n",
    "        # 結果をデータフレームに変換してマージ\n",
    "        result_df = pd.DataFrame(result_list)\n",
    "        df = pd.merge(df, result_df, on=['uid', col], how='left')\n",
    "    \n",
    "    return df"
   ]
  },
  {
   "cell_type": "code",
   "execution_count": 25,
   "id": "20dc27f3",
   "metadata": {},
   "outputs": [],
   "source": [
    "def attach_features_about_date_and_time(df):\n",
    "    df = attach_feature_data_and_time(df)\n",
    "    df = attach_feature_activity_time(df)\n",
    "    df = attach_feature_day_of_week(df)\n",
    "    df = attach_feature_weekday_holiday(df)\n",
    "    df = attach_feature_am_pm(df) \n",
    "\n",
    "    return df"
   ]
  },
  {
   "cell_type": "code",
   "execution_count": 26,
   "id": "6c98e343",
   "metadata": {},
   "outputs": [],
   "source": [
    "# 学習データに特徴量付与\n",
    "df_city_b_train_ip = attach_features_about_date_and_time(df_city_b_train_ip_bk)"
   ]
  },
  {
   "cell_type": "code",
   "execution_count": 27,
   "id": "c0be4c7c",
   "metadata": {},
   "outputs": [
    {
     "name": "stdout",
     "output_type": "stream",
     "text": [
      "Processing for act...\n"
     ]
    },
    {
     "name": "stderr",
     "output_type": "stream",
     "text": [
      "Processing act: 100%|██████████| 5999/5999 [15:28<00:00,  6.46it/s]\n"
     ]
    },
    {
     "name": "stdout",
     "output_type": "stream",
     "text": [
      "Processing for high_act...\n"
     ]
    },
    {
     "name": "stderr",
     "output_type": "stream",
     "text": [
      "Processing high_act: 100%|██████████| 5995/5995 [16:01<00:00,  6.24it/s]\n"
     ]
    },
    {
     "name": "stdout",
     "output_type": "stream",
     "text": [
      "Processing for rest...\n"
     ]
    },
    {
     "name": "stderr",
     "output_type": "stream",
     "text": [
      "Processing rest: 100%|██████████| 5999/5999 [17:34<00:00,  5.69it/s]\n"
     ]
    },
    {
     "name": "stdout",
     "output_type": "stream",
     "text": [
      "Processing for deep_rest...\n"
     ]
    },
    {
     "name": "stderr",
     "output_type": "stream",
     "text": [
      "Processing deep_rest: 100%|██████████| 5963/5963 [17:26<00:00,  5.70it/s]\n"
     ]
    },
    {
     "name": "stdout",
     "output_type": "stream",
     "text": [
      "Processing for dow...\n"
     ]
    },
    {
     "name": "stderr",
     "output_type": "stream",
     "text": [
      "Processing dow: 100%|██████████| 20915/20915 [17:45<00:00, 19.63it/s]\n"
     ]
    },
    {
     "name": "stdout",
     "output_type": "stream",
     "text": [
      "Processing for weekdays...\n"
     ]
    },
    {
     "name": "stderr",
     "output_type": "stream",
     "text": [
      "Processing weekdays: 100%|██████████| 5985/5985 [20:16<00:00,  4.92it/s]\n"
     ]
    },
    {
     "name": "stdout",
     "output_type": "stream",
     "text": [
      "Processing for AM...\n"
     ]
    },
    {
     "name": "stderr",
     "output_type": "stream",
     "text": [
      "Processing AM: 100%|██████████| 5995/5995 [21:13<00:00,  4.71it/s] \n"
     ]
    }
   ],
   "source": [
    "# 特徴量リスト（uidを追加）\n",
    "group_columns = ['act', 'high_act', 'rest', 'deep_rest', 'dow', 'weekdays', 'AM']\n",
    "# group_columns = ['AM']\n",
    "\n",
    "\n",
    "# 実際に特徴量を付与\n",
    "df_city_b_train_ip = attach_movement_features_by_columns(df_city_b_train_ip, group_columns)\n"
   ]
  },
  {
   "cell_type": "code",
   "execution_count": 28,
   "id": "5c3e2a26",
   "metadata": {},
   "outputs": [],
   "source": [
    "df_city_b_train_ip_bk2 = df_city_b_train_ip"
   ]
  },
  {
   "cell_type": "code",
   "execution_count": 29,
   "id": "b58b6fac",
   "metadata": {},
   "outputs": [
    {
     "data": {
      "text/plain": [
       "Index(['uid', 'd', 't', 'x', 'y', 'date_ant_time_alpha_d',\n",
       "       'date_ant_time_beta_d', 'date_ant_time_alpha_t', 'date_ant_time_beta_t',\n",
       "       'act', 'high_act', 'rest', 'deep_rest', 'dow', 'weekdays', 'AM',\n",
       "       'move_count_act', 'avg_euclidean_distance_act',\n",
       "       'std_euclidean_distance_act', 'avg_angle_act', 'move_count_high_act',\n",
       "       'avg_euclidean_distance_high_act', 'std_euclidean_distance_high_act',\n",
       "       'avg_angle_high_act', 'move_count_rest', 'avg_euclidean_distance_rest',\n",
       "       'std_euclidean_distance_rest', 'avg_angle_rest', 'move_count_deep_rest',\n",
       "       'avg_euclidean_distance_deep_rest', 'std_euclidean_distance_deep_rest',\n",
       "       'avg_angle_deep_rest', 'move_count_dow', 'avg_euclidean_distance_dow',\n",
       "       'std_euclidean_distance_dow', 'avg_angle_dow', 'move_count_weekdays',\n",
       "       'avg_euclidean_distance_weekdays', 'std_euclidean_distance_weekdays',\n",
       "       'avg_angle_weekdays', 'move_count_AM', 'avg_euclidean_distance_AM',\n",
       "       'std_euclidean_distance_AM', 'avg_angle_AM'],\n",
       "      dtype='object')"
      ]
     },
     "execution_count": 29,
     "metadata": {},
     "output_type": "execute_result"
    }
   ],
   "source": [
    "df_city_b_train_ip.columns"
   ]
  },
  {
   "cell_type": "markdown",
   "id": "ca771da4",
   "metadata": {},
   "source": [
    "### クラスタリング"
   ]
  },
  {
   "cell_type": "code",
   "execution_count": 30,
   "id": "389d3f31",
   "metadata": {},
   "outputs": [
    {
     "data": {
      "text/html": [
       "<div>\n",
       "<style scoped>\n",
       "    .dataframe tbody tr th:only-of-type {\n",
       "        vertical-align: middle;\n",
       "    }\n",
       "\n",
       "    .dataframe tbody tr th {\n",
       "        vertical-align: top;\n",
       "    }\n",
       "\n",
       "    .dataframe thead th {\n",
       "        text-align: right;\n",
       "    }\n",
       "</style>\n",
       "<table border=\"1\" class=\"dataframe\">\n",
       "  <thead>\n",
       "    <tr style=\"text-align: right;\">\n",
       "      <th></th>\n",
       "      <th>uid</th>\n",
       "      <th>date_ant_time_alpha_t_sum</th>\n",
       "      <th>date_ant_time_alpha_t_mode</th>\n",
       "      <th>date_ant_time_beta_t_sum</th>\n",
       "      <th>date_ant_time_beta_t_mode</th>\n",
       "      <th>act_sum</th>\n",
       "      <th>act_mode</th>\n",
       "      <th>high_act_sum</th>\n",
       "      <th>high_act_mode</th>\n",
       "      <th>rest_sum</th>\n",
       "      <th>rest_mode</th>\n",
       "      <th>deep_rest_sum</th>\n",
       "      <th>deep_rest_mode</th>\n",
       "      <th>dow_mode</th>\n",
       "      <th>weekdays_mode</th>\n",
       "      <th>AM_mode</th>\n",
       "    </tr>\n",
       "  </thead>\n",
       "  <tbody>\n",
       "    <tr>\n",
       "      <th>0</th>\n",
       "      <td>3000</td>\n",
       "      <td>-44.776648</td>\n",
       "      <td>-1.0</td>\n",
       "      <td>-113.175926</td>\n",
       "      <td>-0.965926</td>\n",
       "      <td>488</td>\n",
       "      <td>0</td>\n",
       "      <td>492</td>\n",
       "      <td>0</td>\n",
       "      <td>468</td>\n",
       "      <td>0</td>\n",
       "      <td>393</td>\n",
       "      <td>0</td>\n",
       "      <td>0</td>\n",
       "      <td>1</td>\n",
       "      <td>0</td>\n",
       "    </tr>\n",
       "    <tr>\n",
       "      <th>1</th>\n",
       "      <td>3001</td>\n",
       "      <td>-92.272761</td>\n",
       "      <td>-1.0</td>\n",
       "      <td>-77.973664</td>\n",
       "      <td>-0.866025</td>\n",
       "      <td>499</td>\n",
       "      <td>0</td>\n",
       "      <td>529</td>\n",
       "      <td>0</td>\n",
       "      <td>360</td>\n",
       "      <td>0</td>\n",
       "      <td>14</td>\n",
       "      <td>0</td>\n",
       "      <td>2</td>\n",
       "      <td>1</td>\n",
       "      <td>0</td>\n",
       "    </tr>\n",
       "    <tr>\n",
       "      <th>2</th>\n",
       "      <td>3002</td>\n",
       "      <td>23.342756</td>\n",
       "      <td>1.0</td>\n",
       "      <td>-28.309884</td>\n",
       "      <td>-1.000000</td>\n",
       "      <td>517</td>\n",
       "      <td>0</td>\n",
       "      <td>510</td>\n",
       "      <td>0</td>\n",
       "      <td>581</td>\n",
       "      <td>0</td>\n",
       "      <td>932</td>\n",
       "      <td>0</td>\n",
       "      <td>2</td>\n",
       "      <td>1</td>\n",
       "      <td>1</td>\n",
       "    </tr>\n",
       "    <tr>\n",
       "      <th>3</th>\n",
       "      <td>3003</td>\n",
       "      <td>-34.547932</td>\n",
       "      <td>-1.0</td>\n",
       "      <td>-64.140111</td>\n",
       "      <td>-1.000000</td>\n",
       "      <td>569</td>\n",
       "      <td>0</td>\n",
       "      <td>578</td>\n",
       "      <td>0</td>\n",
       "      <td>527</td>\n",
       "      <td>0</td>\n",
       "      <td>585</td>\n",
       "      <td>0</td>\n",
       "      <td>1</td>\n",
       "      <td>1</td>\n",
       "      <td>0</td>\n",
       "    </tr>\n",
       "    <tr>\n",
       "      <th>4</th>\n",
       "      <td>3004</td>\n",
       "      <td>-66.859641</td>\n",
       "      <td>-1.0</td>\n",
       "      <td>-75.594096</td>\n",
       "      <td>-0.965926</td>\n",
       "      <td>563</td>\n",
       "      <td>0</td>\n",
       "      <td>555</td>\n",
       "      <td>0</td>\n",
       "      <td>591</td>\n",
       "      <td>0</td>\n",
       "      <td>680</td>\n",
       "      <td>0</td>\n",
       "      <td>0</td>\n",
       "      <td>1</td>\n",
       "      <td>0</td>\n",
       "    </tr>\n",
       "    <tr>\n",
       "      <th>...</th>\n",
       "      <td>...</td>\n",
       "      <td>...</td>\n",
       "      <td>...</td>\n",
       "      <td>...</td>\n",
       "      <td>...</td>\n",
       "      <td>...</td>\n",
       "      <td>...</td>\n",
       "      <td>...</td>\n",
       "      <td>...</td>\n",
       "      <td>...</td>\n",
       "      <td>...</td>\n",
       "      <td>...</td>\n",
       "      <td>...</td>\n",
       "      <td>...</td>\n",
       "      <td>...</td>\n",
       "      <td>...</td>\n",
       "    </tr>\n",
       "    <tr>\n",
       "      <th>2995</th>\n",
       "      <td>5995</td>\n",
       "      <td>6.126046</td>\n",
       "      <td>1.0</td>\n",
       "      <td>-47.746355</td>\n",
       "      <td>-1.000000</td>\n",
       "      <td>272</td>\n",
       "      <td>0</td>\n",
       "      <td>279</td>\n",
       "      <td>0</td>\n",
       "      <td>297</td>\n",
       "      <td>0</td>\n",
       "      <td>405</td>\n",
       "      <td>0</td>\n",
       "      <td>1</td>\n",
       "      <td>1</td>\n",
       "      <td>1</td>\n",
       "    </tr>\n",
       "    <tr>\n",
       "      <th>2996</th>\n",
       "      <td>5996</td>\n",
       "      <td>-4.401559</td>\n",
       "      <td>-1.0</td>\n",
       "      <td>-72.162244</td>\n",
       "      <td>-1.000000</td>\n",
       "      <td>110</td>\n",
       "      <td>0</td>\n",
       "      <td>89</td>\n",
       "      <td>0</td>\n",
       "      <td>134</td>\n",
       "      <td>0</td>\n",
       "      <td>192</td>\n",
       "      <td>0</td>\n",
       "      <td>2</td>\n",
       "      <td>1</td>\n",
       "      <td>0</td>\n",
       "    </tr>\n",
       "    <tr>\n",
       "      <th>2997</th>\n",
       "      <td>5997</td>\n",
       "      <td>-38.371564</td>\n",
       "      <td>-1.0</td>\n",
       "      <td>-20.949963</td>\n",
       "      <td>-0.965926</td>\n",
       "      <td>145</td>\n",
       "      <td>0</td>\n",
       "      <td>152</td>\n",
       "      <td>0</td>\n",
       "      <td>111</td>\n",
       "      <td>0</td>\n",
       "      <td>4</td>\n",
       "      <td>0</td>\n",
       "      <td>4</td>\n",
       "      <td>1</td>\n",
       "      <td>0</td>\n",
       "    </tr>\n",
       "    <tr>\n",
       "      <th>2998</th>\n",
       "      <td>5998</td>\n",
       "      <td>-69.971831</td>\n",
       "      <td>-1.0</td>\n",
       "      <td>-55.300729</td>\n",
       "      <td>-1.000000</td>\n",
       "      <td>214</td>\n",
       "      <td>0</td>\n",
       "      <td>220</td>\n",
       "      <td>0</td>\n",
       "      <td>233</td>\n",
       "      <td>0</td>\n",
       "      <td>188</td>\n",
       "      <td>0</td>\n",
       "      <td>2</td>\n",
       "      <td>1</td>\n",
       "      <td>0</td>\n",
       "    </tr>\n",
       "    <tr>\n",
       "      <th>2999</th>\n",
       "      <td>5999</td>\n",
       "      <td>-17.136272</td>\n",
       "      <td>-1.0</td>\n",
       "      <td>-17.557534</td>\n",
       "      <td>-1.000000</td>\n",
       "      <td>138</td>\n",
       "      <td>0</td>\n",
       "      <td>152</td>\n",
       "      <td>0</td>\n",
       "      <td>130</td>\n",
       "      <td>0</td>\n",
       "      <td>119</td>\n",
       "      <td>0</td>\n",
       "      <td>0</td>\n",
       "      <td>1</td>\n",
       "      <td>0</td>\n",
       "    </tr>\n",
       "  </tbody>\n",
       "</table>\n",
       "<p>3000 rows × 16 columns</p>\n",
       "</div>"
      ],
      "text/plain": [
       "       uid  date_ant_time_alpha_t_sum  date_ant_time_alpha_t_mode  \\\n",
       "0     3000                 -44.776648                        -1.0   \n",
       "1     3001                 -92.272761                        -1.0   \n",
       "2     3002                  23.342756                         1.0   \n",
       "3     3003                 -34.547932                        -1.0   \n",
       "4     3004                 -66.859641                        -1.0   \n",
       "...    ...                        ...                         ...   \n",
       "2995  5995                   6.126046                         1.0   \n",
       "2996  5996                  -4.401559                        -1.0   \n",
       "2997  5997                 -38.371564                        -1.0   \n",
       "2998  5998                 -69.971831                        -1.0   \n",
       "2999  5999                 -17.136272                        -1.0   \n",
       "\n",
       "      date_ant_time_beta_t_sum  date_ant_time_beta_t_mode  act_sum  act_mode  \\\n",
       "0                  -113.175926                  -0.965926      488         0   \n",
       "1                   -77.973664                  -0.866025      499         0   \n",
       "2                   -28.309884                  -1.000000      517         0   \n",
       "3                   -64.140111                  -1.000000      569         0   \n",
       "4                   -75.594096                  -0.965926      563         0   \n",
       "...                        ...                        ...      ...       ...   \n",
       "2995                -47.746355                  -1.000000      272         0   \n",
       "2996                -72.162244                  -1.000000      110         0   \n",
       "2997                -20.949963                  -0.965926      145         0   \n",
       "2998                -55.300729                  -1.000000      214         0   \n",
       "2999                -17.557534                  -1.000000      138         0   \n",
       "\n",
       "      high_act_sum  high_act_mode  rest_sum  rest_mode  deep_rest_sum  \\\n",
       "0              492              0       468          0            393   \n",
       "1              529              0       360          0             14   \n",
       "2              510              0       581          0            932   \n",
       "3              578              0       527          0            585   \n",
       "4              555              0       591          0            680   \n",
       "...            ...            ...       ...        ...            ...   \n",
       "2995           279              0       297          0            405   \n",
       "2996            89              0       134          0            192   \n",
       "2997           152              0       111          0              4   \n",
       "2998           220              0       233          0            188   \n",
       "2999           152              0       130          0            119   \n",
       "\n",
       "      deep_rest_mode  dow_mode  weekdays_mode  AM_mode  \n",
       "0                  0         0              1        0  \n",
       "1                  0         2              1        0  \n",
       "2                  0         2              1        1  \n",
       "3                  0         1              1        0  \n",
       "4                  0         0              1        0  \n",
       "...              ...       ...            ...      ...  \n",
       "2995               0         1              1        1  \n",
       "2996               0         2              1        0  \n",
       "2997               0         4              1        0  \n",
       "2998               0         2              1        0  \n",
       "2999               0         0              1        0  \n",
       "\n",
       "[3000 rows x 16 columns]"
      ]
     },
     "execution_count": 30,
     "metadata": {},
     "output_type": "execute_result"
    }
   ],
   "source": [
    "uid_features = (\n",
    "    df_city_b_train_ip\n",
    "    .drop(columns=[\"d\",\"t\",\"x\",\"y\"])\n",
    "    .groupby(\"uid\").agg({\n",
    "        'date_ant_time_alpha_t': ['sum', lambda x: x.mode()[0]],  # 合計と最頻値\n",
    "        'date_ant_time_beta_t': ['sum', lambda x: x.mode()[0]],  # 合計と最頻値\n",
    "        'act': ['sum', lambda x: x.mode()[0]],  # 合計と最頻値\n",
    "        'high_act': ['sum', lambda x: x.mode()[0]],  # 合計と最頻値\n",
    "        'rest': ['sum', lambda x: x.mode()[0]],  # 合計と最頻値\n",
    "        'deep_rest': ['sum', lambda x: x.mode()[0]],  # 合計と最頻値\n",
    "        'dow': [lambda x: x.mode()[0]],  # 最頻値\n",
    "        'weekdays': [lambda x: x.mode()[0]],  # 最頻値\n",
    "        'AM': [lambda x: x.mode()[0]],  # 最頻値\n",
    "    })\n",
    ")\n",
    "uid_features.columns = ['_'.join(col).replace('<lambda_0>', 'mode').replace('<lambda>', 'mode') for col in uid_features.columns]\n",
    "uid_features.reset_index()"
   ]
  },
  {
   "cell_type": "code",
   "execution_count": 31,
   "id": "6f488daf",
   "metadata": {},
   "outputs": [],
   "source": [
    "feature_list = [\n",
    "    'date_ant_time_alpha_t_sum',\n",
    "    'date_ant_time_alpha_t_mode',\n",
    "    'date_ant_time_beta_t_sum',\n",
    "    'date_ant_time_beta_t_mode',\n",
    "    'act_sum',\n",
    "    'act_mode',\n",
    "    'high_act_sum',\n",
    "    'high_act_mode',\n",
    "    'rest_sum',\n",
    "    'rest_mode',\n",
    "    'deep_rest_sum',\n",
    "    'deep_rest_mode',\n",
    "    'dow_mode',\n",
    "    'weekdays_mode',\n",
    "    'AM_mode',\n",
    "]"
   ]
  },
  {
   "cell_type": "code",
   "execution_count": 32,
   "id": "b9d8922d",
   "metadata": {},
   "outputs": [
    {
     "name": "stderr",
     "output_type": "stream",
     "text": [
      "/opt/conda/lib/python3.10/site-packages/sklearn/cluster/_kmeans.py:870: FutureWarning: The default value of `n_init` will change from 10 to 'auto' in 1.4. Set the value of `n_init` explicitly to suppress the warning\n",
      "  warnings.warn(\n"
     ]
    },
    {
     "data": {
      "text/plain": [
       "cluster\n",
       "0    1051\n",
       "3     771\n",
       "1     701\n",
       "2     477\n",
       "Name: count, dtype: int64"
      ]
     },
     "execution_count": 32,
     "metadata": {},
     "output_type": "execute_result"
    }
   ],
   "source": [
    "kmeans = KMeans(n_clusters=4, random_state=119)\n",
    "uid_features['cluster'] = kmeans.fit_predict(\n",
    "    uid_features[feature_list]\n",
    ")\n",
    "uid_features[\"cluster\"].value_counts()"
   ]
  },
  {
   "cell_type": "code",
   "execution_count": 33,
   "id": "b4d704c4",
   "metadata": {},
   "outputs": [
    {
     "data": {
      "text/plain": [
       "0.33713155629296976"
      ]
     },
     "execution_count": 33,
     "metadata": {},
     "output_type": "execute_result"
    }
   ],
   "source": [
    "score = silhouette_score(uid_features[feature_list], uid_features[\"cluster\"])\n",
    "score"
   ]
  },
  {
   "cell_type": "code",
   "execution_count": 34,
   "id": "14bf12bd",
   "metadata": {},
   "outputs": [],
   "source": [
    "df_city_b_train_ip = (\n",
    "    pd.merge(\n",
    "        df_city_b_train_ip,\n",
    "        uid_features,\n",
    "        on = [\"uid\"],\n",
    "        how=\"left\"\n",
    "    )\n",
    ").drop(columns=feature_list)"
   ]
  },
  {
   "cell_type": "markdown",
   "id": "c1617f79",
   "metadata": {},
   "source": [
    "### 学習"
   ]
  },
  {
   "cell_type": "code",
   "execution_count": 35,
   "id": "4ff26022",
   "metadata": {},
   "outputs": [
    {
     "name": "stderr",
     "output_type": "stream",
     "text": [
      "Processing uids:   0%|          | 0/3000 [00:00<?, ?it/s]"
     ]
    },
    {
     "name": "stderr",
     "output_type": "stream",
     "text": [
      "Processing uids:  79%|███████▉  | 2375/3000 [16:48<03:03,  3.41it/s]"
     ]
    }
   ],
   "source": [
    "# ユーザーごと（uidごと）にデータを分けてモデルを作成\n",
    "# 学習データがあるuidのみに絞り込む <- データが無い人はどうする？\n",
    "uids = df_city_b_train_ip['uid'].unique()\n",
    "\n",
    "# 各uidごとにモデルを作成し、結果を格納する辞書\n",
    "models = {}\n",
    "future_predictions = []\n",
    "\n",
    "for uid in tqdm(uids,desc=\"Processing uids\"):\n",
    "# for uid in range(20000,20010):\n",
    "\n",
    "    # 該当uidのデータを抽出\n",
    "    user_data = df_city_b_train_ip[df_city_b_train_ip['uid'] == uid]\n",
    "    # 学習に必要ないカラムは除去\n",
    "    user_data_train = user_data.drop(columns=[\"uid\",\"d\",\"t\",\"x\",\"y\"])\n",
    "\n",
    "    #目的変数の設定\n",
    "    y_train_x = user_data['x']\n",
    "    y_train_y = user_data['y']\n",
    "\n",
    "    # データの標準化\n",
    "    scaler = StandardScaler()\n",
    "    user_data_train_scaled = scaler.fit_transform(user_data_train)\n",
    "\n",
    "    # SVR モデルの作成と学習 (xとyそれぞれのモデル)\n",
    "    svr_x = SVR(kernel='rbf')\n",
    "    svr_x.fit(user_data_train_scaled, y_train_x)\n",
    "\n",
    "    svr_y = SVR(kernel='rbf')\n",
    "    svr_y.fit(user_data_train_scaled, y_train_y) \n",
    "\n",
    "    # モデルの保存\n",
    "    models[(uid, 'x')] = svr_x\n",
    "    models[(uid, 'y')] = svr_y\n",
    "\n",
    "    # 未来の予測\n",
    "    # 予測期間の設定 (d=60からd=74まで)\n",
    "    d_range = np.arange(60, 75)  # 60～74のd値\n",
    "    time_range = np.arange(0, 48)  # t=0～47の範囲 (30分ごと)\n",
    "\n",
    "    # d と t の組み合わせを生成\n",
    "    future_dates = pd.DataFrame([(d, t) for d in d_range for t in time_range], columns=['d', 't'])\n",
    "    \n",
    "    # dとtだけで決まる特徴量を作成\n",
    "    future_dates_featured = attach_features_about_date_and_time(future_dates)\n",
    "    future_dates_featured = future_dates_featured.drop(columns=[\"d\",\"t\"])\n",
    "\n",
    "     # 未来データに対して特徴量を付与する関数\n",
    "    def attach_future_movement_features(df, user_data, group_columns):\n",
    "        for col in group_columns:\n",
    "            # 特定の値に基づいて特徴量を付与\n",
    "            for feature in [f'move_count_{col}', f'avg_euclidean_distance_{col}', \n",
    "                            f'std_euclidean_distance_{col}', f'avg_angle_{col}']:\n",
    "                feature_values = user_data.groupby(col)[feature].last().reset_index()\n",
    "\n",
    "                # 未来データに過去の特徴量を付与\n",
    "                df = pd.merge(df, feature_values, on=col, how='left')\n",
    "\n",
    "        return df\n",
    "        \n",
    "    group_columns = ['act', 'high_act', 'rest', 'deep_rest', 'dow', 'weekdays', 'AM']\n",
    "    future_dates_featured = attach_future_movement_features(future_dates_featured, user_data,group_columns)\n",
    "\n",
    "\n",
    "    #ここでclusterを付与\n",
    "    future_dates_featured['cluster'] = user_data[\"cluster\"].to_list()[0]\n",
    "\n",
    "    future_dates_featured.fillna(future_dates_featured.mean(), inplace=True)\n",
    "\n",
    "    # 標準化\n",
    "    future_df_scaled = scaler.transform(future_dates_featured)\n",
    "\n",
    "    #学習したモデルで未来予測\n",
    "    y_pred_x = svr_x.predict(future_df_scaled)\n",
    "    y_pred_y = svr_y.predict(future_df_scaled)\n",
    "    \n",
    "    \n",
    "    # 予測データを整形\n",
    "    future_dates['uid'] = uid\n",
    "    future_dates['x'] = y_pred_x\n",
    "    future_dates['y'] = y_pred_y\n",
    "    future_predictions.append(future_dates)\n",
    "\n",
    "\n",
    "# uidをすべて結合\n",
    "future_predictions_df = pd.concat(future_predictions, ignore_index=True)\n",
    "future_predictions_df[\"x\"] = future_predictions_df[\"x\"].round(0)\n",
    "future_predictions_df[\"y\"] = future_predictions_df[\"y\"].round(0)"
   ]
  },
  {
   "cell_type": "code",
   "execution_count": null,
   "id": "984c16b7",
   "metadata": {},
   "outputs": [],
   "source": [
    "## 一旦ここまで"
   ]
  },
  {
   "cell_type": "code",
   "execution_count": 31,
   "id": "5f4126e9",
   "metadata": {},
   "outputs": [],
   "source": [
    "### 正解データと予測データの組み合わせ\n",
    "combined_data = (\n",
    "    pd.merge(\n",
    "        df_city_b_answer,\n",
    "        future_predictions_df.rename(columns = {\"x\":\"x_pred\",\"y\":\"y_pred\"}),\n",
    "        on = [\"uid\",\"d\",\"t\"],\n",
    "        # ここで正解データ基準で結合してよいか？正解データ自体の欠損はどうする？\n",
    "        how = \"left\"\n",
    "    )\n",
    ")[[\"uid\",\"d\",\"t\",\"x\",\"y\",\"x_pred\",\"y_pred\"]]\n"
   ]
  },
  {
   "cell_type": "code",
   "execution_count": 32,
   "id": "a3a778cc",
   "metadata": {},
   "outputs": [
    {
     "name": "stderr",
     "output_type": "stream",
     "text": [
      "Processing uids: 100%|██████████| 2000/2000 [22:29<00:00,  1.48it/s]   \n"
     ]
    }
   ],
   "source": [
    "list_geobleu_val = []\n",
    "list_dtw_val = []\n",
    "\n",
    "for i in tqdm(range(1000, 3000),desc=\"Processing uids\"):\n",
    "    \n",
    "    # 該当uidのデータを抽出\n",
    "    df = (\n",
    "        combined_data\n",
    "        .loc[combined_data[\"uid\"] == i]\n",
    "    )\n",
    "\n",
    "    # 予測値のリスト\n",
    "    df_pred = df[[\"d\", \"t\", \"x_pred\", \"y_pred\"]]\n",
    "    list_pred = [tuple(row) for row in df_pred.to_records(index=False)]\n",
    "\n",
    "    # 正解値のリスト\n",
    "    df_answer = df[[\"d\", \"t\", \"x\", \"y\"]]\n",
    "    list_answer = [tuple(row) for row in df_answer.to_records(index=False)]\n",
    "\n",
    "    # スコア算出\n",
    "    geobleu_val = geobleu.calc_geobleu(list_pred, list_answer, processes=3)\n",
    "    list_geobleu_val.append(geobleu_val)\n",
    "    \n",
    "    dtw_val = geobleu.calc_dtw(list_pred, list_answer, processes=3)\n",
    "    list_dtw_val.append(dtw_val)\n"
   ]
  },
  {
   "cell_type": "code",
   "execution_count": 33,
   "id": "3dd60450",
   "metadata": {},
   "outputs": [
    {
     "name": "stdout",
     "output_type": "stream",
     "text": [
      "geobleu:0.2462510363494421\n",
      "dtw:41.19979199120759\n"
     ]
    }
   ],
   "source": [
    "# v40\n",
    "print(f\"geobleu:{np.mean(list_geobleu_val)}\")\n",
    "print(f\"dtw:{np.mean(list_dtw_val)}\")"
   ]
  },
  {
   "cell_type": "code",
   "execution_count": 34,
   "id": "f2d7799e",
   "metadata": {},
   "outputs": [
    {
     "data": {
      "text/plain": [
       "(array([309., 216., 199., 173., 182., 188., 145., 145., 128.,  96.,  57.,\n",
       "         61.,  35.,  31.,  14.,   9.,   6.,   1.,   3.,   2.]),\n",
       " array([8.86468076e-15, 4.86361331e-02, 9.72722663e-02, 1.45908399e-01,\n",
       "        1.94544533e-01, 2.43180666e-01, 2.91816799e-01, 3.40452932e-01,\n",
       "        3.89089065e-01, 4.37725198e-01, 4.86361331e-01, 5.34997464e-01,\n",
       "        5.83633598e-01, 6.32269731e-01, 6.80905864e-01, 7.29541997e-01,\n",
       "        7.78178130e-01, 8.26814263e-01, 8.75450396e-01, 9.24086529e-01,\n",
       "        9.72722663e-01]),\n",
       " <BarContainer object of 20 artists>)"
      ]
     },
     "execution_count": 34,
     "metadata": {},
     "output_type": "execute_result"
    },
    {
     "data": {
      "image/png": "[encoded data removed]",
      "text/plain": [
       "<Figure size 600x400 with 1 Axes>"
      ]
     },
     "metadata": {},
     "output_type": "display_data"
    }
   ],
   "source": [
    "plt.figure(figsize=(6, 4))\n",
    "plt.hist(list_geobleu_val, bins=20, edgecolor='black')"
   ]
  },
  {
   "cell_type": "code",
   "execution_count": 35,
   "id": "88bed5c5",
   "metadata": {},
   "outputs": [
    {
     "data": {
      "text/plain": [
       "(array([1.421e+03, 3.730e+02, 1.350e+02, 3.900e+01, 1.200e+01, 9.000e+00,\n",
       "        6.000e+00, 1.000e+00, 0.000e+00, 2.000e+00, 1.000e+00, 0.000e+00,\n",
       "        0.000e+00, 0.000e+00, 0.000e+00, 0.000e+00, 0.000e+00, 0.000e+00,\n",
       "        0.000e+00, 1.000e+00]),\n",
       " array([  0.        ,  46.34973861,  92.69947722, 139.04921583,\n",
       "        185.39895444, 231.74869305, 278.09843167, 324.44817028,\n",
       "        370.79790889, 417.1476475 , 463.49738611, 509.84712472,\n",
       "        556.19686333, 602.54660194, 648.89634055, 695.24607916,\n",
       "        741.59581777, 787.94555639, 834.295295  , 880.64503361,\n",
       "        926.99477222]),\n",
       " <BarContainer object of 20 artists>)"
      ]
     },
     "execution_count": 35,
     "metadata": {},
     "output_type": "execute_result"
    },
    {
     "data": {
      "image/png": "[encoded data removed]",
      "text/plain": [
       "<Figure size 600x400 with 1 Axes>"
      ]
     },
     "metadata": {},
     "output_type": "display_data"
    }
   ],
   "source": [
    "plt.figure(figsize=(6, 4))\n",
    "plt.hist(list_dtw_val, bins=20, edgecolor='black')"
   ]
  },
  {
   "cell_type": "markdown",
   "id": "e12f0e16",
   "metadata": {},
   "source": [
    "## 可視化して確認"
   ]
  },
  {
   "cell_type": "code",
   "execution_count": 57,
   "id": "0c75e011",
   "metadata": {},
   "outputs": [],
   "source": [
    "uid =2050"
   ]
  },
  {
   "cell_type": "code",
   "execution_count": 58,
   "id": "398b2ef9",
   "metadata": {},
   "outputs": [
    {
     "data": {
      "image/png": "[encoded data removed]",
      "text/plain": [
       "<Figure size 1000x600 with 1 Axes>"
      ]
     },
     "metadata": {},
     "output_type": "display_data"
    }
   ],
   "source": [
    "# 特定のuidを見る場合\n",
    "plt.figure(figsize=(10, 6))\n",
    "\n",
    "user_data = combined_data[combined_data['uid'] == uid]\n",
    "\n",
    "# 実際の軌跡をプロット（実線と丸マーカー）\n",
    "plt.plot(user_data['x'], user_data['y'], marker='o', label=f'Actual u_id {uid}')\n",
    "\n",
    "# 予測された軌跡をプロット（点線と×マーカー）\n",
    "plt.plot(user_data['x_pred'], user_data['y_pred'], marker='x', linestyle='--', label=f'Predicted u_id {uid}')\n",
    "\n",
    "plt.xlabel('X Coordinate')\n",
    "plt.ylabel('Y Coordinate')\n",
    "plt.title('Actual vs Predicted Trajectories for Each u_id')\n",
    "\n",
    "# 凡例をグラフの外に配置\n",
    "plt.legend(loc='upper left', bbox_to_anchor=(1, 1))\n",
    "plt.grid(True)\n",
    "\n",
    "plt.xlim(0, 200)  # x軸の範囲を設定\n",
    "plt.ylim(0, 200)  # y軸の範囲を設定\n",
    "\n",
    "# プロットを表示\n",
    "plt.tight_layout()\n",
    "plt.show()"
   ]
  },
  {
   "cell_type": "code",
   "execution_count": 59,
   "id": "4c8b2af9",
   "metadata": {},
   "outputs": [],
   "source": [
    "uid = 2050"
   ]
  },
  {
   "cell_type": "code",
   "execution_count": 60,
   "id": "bbb7bd85",
   "metadata": {},
   "outputs": [
    {
     "data": {
      "image/png": "[encoded data removed]",
      "text/plain": [
       "<Figure size 1200x600 with 2 Axes>"
      ]
     },
     "metadata": {},
     "output_type": "display_data"
    }
   ],
   "source": [
    "user_data = combined_data[combined_data['uid'] == uid]\n",
    "# DataFrameからx, yに分割\n",
    "x1 = user_data['x'].values\n",
    "y1 = user_data['y'].values\n",
    "x2 = user_data['x_pred'].values\n",
    "y2 = user_data['y_pred'].values\n",
    "\n",
    "# ヒストグラムのビンを設定 (0~200までの範囲に対して適切なビン数)\n",
    "bins = np.linspace(0, 200, 11)  # 0から200までの範囲で10等分\n",
    "\n",
    "# 1つ目のデータのヒストグラムを計算\n",
    "hist1, xedges1, yedges1 = np.histogram2d(x1, y1, bins=[bins, bins])\n",
    "\n",
    "# 2つ目のデータのヒストグラムを計算\n",
    "hist2, xedges2, yedges2 = np.histogram2d(x2, y2, bins=[bins, bins])\n",
    "\n",
    "# 1つ目の座標の中心点を取得\n",
    "xpos1, ypos1 = np.meshgrid(xedges1[:-1] + 10, yedges1[:-1] + 10, indexing=\"ij\")\n",
    "xpos1 = xpos1.ravel()\n",
    "ypos1 = ypos1.ravel()\n",
    "zpos1 = np.zeros_like(xpos1)\n",
    "\n",
    "# 2つ目の座標の中心点を取得\n",
    "xpos2, ypos2 = np.meshgrid(xedges2[:-1] + 10, yedges2[:-1] + 10, indexing=\"ij\")\n",
    "xpos2 = xpos2.ravel()\n",
    "ypos2 = ypos2.ravel()\n",
    "zpos2 = np.zeros_like(xpos2)\n",
    "\n",
    "# ビンの幅\n",
    "dx = dy = 20 * np.ones_like(zpos1)\n",
    "\n",
    "# 3Dヒストグラムをプロット\n",
    "fig = plt.figure(figsize=(12, 6))  # 図のサイズを指定\n",
    "\n",
    "# 1つ目のプロット\n",
    "ax1 = fig.add_subplot(121, projection='3d')  # 1行2列の1つ目\n",
    "ax1.bar3d(xpos1, ypos1, zpos1, dx, dy, hist1.ravel(), color='cyan', zsort='average')\n",
    "ax1.set_title(f'Actual uid={uid}')\n",
    "ax1.set_xlabel('X axis')\n",
    "ax1.set_ylabel('Y axis')\n",
    "ax1.set_zlabel('Frequency')\n",
    "\n",
    "ax1.set_xlim([0, 200])\n",
    "ax1.set_ylim([0, 200])\n",
    "# ax1.set_zlim([0, 150])  \n",
    "\n",
    "################\n",
    "\n",
    "# 2つ目のプロット\n",
    "ax2 = fig.add_subplot(122, projection='3d')  # 1行2列の2つ目\n",
    "ax2.bar3d(xpos2, ypos2, zpos2, dx, dy, hist2.ravel(), color='yellow', zsort='average')\n",
    "ax2.set_title(f'Predicted uid={uid}')\n",
    "ax2.set_xlabel('X axis')\n",
    "ax2.set_ylabel('Y axis')\n",
    "ax2.set_zlabel('Frequency')\n",
    "\n",
    "ax2.set_xlim([0, 200])\n",
    "ax2.set_ylim([0, 200])\n",
    "# ax2.set_zlim([0, 150])\n",
    "\n",
    "# プロットを表示\n",
    "plt.show()"
   ]
  },
  {
   "cell_type": "code",
   "execution_count": 61,
   "id": "da23339c",
   "metadata": {},
   "outputs": [
    {
     "data": {
      "image/png": "[encoded data removed]",
      "text/plain": [
       "<Figure size 640x480 with 1 Axes>"
      ]
     },
     "metadata": {},
     "output_type": "display_data"
    }
   ],
   "source": [
    "# 0~59日の行動状態も見てみる\n",
    "user_data = df_city_b_train[df_city_b_train['uid'] == uid]\n",
    "\n",
    "# DataFrameからx, yに分割\n",
    "x = user_data['x'].values\n",
    "y = user_data['y'].values\n",
    "\n",
    "# ヒストグラムのビンを設定 (0~200までの範囲に対して適切なビン数)\n",
    "bins = np.linspace(0, 200, 11)  # 0から200までの範囲で10等分\n",
    "\n",
    "# ヒストグラムを計算\n",
    "hist, xedges, yedges = np.histogram2d(x, y, bins=[bins, bins])\n",
    "\n",
    "# 座標の中心点を取得\n",
    "xpos, ypos = np.meshgrid(xedges[:-1] + 10, yedges[:-1] + 10, indexing=\"ij\")\n",
    "xpos = xpos.ravel()\n",
    "ypos = ypos.ravel()\n",
    "zpos = np.zeros_like(xpos)\n",
    "\n",
    "# ビンの幅\n",
    "dx = dy = 20 * np.ones_like(zpos)\n",
    "dz = hist.ravel()\n",
    "\n",
    "# 3Dヒストグラムをプロット\n",
    "fig = plt.figure()\n",
    "ax = fig.add_subplot(111, projection='3d')\n",
    "\n",
    "ax.bar3d(xpos, ypos, zpos, dx, dy, dz,color='green', zsort='average')\n",
    "ax.set_title(f'Actual uid={uid}(0~59days)')\n",
    "\n",
    "# 軸ラベル\n",
    "ax.set_xlabel('X axis')\n",
    "ax.set_ylabel('Y axis')\n",
    "ax.set_zlabel('Frequency')\n",
    "\n",
    "# Show plot\n",
    "plt.show()\n"
   ]
  },
  {
   "cell_type": "code",
   "execution_count": null,
   "id": "70672084",
   "metadata": {},
   "outputs": [],
   "source": []
  }
 ],
 "metadata": {
  "kaggle": {
   "accelerator": "none",
   "dataSources": [
    {
     "datasetId": 5618308,
     "sourceId": 9292243,
     "sourceType": "datasetVersion"
    }
   ],
   "dockerImageVersionId": 30761,
   "isGpuEnabled": false,
   "isInternetEnabled": true,
   "language": "python",
   "sourceType": "notebook"
  },
  "kernelspec": {
   "display_name": "Python 3",
   "language": "python",
   "name": "python3"
  },
  "language_info": {
   "codemirror_mode": {
    "name": "ipython",
    "version": 3
   },
   "file_extension": ".py",
   "mimetype": "text/x-python",
   "name": "python",
   "nbconvert_exporter": "python",
   "pygments_lexer": "ipython3",
   "version": "3.10.13"
  },
  "papermill": {
   "default_parameters": {},
   "duration": 4120.763799,
   "end_time": "2024-09-09T00:26:54.531163",
   "environment_variables": {},
   "exception": null,
   "input_path": "__notebook__.ipynb",
   "output_path": "__notebook__.ipynb",
   "parameters": {},
   "start_time": "2024-09-08T23:18:13.767364",
   "version": "2.6.0"
  },
  "toc": {
   "base_numbering": 1,
   "nav_menu": {},
   "number_sections": true,
   "sideBar": true,
   "skip_h1_title": false,
   "title_cell": "Table of Contents",
   "title_sidebar": "Contents",
   "toc_cell": false,
   "toc_position": {},
   "toc_section_display": true,
   "toc_window_display": false
  }
 },
 "nbformat": 4,
 "nbformat_minor": 5
}
