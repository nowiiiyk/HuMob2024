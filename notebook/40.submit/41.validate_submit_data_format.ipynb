{
 "cells": [
  {
   "cell_type": "markdown",
   "id": "a5cdb8fd",
   "metadata": {
    "papermill": {
     "duration": 0.013077,
     "end_time": "2024-09-08T23:18:16.884090",
     "exception": false,
     "start_time": "2024-09-08T23:18:16.871013",
     "status": "completed"
    },
    "tags": []
   },
   "source": [
    "# city SVR 最終データ出力"
   ]
  },
  {
   "cell_type": "markdown",
   "id": "987579ec",
   "metadata": {
    "papermill": {
     "duration": 0.012138,
     "end_time": "2024-09-08T23:18:16.909045",
     "exception": false,
     "start_time": "2024-09-08T23:18:16.896907",
     "status": "completed"
    },
    "tags": []
   },
   "source": [
    "#### 設定"
   ]
  },
  {
   "cell_type": "code",
   "execution_count": 1,
   "id": "a87e77b1",
   "metadata": {
    "execution": {
     "iopub.execute_input": "2024-09-08T23:18:16.935844Z",
     "iopub.status.busy": "2024-09-08T23:18:16.935382Z",
     "iopub.status.idle": "2024-09-08T23:18:38.890473Z",
     "shell.execute_reply": "2024-09-08T23:18:38.888967Z"
    },
    "papermill": {
     "duration": 21.971946,
     "end_time": "2024-09-08T23:18:38.893406",
     "exception": false,
     "start_time": "2024-09-08T23:18:16.921460",
     "status": "completed"
    },
    "tags": []
   },
   "outputs": [
    {
     "name": "stdout",
     "output_type": "stream",
     "text": [
      "fatal: destination path 'geobleu' already exists and is not an empty directory.\n",
      "Processing ./geobleu\n",
      "  Preparing metadata (setup.py) ... \u001b[?25ldone\n",
      "\u001b[?25hRequirement already satisfied: numpy in /opt/conda/lib/python3.10/site-packages (from geobleu==0.3) (1.26.4)\n",
      "Requirement already satisfied: scipy in /opt/conda/lib/python3.10/site-packages (from geobleu==0.3) (1.11.4)\n",
      "Building wheels for collected packages: geobleu\n",
      "  Building wheel for geobleu (setup.py) ... \u001b[?25ldone\n",
      "\u001b[?25h  Created wheel for geobleu: filename=geobleu-0.3-py3-none-any.whl size=5037 sha256=eef463804b6229a22fb963d3915b2e231eb0de486d07cdf8fe38c71d6d34053a\n",
      "  Stored in directory: /tmp/pip-ephem-wheel-cache-q2kcmvo1/wheels/90/15/a1/d49421f5100216d00a75ab920989107243909c099af9364987\n",
      "Successfully built geobleu\n",
      "Installing collected packages: geobleu\n",
      "  Attempting uninstall: geobleu\n",
      "    Found existing installation: geobleu 0.3\n",
      "    Uninstalling geobleu-0.3:\n",
      "      Successfully uninstalled geobleu-0.3\n",
      "Successfully installed geobleu-0.3\n"
     ]
    }
   ],
   "source": [
    "# BLEUのインストール\n",
    "!git clone https://github.com/yahoojapan/geobleu.git\n",
    "!pip install geobleu/"
   ]
  },
  {
   "cell_type": "code",
   "execution_count": 2,
   "id": "6d6bc9ba",
   "metadata": {
    "execution": {
     "iopub.execute_input": "2024-09-08T23:18:38.924493Z",
     "iopub.status.busy": "2024-09-08T23:18:38.923972Z",
     "iopub.status.idle": "2024-09-08T23:18:40.652668Z",
     "shell.execute_reply": "2024-09-08T23:18:40.651253Z"
    },
    "papermill": {
     "duration": 1.747304,
     "end_time": "2024-09-08T23:18:40.655574",
     "exception": false,
     "start_time": "2024-09-08T23:18:38.908270",
     "status": "completed"
    },
    "tags": []
   },
   "outputs": [],
   "source": [
    "import pandas as pd\n",
    "import numpy as np\n",
    "import geobleu\n",
    "from tqdm import tqdm\n",
    "import matplotlib.pyplot as plt"
   ]
  },
  {
   "cell_type": "code",
   "execution_count": 3,
   "id": "cf8667bd",
   "metadata": {},
   "outputs": [
    {
     "name": "stdout",
     "output_type": "stream",
     "text": [
      " df_city_b_train_ip_cityB.csv\n",
      " df_city_b_train_ip_cityC.csv\n",
      " df_city_b_train_ip_cityD.csv\n",
      " future_predictions_df_cityB.csv\n",
      " future_predictions_df_cityC.csv\n",
      " future_predictions_df_cityD.csv\n",
      " geobleu\n",
      "'humob-SVR_ver40_cityB_'$'\\346\\234\\254\\347\\225\\252''.ipynb'\n",
      "'humob-SVR_ver40_cityC_'$'\\346\\234\\254\\347\\225\\252''.ipynb'\n",
      "'humob-SVR_ver40_cityD_'$'\\346\\234\\254\\347\\225\\252''.ipynb'\n",
      "'humob-SVR_'$'\\343\\203\\207\\343\\203\\274\\343\\202\\277\\346\\225\\264\\345\\275\\242''.ipynb'\n"
     ]
    }
   ],
   "source": [
    "!ls"
   ]
  },
  {
   "cell_type": "code",
   "execution_count": 140,
   "id": "c9ffd61d",
   "metadata": {},
   "outputs": [],
   "source": [
    "city = \"C\" # B,C,D"
   ]
  },
  {
   "cell_type": "code",
   "execution_count": 141,
   "id": "ea8c381d",
   "metadata": {
    "execution": {
     "iopub.execute_input": "2024-09-08T23:18:40.753150Z",
     "iopub.status.busy": "2024-09-08T23:18:40.752026Z",
     "iopub.status.idle": "2024-09-08T23:18:40.757430Z",
     "shell.execute_reply": "2024-09-08T23:18:40.756434Z"
    },
    "papermill": {
     "duration": 0.023834,
     "end_time": "2024-09-08T23:18:40.759768",
     "exception": false,
     "start_time": "2024-09-08T23:18:40.735934",
     "status": "completed"
    },
    "tags": []
   },
   "outputs": [],
   "source": [
    "INPUT_PATH = f\"../../../s3storage/01_public/humob-challenge-2024/input/city{city}_challengedata.csv.gz\"\n",
    "INPUT_PATH_future = f\"future_predictions_df_city{city}.csv\""
   ]
  },
  {
   "cell_type": "markdown",
   "id": "65c0a55b",
   "metadata": {
    "papermill": {
     "duration": 0.013391,
     "end_time": "2024-09-08T23:18:40.786739",
     "exception": false,
     "start_time": "2024-09-08T23:18:40.773348",
     "status": "completed"
    },
    "tags": []
   },
   "source": [
    "#### データ読み込み"
   ]
  },
  {
   "cell_type": "code",
   "execution_count": 150,
   "id": "6fe95c4c",
   "metadata": {},
   "outputs": [
    {
     "data": {
      "text/html": [
       "<div>\n",
       "<style scoped>\n",
       "    .dataframe tbody tr th:only-of-type {\n",
       "        vertical-align: middle;\n",
       "    }\n",
       "\n",
       "    .dataframe tbody tr th {\n",
       "        vertical-align: top;\n",
       "    }\n",
       "\n",
       "    .dataframe thead th {\n",
       "        text-align: right;\n",
       "    }\n",
       "</style>\n",
       "<table border=\"1\" class=\"dataframe\">\n",
       "  <thead>\n",
       "    <tr style=\"text-align: right;\">\n",
       "      <th></th>\n",
       "      <th>uid</th>\n",
       "      <th>d</th>\n",
       "      <th>t</th>\n",
       "      <th>x</th>\n",
       "      <th>y</th>\n",
       "    </tr>\n",
       "  </thead>\n",
       "  <tbody>\n",
       "    <tr>\n",
       "      <th>0</th>\n",
       "      <td>0</td>\n",
       "      <td>5</td>\n",
       "      <td>15</td>\n",
       "      <td>28</td>\n",
       "      <td>157</td>\n",
       "    </tr>\n",
       "    <tr>\n",
       "      <th>1</th>\n",
       "      <td>0</td>\n",
       "      <td>5</td>\n",
       "      <td>16</td>\n",
       "      <td>28</td>\n",
       "      <td>158</td>\n",
       "    </tr>\n",
       "    <tr>\n",
       "      <th>2</th>\n",
       "      <td>0</td>\n",
       "      <td>5</td>\n",
       "      <td>17</td>\n",
       "      <td>28</td>\n",
       "      <td>157</td>\n",
       "    </tr>\n",
       "    <tr>\n",
       "      <th>3</th>\n",
       "      <td>0</td>\n",
       "      <td>5</td>\n",
       "      <td>18</td>\n",
       "      <td>29</td>\n",
       "      <td>158</td>\n",
       "    </tr>\n",
       "    <tr>\n",
       "      <th>4</th>\n",
       "      <td>0</td>\n",
       "      <td>5</td>\n",
       "      <td>19</td>\n",
       "      <td>27</td>\n",
       "      <td>157</td>\n",
       "    </tr>\n",
       "  </tbody>\n",
       "</table>\n",
       "</div>"
      ],
      "text/plain": [
       "   uid  d   t   x    y\n",
       "0    0  5  15  28  157\n",
       "1    0  5  16  28  158\n",
       "2    0  5  17  28  157\n",
       "3    0  5  18  29  158\n",
       "4    0  5  19  27  157"
      ]
     },
     "execution_count": 150,
     "metadata": {},
     "output_type": "execute_result"
    }
   ],
   "source": [
    "df_city = pd.read_csv(INPUT_PATH)\n",
    "df_city.head()"
   ]
  },
  {
   "cell_type": "code",
   "execution_count": 143,
   "id": "8c90754f",
   "metadata": {},
   "outputs": [],
   "source": [
    "# あとで使うので解凍したcsvを出力\n",
    "df_city.to_csv(f\"df_city{city}.csv\",index=False)"
   ]
  },
  {
   "cell_type": "code",
   "execution_count": 151,
   "id": "0e72c91d",
   "metadata": {
    "execution": {
     "iopub.execute_input": "2024-09-08T23:18:40.816062Z",
     "iopub.status.busy": "2024-09-08T23:18:40.815594Z",
     "iopub.status.idle": "2024-09-08T23:18:58.218620Z",
     "shell.execute_reply": "2024-09-08T23:18:58.217308Z"
    },
    "papermill": {
     "duration": 17.421038,
     "end_time": "2024-09-08T23:18:58.221514",
     "exception": false,
     "start_time": "2024-09-08T23:18:40.800476",
     "status": "completed"
    },
    "tags": []
   },
   "outputs": [
    {
     "data": {
      "text/html": [
       "<div>\n",
       "<style scoped>\n",
       "    .dataframe tbody tr th:only-of-type {\n",
       "        vertical-align: middle;\n",
       "    }\n",
       "\n",
       "    .dataframe tbody tr th {\n",
       "        vertical-align: top;\n",
       "    }\n",
       "\n",
       "    .dataframe thead th {\n",
       "        text-align: right;\n",
       "    }\n",
       "</style>\n",
       "<table border=\"1\" class=\"dataframe\">\n",
       "  <thead>\n",
       "    <tr style=\"text-align: right;\">\n",
       "      <th></th>\n",
       "      <th>uid</th>\n",
       "      <th>d</th>\n",
       "      <th>t</th>\n",
       "      <th>x</th>\n",
       "      <th>y</th>\n",
       "    </tr>\n",
       "  </thead>\n",
       "  <tbody>\n",
       "    <tr>\n",
       "      <th>0</th>\n",
       "      <td>17000</td>\n",
       "      <td>60</td>\n",
       "      <td>0</td>\n",
       "      <td>44.0</td>\n",
       "      <td>145.0</td>\n",
       "    </tr>\n",
       "    <tr>\n",
       "      <th>1</th>\n",
       "      <td>17000</td>\n",
       "      <td>60</td>\n",
       "      <td>1</td>\n",
       "      <td>44.0</td>\n",
       "      <td>145.0</td>\n",
       "    </tr>\n",
       "    <tr>\n",
       "      <th>2</th>\n",
       "      <td>17000</td>\n",
       "      <td>60</td>\n",
       "      <td>2</td>\n",
       "      <td>44.0</td>\n",
       "      <td>145.0</td>\n",
       "    </tr>\n",
       "    <tr>\n",
       "      <th>3</th>\n",
       "      <td>17000</td>\n",
       "      <td>60</td>\n",
       "      <td>3</td>\n",
       "      <td>44.0</td>\n",
       "      <td>145.0</td>\n",
       "    </tr>\n",
       "    <tr>\n",
       "      <th>4</th>\n",
       "      <td>17000</td>\n",
       "      <td>60</td>\n",
       "      <td>4</td>\n",
       "      <td>44.0</td>\n",
       "      <td>145.0</td>\n",
       "    </tr>\n",
       "  </tbody>\n",
       "</table>\n",
       "</div>"
      ],
      "text/plain": [
       "     uid   d  t     x      y\n",
       "0  17000  60  0  44.0  145.0\n",
       "1  17000  60  1  44.0  145.0\n",
       "2  17000  60  2  44.0  145.0\n",
       "3  17000  60  3  44.0  145.0\n",
       "4  17000  60  4  44.0  145.0"
      ]
     },
     "execution_count": 151,
     "metadata": {},
     "output_type": "execute_result"
    }
   ],
   "source": [
    "df_city_future = (\n",
    "    pd.read_csv(INPUT_PATH_future)\n",
    "    [[\"uid\",\"d\",\"t\",\"x\",\"y\"]]\n",
    ")\n",
    "df_city_future.head()"
   ]
  },
  {
   "cell_type": "code",
   "execution_count": 152,
   "id": "14bf12bd",
   "metadata": {},
   "outputs": [],
   "source": [
    "df_city_answer = (\n",
    "    df_city\n",
    "    # .loc[df_city[\"uid\"].between(22000, 25000)] #B\n",
    "    .loc[df_city[\"uid\"].between(17000, 20000)] #C\n",
    "    # .loc[df_city[\"uid\"].between(3000, 6000)] #D\n",
    "    .loc[df_city[\"d\"] >= 60]\n",
    ").drop(columns=[\"x\",\"y\"])"
   ]
  },
  {
   "cell_type": "code",
   "execution_count": 153,
   "id": "33de554f",
   "metadata": {},
   "outputs": [],
   "source": [
    "df_city_answer_with_predict = (\n",
    "    pd.merge(\n",
    "        df_city_answer,\n",
    "        df_city_future,\n",
    "        on = [\"uid\",\"d\",\"t\"],\n",
    "        how = \"left\"\n",
    "    )   \n",
    ")\n",
    "\n",
    "df_city_answer_with_predict[\"x\"] = df_city_answer_with_predict[\"x\"].astype(int)\n",
    "df_city_answer_with_predict[\"y\"] = df_city_answer_with_predict[\"y\"].astype(int)"
   ]
  },
  {
   "cell_type": "code",
   "execution_count": 154,
   "id": "0e8d8f9f",
   "metadata": {},
   "outputs": [
    {
     "data": {
      "text/html": [
       "<div>\n",
       "<style scoped>\n",
       "    .dataframe tbody tr th:only-of-type {\n",
       "        vertical-align: middle;\n",
       "    }\n",
       "\n",
       "    .dataframe tbody tr th {\n",
       "        vertical-align: top;\n",
       "    }\n",
       "\n",
       "    .dataframe thead th {\n",
       "        text-align: right;\n",
       "    }\n",
       "</style>\n",
       "<table border=\"1\" class=\"dataframe\">\n",
       "  <thead>\n",
       "    <tr style=\"text-align: right;\">\n",
       "      <th></th>\n",
       "      <th>uid</th>\n",
       "      <th>d</th>\n",
       "      <th>t</th>\n",
       "      <th>x</th>\n",
       "      <th>y</th>\n",
       "    </tr>\n",
       "  </thead>\n",
       "  <tbody>\n",
       "    <tr>\n",
       "      <th>0</th>\n",
       "      <td>17000</td>\n",
       "      <td>60</td>\n",
       "      <td>14</td>\n",
       "      <td>35</td>\n",
       "      <td>140</td>\n",
       "    </tr>\n",
       "    <tr>\n",
       "      <th>1</th>\n",
       "      <td>17000</td>\n",
       "      <td>60</td>\n",
       "      <td>15</td>\n",
       "      <td>35</td>\n",
       "      <td>140</td>\n",
       "    </tr>\n",
       "    <tr>\n",
       "      <th>2</th>\n",
       "      <td>17000</td>\n",
       "      <td>60</td>\n",
       "      <td>16</td>\n",
       "      <td>35</td>\n",
       "      <td>140</td>\n",
       "    </tr>\n",
       "    <tr>\n",
       "      <th>3</th>\n",
       "      <td>17000</td>\n",
       "      <td>60</td>\n",
       "      <td>17</td>\n",
       "      <td>35</td>\n",
       "      <td>140</td>\n",
       "    </tr>\n",
       "    <tr>\n",
       "      <th>4</th>\n",
       "      <td>17000</td>\n",
       "      <td>60</td>\n",
       "      <td>18</td>\n",
       "      <td>45</td>\n",
       "      <td>139</td>\n",
       "    </tr>\n",
       "  </tbody>\n",
       "</table>\n",
       "</div>"
      ],
      "text/plain": [
       "     uid   d   t   x    y\n",
       "0  17000  60  14  35  140\n",
       "1  17000  60  15  35  140\n",
       "2  17000  60  16  35  140\n",
       "3  17000  60  17  35  140\n",
       "4  17000  60  18  45  139"
      ]
     },
     "execution_count": 154,
     "metadata": {},
     "output_type": "execute_result"
    }
   ],
   "source": [
    "df_city_answer_with_predict.head()"
   ]
  },
  {
   "cell_type": "code",
   "execution_count": 156,
   "id": "3b1796ca",
   "metadata": {},
   "outputs": [
    {
     "data": {
      "text/plain": [
       "(449308, 5)"
      ]
     },
     "execution_count": 156,
     "metadata": {},
     "output_type": "execute_result"
    }
   ],
   "source": [
    "# 結果の確認\n",
    "print(len(df_city_answer_with_predict[\"uid\"].unique()))\n",
    "print(df_city_answer_with_predict.shape)"
   ]
  },
  {
   "cell_type": "markdown",
   "id": "a8a0310e",
   "metadata": {},
   "source": [
    "### 提出データの出力"
   ]
  },
  {
   "cell_type": "code",
   "execution_count": 157,
   "id": "fa00cf57",
   "metadata": {},
   "outputs": [
    {
     "data": {
      "text/plain": [
       "'TeamName_cityC_humob24.csv'"
      ]
     },
     "execution_count": 157,
     "metadata": {},
     "output_type": "execute_result"
    }
   ],
   "source": [
    "f\"TeamName_city{city}_humob24.csv\""
   ]
  },
  {
   "cell_type": "code",
   "execution_count": 158,
   "id": "9674a422",
   "metadata": {},
   "outputs": [],
   "source": [
    "# Validator用にcsv出力\n",
    "df_city_answer_with_predict.to_csv(f\"TeamName_city{city}_humob24.csv\",index=False)"
   ]
  },
  {
   "cell_type": "code",
   "execution_count": 159,
   "id": "7c0a1fe4",
   "metadata": {},
   "outputs": [],
   "source": [
    "# 提出用にcsv.gz出力\n",
    "df_city_answer_with_predict.to_csv(f\"TeamName_city{city}_humob24.csv.gz\",index=False,compression=\"gzip\")"
   ]
  },
  {
   "cell_type": "markdown",
   "id": "41e716bd",
   "metadata": {},
   "source": [
    "#### ここまでをcityB,C,Dで繰り返して出力"
   ]
  },
  {
   "cell_type": "markdown",
   "id": "f3274f42",
   "metadata": {},
   "source": [
    "### Validator"
   ]
  },
  {
   "cell_type": "code",
   "execution_count": 160,
   "id": "f4f0a4f3",
   "metadata": {},
   "outputs": [
    {
     "name": "stdout",
     "output_type": "stream",
     "text": [
      "Loading the submission file...\n",
      "\n",
      "Checking the set of uid's...\n",
      "\n",
      "Now loading the dataset file and comparing the submission data to it...\n",
      "\n",
      "Validation finished without errors!\n"
     ]
    }
   ],
   "source": [
    "# cityB\n",
    "!python3 geobleu/validator.py b df_cityB.csv TeamName_cityB_humob24.csv"
   ]
  },
  {
   "cell_type": "code",
   "execution_count": 161,
   "id": "7ef3dfa8",
   "metadata": {},
   "outputs": [
    {
     "name": "stdout",
     "output_type": "stream",
     "text": [
      "Loading the submission file...\n",
      "\n",
      "Checking the set of uid's...\n",
      "\n",
      "Now loading the dataset file and comparing the submission data to it...\n",
      "\n",
      "Validation finished without errors!\n"
     ]
    }
   ],
   "source": [
    "# cityC\n",
    "!python3 geobleu/validator.py c df_cityC.csv TeamName_cityC_humob24.csv"
   ]
  },
  {
   "cell_type": "code",
   "execution_count": 162,
   "id": "9f38211e",
   "metadata": {},
   "outputs": [
    {
     "name": "stdout",
     "output_type": "stream",
     "text": [
      "Loading the submission file...\n",
      "\n",
      "Checking the set of uid's...\n",
      "\n",
      "Now loading the dataset file and comparing the submission data to it...\n",
      "\n",
      "Validation finished without errors!\n"
     ]
    }
   ],
   "source": [
    "# cityD\n",
    "!python3 geobleu/validator.py d df_cityD.csv TeamName_cityD_humob24.csv"
   ]
  },
  {
   "cell_type": "code",
   "execution_count": null,
   "id": "d67571bb",
   "metadata": {},
   "outputs": [],
   "source": []
  }
 ],
 "metadata": {
  "kaggle": {
   "accelerator": "none",
   "dataSources": [
    {
     "datasetId": 5618308,
     "sourceId": 9292243,
     "sourceType": "datasetVersion"
    }
   ],
   "dockerImageVersionId": 30761,
   "isGpuEnabled": false,
   "isInternetEnabled": true,
   "language": "python",
   "sourceType": "notebook"
  },
  "kernelspec": {
   "display_name": "Python 3",
   "language": "python",
   "name": "python3"
  },
  "language_info": {
   "codemirror_mode": {
    "name": "ipython",
    "version": 3
   },
   "file_extension": ".py",
   "mimetype": "text/x-python",
   "name": "python",
   "nbconvert_exporter": "python",
   "pygments_lexer": "ipython3",
   "version": "3.10.13"
  },
  "papermill": {
   "default_parameters": {},
   "duration": 4120.763799,
   "end_time": "2024-09-09T00:26:54.531163",
   "environment_variables": {},
   "exception": null,
   "input_path": "__notebook__.ipynb",
   "output_path": "__notebook__.ipynb",
   "parameters": {},
   "start_time": "2024-09-08T23:18:13.767364",
   "version": "2.6.0"
  },
  "toc": {
   "base_numbering": 1,
   "nav_menu": {},
   "number_sections": true,
   "sideBar": true,
   "skip_h1_title": false,
   "title_cell": "Table of Contents",
   "title_sidebar": "Contents",
   "toc_cell": false,
   "toc_position": {},
   "toc_section_display": true,
   "toc_window_display": false
  }
 },
 "nbformat": 4,
 "nbformat_minor": 5
}
