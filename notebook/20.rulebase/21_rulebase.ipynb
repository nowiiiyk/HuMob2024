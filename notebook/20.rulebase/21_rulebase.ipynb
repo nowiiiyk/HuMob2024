{
 "cells": [
  {
   "cell_type": "markdown",
   "metadata": {},
   "source": [
    "## ルールベースによる予測"
   ]
  },
  {
   "cell_type": "markdown",
   "metadata": {},
   "source": [
    "### 設定"
   ]
  },
  {
   "cell_type": "code",
   "execution_count": null,
   "metadata": {
    "vscode": {
     "languageId": "plaintext"
    }
   },
   "outputs": [],
   "source": [
    "import pandas as pd\n",
    "import numpy as np\n",
    "\n",
    "import geobleu\n",
    "\n",
    "from IPython.display import clear_output"
   ]
  },
  {
   "cell_type": "markdown",
   "metadata": {},
   "source": [
    "### 定数定義"
   ]
  },
  {
   "cell_type": "code",
   "execution_count": null,
   "metadata": {
    "vscode": {
     "languageId": "plaintext"
    }
   },
   "outputs": [],
   "source": [
    "INPUT_PATH = \"../../data/cityB_challengedata_interpolated.csv\"\n",
    "\n",
    "# 予測を行うuid区間（デバッグ時など、処理時間短縮が必要な場合に設定）\n",
    "UID_VALID_S = 20000\n",
    "UID_VALID_E = 21999\n",
    "\n",
    "# 教師データの区間数\n",
    "D_TRAIN_RANGE = 60\n",
    "\n",
    "# 1日を30分ごとの時間帯に分割したときの区間数\n",
    "T_RANGE = 48\n",
    "\n",
    "# 7:00～20:00を日中と定義\n",
    "MORNING_T = 14 # AM7時\n",
    "NIGHT_T = 40 # PM8時\n",
    "\n",
    "# 曜日の数（不変）\n",
    "DOW_COUNT = 7"
   ]
  },
  {
   "cell_type": "markdown",
   "metadata": {},
   "source": [
    "### データ読み込み・分割"
   ]
  },
  {
   "cell_type": "code",
   "execution_count": null,
   "metadata": {
    "vscode": {
     "languageId": "plaintext"
    }
   },
   "outputs": [],
   "source": [
    "df = pd.read_csv(INPUT_PATH)\n",
    "df"
   ]
  },
  {
   "cell_type": "code",
   "execution_count": null,
   "metadata": {
    "vscode": {
     "languageId": "plaintext"
    }
   },
   "outputs": [],
   "source": [
    "# 曜日カラム\n",
    "df[\"dow\"] = df[\"d\"] % DOW_COUNT\n",
    "# 日中/夜間カラム\n",
    "df[\"t_label\"] = (\n",
    "    df[\"t\"]\n",
    "    .apply(lambda x: \"daytime\" if MORNING_T <= x < NIGHT_T else \"nighttime\")  \n",
    ")\n",
    "df"
   ]
  },
  {
   "cell_type": "code",
   "execution_count": null,
   "metadata": {
    "vscode": {
     "languageId": "plaintext"
    }
   },
   "outputs": [],
   "source": [
    "# uidが20000~21999のデータを検証に利用\n",
    "df_valid = (\n",
    "    df\n",
    "    .loc[df[\"uid\"].between(UID_VALID_S, UID_VALID_E)]\n",
    ")\n",
    "df_valid"
   ]
  },
  {
   "cell_type": "code",
   "execution_count": null,
   "metadata": {
    "vscode": {
     "languageId": "plaintext"
    }
   },
   "outputs": [],
   "source": [
    "# 教師データと予測対象データを分割\n",
    "df_train = (\n",
    "    df_valid\n",
    "    .loc[df_valid[\"d\"] < D_TRAIN_RANGE]\n",
    ")\n",
    "\n",
    "df_target = (\n",
    "    df_valid\n",
    "    .loc[df_valid[\"d\"] >= D_TRAIN_RANGE]\n",
    ")"
   ]
  },
  {
   "cell_type": "markdown",
   "metadata": {},
   "source": [
    "### 欠損値補完テーブル作成"
   ]
  },
  {
   "cell_type": "code",
   "execution_count": null,
   "metadata": {
    "vscode": {
     "languageId": "plaintext"
    }
   },
   "outputs": [],
   "source": [
    "# uid×dow×t毎に最頻値を算出\n",
    "df_dow_t_mode = (\n",
    "    df_train\n",
    "    .groupby([\"uid\", \"dow\", \"t\"])\n",
    "    [[\"x\", \"y\"]]\n",
    "    .agg(\n",
    "        lambda x: x.mode().iloc[0]\n",
    "    )\n",
    "    .reset_index()\n",
    "\n",
    "    .rename(\n",
    "        columns={\"x\": \"dow_t_x\", \"y\": \"dow_t_y\"}\n",
    "    )\n",
    ")\n",
    "df_dow_t_mode"
   ]
  },
  {
   "cell_type": "code",
   "execution_count": null,
   "metadata": {
    "vscode": {
     "languageId": "plaintext"
    }
   },
   "outputs": [],
   "source": [
    "# uid×t毎に最頻値を算出\n",
    "df_t_mode = (\n",
    "    df_train\n",
    "    .groupby([\"uid\", \"t\"])\n",
    "    [[\"x\", \"y\"]]\n",
    "    .agg(\n",
    "        lambda x: x.mode().iloc[0]\n",
    "    )\n",
    "    .reset_index()\n",
    "\n",
    "    .rename(\n",
    "        columns={\"x\": \"t_x\", \"y\": \"t_y\"}\n",
    "    )\n",
    ")\n",
    "df_t_mode"
   ]
  },
  {
   "cell_type": "code",
   "execution_count": null,
   "metadata": {
    "vscode": {
     "languageId": "plaintext"
    }
   },
   "outputs": [],
   "source": [
    "# uid×dow×t_label毎に最頻値を算出\n",
    "df_dow_t_label_mode = (\n",
    "    df_train\n",
    "    .groupby([\"uid\", \"dow\", \"t_label\"])\n",
    "    [[\"x\", \"y\"]]\n",
    "    .agg(\n",
    "        lambda x: x.mode().iloc[0]\n",
    "    )\n",
    "    .reset_index()\n",
    "\n",
    "    .rename(\n",
    "        columns={\"x\": \"dow_t_label_x\", \"y\": \"dow_t_label_y\"}\n",
    "    )\n",
    ")\n",
    "df_dow_t_label_mode"
   ]
  },
  {
   "cell_type": "code",
   "execution_count": null,
   "metadata": {
    "vscode": {
     "languageId": "plaintext"
    }
   },
   "outputs": [],
   "source": [
    "# uid×t_label毎に最頻値を算出\n",
    "df_t_label_mode = (\n",
    "    df_train\n",
    "    .groupby([\"uid\", \"t_label\"])\n",
    "    [[\"x\", \"y\"]]\n",
    "    .agg(\n",
    "        lambda x: x.mode().iloc[0]\n",
    "    )\n",
    "    .reset_index()\n",
    "\n",
    "    .rename(\n",
    "        columns={\"x\": \"t_label_x\", \"y\": \"t_label_y\"}\n",
    "    )\n",
    ")\n",
    "df_t_label_mode"
   ]
  },
  {
   "cell_type": "code",
   "execution_count": null,
   "metadata": {
    "vscode": {
     "languageId": "plaintext"
    }
   },
   "outputs": [],
   "source": [
    "# uid毎に最頻値を算出\n",
    "df_uid_mode = (\n",
    "    df_train\n",
    "    .groupby([\"uid\"])\n",
    "    [[\"x\", \"y\"]]\n",
    "    .agg(\n",
    "        lambda x: x.mode().iloc[0]\n",
    "    )\n",
    "    .reset_index()\n",
    "\n",
    "    .rename(\n",
    "        columns={\"x\": \"uid_x\", \"y\": \"uid_y\"}\n",
    "    )\n",
    ")\n",
    "df_uid_mode"
   ]
  },
  {
   "cell_type": "markdown",
   "metadata": {},
   "source": [
    "### 予測"
   ]
  },
  {
   "cell_type": "code",
   "execution_count": null,
   "metadata": {
    "vscode": {
     "languageId": "plaintext"
    }
   },
   "outputs": [],
   "source": [
    "# 欠損値補完テーブルを結合\n",
    "df_pred = (\n",
    "    df_target\n",
    "    .merge(df_dow_t_mode, on=[\"uid\", \"dow\", \"t\"], how=\"left\")\n",
    "    .merge(df_t_mode, on=[\"uid\", \"t\"], how=\"left\")\n",
    "    .merge(df_dow_t_label_mode, on=[\"uid\", \"dow\", \"t_label\"], how=\"left\")\n",
    "    .merge(df_t_label_mode, on=[\"uid\", \"t_label\"], how=\"left\")\n",
    "    .merge(df_uid_mode, on=[\"uid\"], how=\"left\")\n",
    ")\n",
    "df_pred"
   ]
  },
  {
   "cell_type": "code",
   "execution_count": null,
   "metadata": {
    "vscode": {
     "languageId": "plaintext"
    }
   },
   "outputs": [],
   "source": [
    "# 優先順位をつけて最終的な予測値を算出\n",
    "df_pred[\"pred_x\"] = (\n",
    "    df_pred[\"dow_t_x\"]\n",
    "    .fillna(df_pred[\"t_x\"])\n",
    "    .fillna(df_pred[\"dow_t_label_x\"])\n",
    "    .fillna(df_pred[\"t_label_x\"])\n",
    "    .fillna(df_pred[\"uid_x\"])\n",
    ")\n",
    "\n",
    "df_pred[\"pred_y\"] = (\n",
    "    df_pred[\"dow_t_y\"]\n",
    "    .fillna(df_pred[\"t_y\"])\n",
    "    .fillna(df_pred[\"dow_t_label_y\"])\n",
    "    .fillna(df_pred[\"t_label_y\"])\n",
    "    .fillna(df_pred[\"uid_y\"])\n",
    ")"
   ]
  },
  {
   "cell_type": "code",
   "execution_count": null,
   "metadata": {
    "vscode": {
     "languageId": "plaintext"
    }
   },
   "outputs": [],
   "source": [
    "# 最終的なdf\n",
    "df_pred[[\"uid\", \"d\", \"t\", \"x\", \"y\", \"pred_x\", \"pred_y\"]]"
   ]
  },
  {
   "cell_type": "markdown",
   "metadata": {},
   "source": [
    "### 精度検証"
   ]
  },
  {
   "cell_type": "code",
   "execution_count": null,
   "metadata": {
    "vscode": {
     "languageId": "plaintext"
    }
   },
   "outputs": [],
   "source": [
    "list_geobleu_val = []\n",
    "list_dtw_val = []\n",
    "\n",
    "for uid in range(UID_VALID_S, UID_VALID_E+1):\n",
    "    clear_output(True)\n",
    "    print(f\"処理中のuid:{uid}\")\n",
    "    \n",
    "    # 該当uidのデータを抽出\n",
    "    df_pred_uid = (\n",
    "        df_pred\n",
    "        .loc[df_pred[\"uid\"] == uid]\n",
    "    )\n",
    "\n",
    "    # 予測値のリスト\n",
    "    df_pred_xy = df_pred_uid[[\"d\", \"t\", \"pred_x\", \"pred_y\"]]\n",
    "    list_pred = [tuple(row) for row in df_pred_xy.to_records(index=False)]\n",
    "\n",
    "    # 正解値のリスト\n",
    "    df_true_xy = df_pred_uid[[\"d\", \"t\", \"x\", \"y\"]]\n",
    "    list_true = [tuple(row) for row in df_true_xy.to_records(index=False)]\n",
    "\n",
    "    # スコア算出\n",
    "    geobleu_val = geobleu.calc_geobleu(list_pred, list_true, processes=3)\n",
    "    list_geobleu_val.append(geobleu_val)\n",
    "    \n",
    "    dtw_val = geobleu.calc_dtw(list_pred, list_true, processes=3)\n",
    "    list_dtw_val.append(dtw_val)"
   ]
  },
  {
   "cell_type": "code",
   "execution_count": null,
   "metadata": {
    "vscode": {
     "languageId": "plaintext"
    }
   },
   "outputs": [],
   "source": [
    "print(f\"geobleu:{np.mean(list_geobleu_val)}\")\n",
    "print(f\"dtw:{np.mean(list_dtw_val)}\")"
   ]
  }
 ],
 "metadata": {
  "kernelspec": {
   "display_name": "Python 3 (ipykernel)",
   "language": "python",
   "name": "python3"
  },
  "language_info": {
   "codemirror_mode": {
    "name": "ipython",
    "version": 3
   },
   "file_extension": ".py",
   "mimetype": "text/x-python",
   "name": "python",
   "nbconvert_exporter": "python",
   "pygments_lexer": "ipython3",
   "version": "3.12.4"
  }
 },
 "nbformat": 4,
 "nbformat_minor": 4
}
